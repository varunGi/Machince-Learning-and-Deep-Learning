{
  "cells": [
    {
      "cell_type": "markdown",
      "metadata": {
        "id": "tCe4tGLQSfZK"
      },
      "source": [
        "# Working with Text Data - Preprocessing and Text to Numerical Vector"
      ]
    },
    {
      "cell_type": "markdown",
      "metadata": {
        "id": "iD4dZM5cSfZN"
      },
      "source": [
        "### Text Data\n",
        "\n",
        "Text Analysis is a major application field for machine learning algorithms. Some of the major application areas of NLP are:\n",
        "1. Spell Checker, Keyword Search, etc\n",
        "2. Sentiment Analysis, Spam Classification\n",
        "3. Machine Translation\n",
        "4. Chatbots/Dialog Systems\n",
        "5. Question Answering Systems\n",
        "etc..\n",
        "\n",
        "However the raw data, a sequence of symbols cannot be fed directly to the algorithms themselves as most of them expect numerical feature vectors with a fixed size rather than the raw text documents with variable length.\n",
        "\n",
        "### Why NLP is hard?\n",
        "1. Complexity of representation\n",
        "2. Ambiguity in Natural Langugae\n",
        "\n",
        "\n",
        "### Text Preprocessing\n",
        "\n",
        "1. Tokenisation  \n",
        "2. Removing special characters  \n",
        "3. Convert sentence into lower case  \n",
        "4. Removing stop words  \n",
        "5. Stemming or Lemmatization\n",
        "\n",
        "\n",
        "### Techniques to convert Text to Numerical Vectors\n",
        "\n",
        "1. Bag of Words\n",
        "2. TF IDF (Term Frequency - Inverse Document Frequency)\n",
        "3. Word2Vec (by Google)\n",
        "4. GloVe (Global Vectors by Stanford) - **Not Covered in this notebook**\n",
        "5. Pretrained GloVe Embeddings\n",
        "6. FastText (by Facebook) - **Not Covered in this notebook**\n",
        "7. ELMo (Embeddings from Language Models) - **Not Covered in this notebook**\n",
        "8. BERT (Bidirectional Encoder Representations from Transformer)"
      ]
    },
    {
      "cell_type": "markdown",
      "metadata": {
        "id": "EckRvkZfSfZO"
      },
      "source": [
        "## Data Preparation"
      ]
    },
    {
      "cell_type": "code",
      "execution_count": 21,
      "metadata": {
        "id": "F9HiupNmSfZP"
      },
      "outputs": [],
      "source": [
        "import numpy as np\n",
        "import pandas as pd\n",
        "\n",
        "import matplotlib.pyplot as plt\n",
        "import seaborn as sns"
      ]
    },
    {
      "cell_type": "code",
      "execution_count": 22,
      "metadata": {
        "id": "bBaVlqifSfZQ",
        "outputId": "ae540953-0a40-48d8-a446-b43184f686a8",
        "colab": {
          "base_uri": "https://localhost:8080/",
          "height": 175
        }
      },
      "outputs": [
        {
          "output_type": "execute_result",
          "data": {
            "text/plain": [
              "                            text\n",
              "0     it Was the best oF Times $\n",
              "1     It was The worst of times.\n",
              "2     IT 9 was tHe age Of wisdom\n",
              "3  it was thE age of foolishness"
            ],
            "text/html": [
              "\n",
              "  <div id=\"df-2a06fdc6-1375-41b8-96b4-a420f8744c7d\">\n",
              "    <div class=\"colab-df-container\">\n",
              "      <div>\n",
              "<style scoped>\n",
              "    .dataframe tbody tr th:only-of-type {\n",
              "        vertical-align: middle;\n",
              "    }\n",
              "\n",
              "    .dataframe tbody tr th {\n",
              "        vertical-align: top;\n",
              "    }\n",
              "\n",
              "    .dataframe thead th {\n",
              "        text-align: right;\n",
              "    }\n",
              "</style>\n",
              "<table border=\"1\" class=\"dataframe\">\n",
              "  <thead>\n",
              "    <tr style=\"text-align: right;\">\n",
              "      <th></th>\n",
              "      <th>text</th>\n",
              "    </tr>\n",
              "  </thead>\n",
              "  <tbody>\n",
              "    <tr>\n",
              "      <th>0</th>\n",
              "      <td>it Was the best oF Times $</td>\n",
              "    </tr>\n",
              "    <tr>\n",
              "      <th>1</th>\n",
              "      <td>It was The worst of times.</td>\n",
              "    </tr>\n",
              "    <tr>\n",
              "      <th>2</th>\n",
              "      <td>IT 9 was tHe age Of wisdom</td>\n",
              "    </tr>\n",
              "    <tr>\n",
              "      <th>3</th>\n",
              "      <td>it was thE age of foolishness</td>\n",
              "    </tr>\n",
              "  </tbody>\n",
              "</table>\n",
              "</div>\n",
              "      <button class=\"colab-df-convert\" onclick=\"convertToInteractive('df-2a06fdc6-1375-41b8-96b4-a420f8744c7d')\"\n",
              "              title=\"Convert this dataframe to an interactive table.\"\n",
              "              style=\"display:none;\">\n",
              "        \n",
              "  <svg xmlns=\"http://www.w3.org/2000/svg\" height=\"24px\"viewBox=\"0 0 24 24\"\n",
              "       width=\"24px\">\n",
              "    <path d=\"M0 0h24v24H0V0z\" fill=\"none\"/>\n",
              "    <path d=\"M18.56 5.44l.94 2.06.94-2.06 2.06-.94-2.06-.94-.94-2.06-.94 2.06-2.06.94zm-11 1L8.5 8.5l.94-2.06 2.06-.94-2.06-.94L8.5 2.5l-.94 2.06-2.06.94zm10 10l.94 2.06.94-2.06 2.06-.94-2.06-.94-.94-2.06-.94 2.06-2.06.94z\"/><path d=\"M17.41 7.96l-1.37-1.37c-.4-.4-.92-.59-1.43-.59-.52 0-1.04.2-1.43.59L10.3 9.45l-7.72 7.72c-.78.78-.78 2.05 0 2.83L4 21.41c.39.39.9.59 1.41.59.51 0 1.02-.2 1.41-.59l7.78-7.78 2.81-2.81c.8-.78.8-2.07 0-2.86zM5.41 20L4 18.59l7.72-7.72 1.47 1.35L5.41 20z\"/>\n",
              "  </svg>\n",
              "      </button>\n",
              "      \n",
              "  <style>\n",
              "    .colab-df-container {\n",
              "      display:flex;\n",
              "      flex-wrap:wrap;\n",
              "      gap: 12px;\n",
              "    }\n",
              "\n",
              "    .colab-df-convert {\n",
              "      background-color: #E8F0FE;\n",
              "      border: none;\n",
              "      border-radius: 50%;\n",
              "      cursor: pointer;\n",
              "      display: none;\n",
              "      fill: #1967D2;\n",
              "      height: 32px;\n",
              "      padding: 0 0 0 0;\n",
              "      width: 32px;\n",
              "    }\n",
              "\n",
              "    .colab-df-convert:hover {\n",
              "      background-color: #E2EBFA;\n",
              "      box-shadow: 0px 1px 2px rgba(60, 64, 67, 0.3), 0px 1px 3px 1px rgba(60, 64, 67, 0.15);\n",
              "      fill: #174EA6;\n",
              "    }\n",
              "\n",
              "    [theme=dark] .colab-df-convert {\n",
              "      background-color: #3B4455;\n",
              "      fill: #D2E3FC;\n",
              "    }\n",
              "\n",
              "    [theme=dark] .colab-df-convert:hover {\n",
              "      background-color: #434B5C;\n",
              "      box-shadow: 0px 1px 3px 1px rgba(0, 0, 0, 0.15);\n",
              "      filter: drop-shadow(0px 1px 2px rgba(0, 0, 0, 0.3));\n",
              "      fill: #FFFFFF;\n",
              "    }\n",
              "  </style>\n",
              "\n",
              "      <script>\n",
              "        const buttonEl =\n",
              "          document.querySelector('#df-2a06fdc6-1375-41b8-96b4-a420f8744c7d button.colab-df-convert');\n",
              "        buttonEl.style.display =\n",
              "          google.colab.kernel.accessAllowed ? 'block' : 'none';\n",
              "\n",
              "        async function convertToInteractive(key) {\n",
              "          const element = document.querySelector('#df-2a06fdc6-1375-41b8-96b4-a420f8744c7d');\n",
              "          const dataTable =\n",
              "            await google.colab.kernel.invokeFunction('convertToInteractive',\n",
              "                                                     [key], {});\n",
              "          if (!dataTable) return;\n",
              "\n",
              "          const docLinkHtml = 'Like what you see? Visit the ' +\n",
              "            '<a target=\"_blank\" href=https://colab.research.google.com/notebooks/data_table.ipynb>data table notebook</a>'\n",
              "            + ' to learn more about interactive tables.';\n",
              "          element.innerHTML = '';\n",
              "          dataTable['output_type'] = 'display_data';\n",
              "          await google.colab.output.renderOutput(dataTable, element);\n",
              "          const docLink = document.createElement('div');\n",
              "          docLink.innerHTML = docLinkHtml;\n",
              "          element.appendChild(docLink);\n",
              "        }\n",
              "      </script>\n",
              "    </div>\n",
              "  </div>\n",
              "  "
            ]
          },
          "metadata": {},
          "execution_count": 22
        }
      ],
      "source": [
        "lst_text = ['it Was the best oF Times $', \n",
        "            'It was The worst of times.',\n",
        "            'IT 9 was tHe age Of wisdom', \n",
        "            'it was thE age of foolishness']\n",
        "\n",
        "df = pd.DataFrame({'text': lst_text})\n",
        "\n",
        "df.head()"
      ]
    },
    {
      "cell_type": "code",
      "execution_count": 23,
      "metadata": {
        "id": "Wk7KC6ckSfZS"
      },
      "outputs": [],
      "source": [
        "# !pip install nltk"
      ]
    },
    {
      "cell_type": "code",
      "execution_count": 24,
      "metadata": {
        "id": "vov5xoTcSfZS",
        "colab": {
          "base_uri": "https://localhost:8080/"
        },
        "outputId": "5b552ea4-6dae-43ff-f513-0abee4d71fc0"
      },
      "outputs": [
        {
          "output_type": "stream",
          "name": "stderr",
          "text": [
            "[nltk_data] Downloading package stopwords to /root/nltk_data...\n",
            "[nltk_data]   Package stopwords is already up-to-date!\n",
            "[nltk_data] Downloading package wordnet to /root/nltk_data...\n",
            "[nltk_data]   Package wordnet is already up-to-date!\n",
            "[nltk_data] Downloading package omw-1.4 to /root/nltk_data...\n",
            "[nltk_data]   Package omw-1.4 is already up-to-date!\n"
          ]
        },
        {
          "output_type": "execute_result",
          "data": {
            "text/plain": [
              "True"
            ]
          },
          "metadata": {},
          "execution_count": 24
        }
      ],
      "source": [
        "import nltk\n",
        "nltk.download('stopwords')\n",
        "# Downloading wordnet before applying Lemmatizer\n",
        "nltk.download('wordnet')\n",
        "nltk.download('omw-1.4')"
      ]
    },
    {
      "cell_type": "code",
      "execution_count": 25,
      "metadata": {
        "id": "m8QUsU7eSfZT"
      },
      "outputs": [],
      "source": [
        "import re\n",
        "import nltk\n",
        "from nltk.tokenize import word_tokenize\n",
        "from nltk.corpus import stopwords\n",
        "from nltk.stem.porter import PorterStemmer\n",
        "from nltk.stem import WordNetLemmatizer"
      ]
    },
    {
      "cell_type": "code",
      "execution_count": 26,
      "metadata": {
        "id": "HNipVn5uSfZT"
      },
      "outputs": [],
      "source": [
        "## initialise the inbuilt Stemmer\n",
        "stemmer = PorterStemmer()"
      ]
    },
    {
      "cell_type": "code",
      "execution_count": 27,
      "metadata": {
        "id": "OJa6LXZISfZU"
      },
      "outputs": [],
      "source": [
        "## We can also use Lemmatizer instead of Stemmer\n",
        "lemmatizer = WordNetLemmatizer()"
      ]
    },
    {
      "cell_type": "markdown",
      "metadata": {
        "id": "qMF2x69KSfZU"
      },
      "source": [
        "## Text Preprocessing Steps\n",
        "\n",
        "Text Preprocessing steps include some essential tasks to clean and remove the noise from the available data.\n",
        "\n",
        "1. **Removing Special Characters and Punctuation**\n",
        "\n",
        "2. **Converting to Lower Case** - We convert the whole text corpus to lower case to reduce the size of the vocabulary of our text data.\n",
        "\n",
        "3. **Removing Stop Words** - Stopwords don't contribute to the meaning of a sentence. So, we can safely remove them without changing the meaning of the sentence. For eg: it, was, any, then, a, is, by, etc are the stopwords.\n",
        "\n",
        "4. **Stemming or Lemmatization** - Stemming is the process of getting the root form of a word. For eg: warm, warmer, warming can be converted to warm."
      ]
    },
    {
      "cell_type": "code",
      "execution_count": 28,
      "metadata": {
        "id": "YFzcRWuMSfZV",
        "outputId": "36052c3d-56ac-47df-e140-753c7ad087d4",
        "colab": {
          "base_uri": "https://localhost:8080/"
        }
      },
      "outputs": [
        {
          "output_type": "stream",
          "name": "stdout",
          "text": [
            "This 1is Natural-LAnguage-Processing.\n"
          ]
        }
      ],
      "source": [
        "raw_text = \"This 1is Natural-LAnguage-Processing.\"\n",
        "print(raw_text)"
      ]
    },
    {
      "cell_type": "code",
      "execution_count": 29,
      "metadata": {
        "id": "SQ9GARDxSfZW",
        "outputId": "5d994343-12b2-429d-c0ca-878933a43ee8",
        "colab": {
          "base_uri": "https://localhost:8080/"
        }
      },
      "outputs": [
        {
          "output_type": "stream",
          "name": "stdout",
          "text": [
            "This  is Natural LAnguage Processing \n"
          ]
        }
      ],
      "source": [
        "# Removing special characters and digits\n",
        "sentence = re.sub(\"[^a-zA-Z]\", \" \", raw_text)\n",
        "print(sentence)"
      ]
    },
    {
      "cell_type": "code",
      "execution_count": 30,
      "metadata": {
        "id": "ppI9mFrFSfZX",
        "outputId": "fa7254b9-2700-4cab-8fbf-9173893f105b",
        "colab": {
          "base_uri": "https://localhost:8080/"
        }
      },
      "outputs": [
        {
          "output_type": "stream",
          "name": "stdout",
          "text": [
            "this  is natural language processing \n"
          ]
        }
      ],
      "source": [
        "# change sentence to lower case\n",
        "sentence = sentence.lower()\n",
        "print(sentence)"
      ]
    },
    {
      "cell_type": "code",
      "execution_count": 31,
      "metadata": {
        "id": "XxGlGKd5SfZX",
        "outputId": "4a66d86f-22e6-44d2-c786-9cc0fb9a92dd",
        "colab": {
          "base_uri": "https://localhost:8080/"
        }
      },
      "outputs": [
        {
          "output_type": "stream",
          "name": "stdout",
          "text": [
            "['this', 'is', 'natural', 'language', 'processing']\n"
          ]
        }
      ],
      "source": [
        "# tokenize into words\n",
        "tokens = sentence.split()\n",
        "print(tokens)"
      ]
    },
    {
      "cell_type": "code",
      "execution_count": 32,
      "metadata": {
        "id": "e71ZrhZSSfZY",
        "outputId": "2a316eee-1b0e-408a-a19d-fb48d59ef87f",
        "colab": {
          "base_uri": "https://localhost:8080/"
        }
      },
      "outputs": [
        {
          "output_type": "stream",
          "name": "stdout",
          "text": [
            "['natural', 'language', 'processing']\n"
          ]
        }
      ],
      "source": [
        "# Removing stop words\n",
        "clean_tokens = [t for t in tokens if t not in stopwords.words(\"english\")]\n",
        "print(clean_tokens)"
      ]
    },
    {
      "cell_type": "code",
      "execution_count": 33,
      "metadata": {
        "id": "OOINaVI9SfZY",
        "outputId": "09f03c40-5bde-469e-d6aa-aaae40da99ea",
        "colab": {
          "base_uri": "https://localhost:8080/"
        }
      },
      "outputs": [
        {
          "output_type": "stream",
          "name": "stdout",
          "text": [
            "['natur', 'languag', 'process']\n"
          ]
        }
      ],
      "source": [
        "# Stemming\n",
        "clean_tokens_stem = [stemmer.stem(word) for word in clean_tokens]\n",
        "print(clean_tokens_stem)"
      ]
    },
    {
      "cell_type": "code",
      "execution_count": 34,
      "metadata": {
        "id": "spGrfK2sSfZZ",
        "outputId": "3770a871-020f-4867-ec36-5cae32d9a431",
        "colab": {
          "base_uri": "https://localhost:8080/"
        }
      },
      "outputs": [
        {
          "output_type": "stream",
          "name": "stdout",
          "text": [
            "['natural', 'language', 'processing']\n"
          ]
        }
      ],
      "source": [
        "# Lemmatizing\n",
        "clean_tokens_lem = [lemmatizer.lemmatize(word) for word in clean_tokens]\n",
        "print(clean_tokens_lem)"
      ]
    },
    {
      "cell_type": "markdown",
      "metadata": {
        "id": "USvPPssBSfZZ"
      },
      "source": [
        "## Lets put it all together"
      ]
    },
    {
      "cell_type": "code",
      "execution_count": 35,
      "metadata": {
        "id": "FPzVEKy1SfZa"
      },
      "outputs": [],
      "source": [
        "def preprocess(raw_text, flag):\n",
        "    # Removing special characters and digits\n",
        "    sentence = re.sub(\"[^a-zA-Z]\", \" \", raw_text)\n",
        "    \n",
        "    # change sentence to lower case\n",
        "    sentence = sentence.lower()\n",
        "\n",
        "    # tokenize into words\n",
        "    tokens = sentence.split()\n",
        "    \n",
        "    # remove stop words                \n",
        "    clean_tokens = [t for t in tokens if t not in stopwords.words(\"english\")]\n",
        "    \n",
        "    # Stemming/Lemmatization\n",
        "    if(flag == 'stem'):\n",
        "        clean_tokens = [stemmer.stem(word) for word in clean_tokens]\n",
        "    else:\n",
        "        clean_tokens = [lemmatizer.lemmatize(word) for word in clean_tokens]\n",
        "    \n",
        "    return pd.Series([\" \".join(clean_tokens), len(clean_tokens)])"
      ]
    },
    {
      "cell_type": "code",
      "execution_count": 36,
      "metadata": {
        "id": "kJpNX0vuSfZa",
        "outputId": "dd79b9f6-e1a0-4252-d128-7a8f97e78df8",
        "colab": {
          "base_uri": "https://localhost:8080/",
          "height": 175
        }
      },
      "outputs": [
        {
          "output_type": "execute_result",
          "data": {
            "text/plain": [
              "             0  1\n",
              "0    best time  2\n",
              "1   worst time  2\n",
              "2   age wisdom  2\n",
              "3  age foolish  2"
            ],
            "text/html": [
              "\n",
              "  <div id=\"df-3384a168-c3fe-48b3-b94d-ccb91d480df2\">\n",
              "    <div class=\"colab-df-container\">\n",
              "      <div>\n",
              "<style scoped>\n",
              "    .dataframe tbody tr th:only-of-type {\n",
              "        vertical-align: middle;\n",
              "    }\n",
              "\n",
              "    .dataframe tbody tr th {\n",
              "        vertical-align: top;\n",
              "    }\n",
              "\n",
              "    .dataframe thead th {\n",
              "        text-align: right;\n",
              "    }\n",
              "</style>\n",
              "<table border=\"1\" class=\"dataframe\">\n",
              "  <thead>\n",
              "    <tr style=\"text-align: right;\">\n",
              "      <th></th>\n",
              "      <th>0</th>\n",
              "      <th>1</th>\n",
              "    </tr>\n",
              "  </thead>\n",
              "  <tbody>\n",
              "    <tr>\n",
              "      <th>0</th>\n",
              "      <td>best time</td>\n",
              "      <td>2</td>\n",
              "    </tr>\n",
              "    <tr>\n",
              "      <th>1</th>\n",
              "      <td>worst time</td>\n",
              "      <td>2</td>\n",
              "    </tr>\n",
              "    <tr>\n",
              "      <th>2</th>\n",
              "      <td>age wisdom</td>\n",
              "      <td>2</td>\n",
              "    </tr>\n",
              "    <tr>\n",
              "      <th>3</th>\n",
              "      <td>age foolish</td>\n",
              "      <td>2</td>\n",
              "    </tr>\n",
              "  </tbody>\n",
              "</table>\n",
              "</div>\n",
              "      <button class=\"colab-df-convert\" onclick=\"convertToInteractive('df-3384a168-c3fe-48b3-b94d-ccb91d480df2')\"\n",
              "              title=\"Convert this dataframe to an interactive table.\"\n",
              "              style=\"display:none;\">\n",
              "        \n",
              "  <svg xmlns=\"http://www.w3.org/2000/svg\" height=\"24px\"viewBox=\"0 0 24 24\"\n",
              "       width=\"24px\">\n",
              "    <path d=\"M0 0h24v24H0V0z\" fill=\"none\"/>\n",
              "    <path d=\"M18.56 5.44l.94 2.06.94-2.06 2.06-.94-2.06-.94-.94-2.06-.94 2.06-2.06.94zm-11 1L8.5 8.5l.94-2.06 2.06-.94-2.06-.94L8.5 2.5l-.94 2.06-2.06.94zm10 10l.94 2.06.94-2.06 2.06-.94-2.06-.94-.94-2.06-.94 2.06-2.06.94z\"/><path d=\"M17.41 7.96l-1.37-1.37c-.4-.4-.92-.59-1.43-.59-.52 0-1.04.2-1.43.59L10.3 9.45l-7.72 7.72c-.78.78-.78 2.05 0 2.83L4 21.41c.39.39.9.59 1.41.59.51 0 1.02-.2 1.41-.59l7.78-7.78 2.81-2.81c.8-.78.8-2.07 0-2.86zM5.41 20L4 18.59l7.72-7.72 1.47 1.35L5.41 20z\"/>\n",
              "  </svg>\n",
              "      </button>\n",
              "      \n",
              "  <style>\n",
              "    .colab-df-container {\n",
              "      display:flex;\n",
              "      flex-wrap:wrap;\n",
              "      gap: 12px;\n",
              "    }\n",
              "\n",
              "    .colab-df-convert {\n",
              "      background-color: #E8F0FE;\n",
              "      border: none;\n",
              "      border-radius: 50%;\n",
              "      cursor: pointer;\n",
              "      display: none;\n",
              "      fill: #1967D2;\n",
              "      height: 32px;\n",
              "      padding: 0 0 0 0;\n",
              "      width: 32px;\n",
              "    }\n",
              "\n",
              "    .colab-df-convert:hover {\n",
              "      background-color: #E2EBFA;\n",
              "      box-shadow: 0px 1px 2px rgba(60, 64, 67, 0.3), 0px 1px 3px 1px rgba(60, 64, 67, 0.15);\n",
              "      fill: #174EA6;\n",
              "    }\n",
              "\n",
              "    [theme=dark] .colab-df-convert {\n",
              "      background-color: #3B4455;\n",
              "      fill: #D2E3FC;\n",
              "    }\n",
              "\n",
              "    [theme=dark] .colab-df-convert:hover {\n",
              "      background-color: #434B5C;\n",
              "      box-shadow: 0px 1px 3px 1px rgba(0, 0, 0, 0.15);\n",
              "      filter: drop-shadow(0px 1px 2px rgba(0, 0, 0, 0.3));\n",
              "      fill: #FFFFFF;\n",
              "    }\n",
              "  </style>\n",
              "\n",
              "      <script>\n",
              "        const buttonEl =\n",
              "          document.querySelector('#df-3384a168-c3fe-48b3-b94d-ccb91d480df2 button.colab-df-convert');\n",
              "        buttonEl.style.display =\n",
              "          google.colab.kernel.accessAllowed ? 'block' : 'none';\n",
              "\n",
              "        async function convertToInteractive(key) {\n",
              "          const element = document.querySelector('#df-3384a168-c3fe-48b3-b94d-ccb91d480df2');\n",
              "          const dataTable =\n",
              "            await google.colab.kernel.invokeFunction('convertToInteractive',\n",
              "                                                     [key], {});\n",
              "          if (!dataTable) return;\n",
              "\n",
              "          const docLinkHtml = 'Like what you see? Visit the ' +\n",
              "            '<a target=\"_blank\" href=https://colab.research.google.com/notebooks/data_table.ipynb>data table notebook</a>'\n",
              "            + ' to learn more about interactive tables.';\n",
              "          element.innerHTML = '';\n",
              "          dataTable['output_type'] = 'display_data';\n",
              "          await google.colab.output.renderOutput(dataTable, element);\n",
              "          const docLink = document.createElement('div');\n",
              "          docLink.innerHTML = docLinkHtml;\n",
              "          element.appendChild(docLink);\n",
              "        }\n",
              "      </script>\n",
              "    </div>\n",
              "  </div>\n",
              "  "
            ]
          },
          "metadata": {},
          "execution_count": 36
        }
      ],
      "source": [
        "temp_df = df['text'].apply(lambda x : preprocess(x, 'stem'))\n",
        "\n",
        "temp_df.head()"
      ]
    },
    {
      "cell_type": "code",
      "execution_count": 37,
      "metadata": {
        "id": "sNwEQjwfSfZb",
        "outputId": "7250643e-2f31-4b95-fcfd-2b527f57597a",
        "colab": {
          "base_uri": "https://localhost:8080/",
          "height": 175
        }
      },
      "outputs": [
        {
          "output_type": "execute_result",
          "data": {
            "text/plain": [
              "  clean_text_stem  text_length_stem\n",
              "0       best time                 2\n",
              "1      worst time                 2\n",
              "2      age wisdom                 2\n",
              "3     age foolish                 2"
            ],
            "text/html": [
              "\n",
              "  <div id=\"df-e84be451-a7c5-4678-9fb7-a0e676fffdb8\">\n",
              "    <div class=\"colab-df-container\">\n",
              "      <div>\n",
              "<style scoped>\n",
              "    .dataframe tbody tr th:only-of-type {\n",
              "        vertical-align: middle;\n",
              "    }\n",
              "\n",
              "    .dataframe tbody tr th {\n",
              "        vertical-align: top;\n",
              "    }\n",
              "\n",
              "    .dataframe thead th {\n",
              "        text-align: right;\n",
              "    }\n",
              "</style>\n",
              "<table border=\"1\" class=\"dataframe\">\n",
              "  <thead>\n",
              "    <tr style=\"text-align: right;\">\n",
              "      <th></th>\n",
              "      <th>clean_text_stem</th>\n",
              "      <th>text_length_stem</th>\n",
              "    </tr>\n",
              "  </thead>\n",
              "  <tbody>\n",
              "    <tr>\n",
              "      <th>0</th>\n",
              "      <td>best time</td>\n",
              "      <td>2</td>\n",
              "    </tr>\n",
              "    <tr>\n",
              "      <th>1</th>\n",
              "      <td>worst time</td>\n",
              "      <td>2</td>\n",
              "    </tr>\n",
              "    <tr>\n",
              "      <th>2</th>\n",
              "      <td>age wisdom</td>\n",
              "      <td>2</td>\n",
              "    </tr>\n",
              "    <tr>\n",
              "      <th>3</th>\n",
              "      <td>age foolish</td>\n",
              "      <td>2</td>\n",
              "    </tr>\n",
              "  </tbody>\n",
              "</table>\n",
              "</div>\n",
              "      <button class=\"colab-df-convert\" onclick=\"convertToInteractive('df-e84be451-a7c5-4678-9fb7-a0e676fffdb8')\"\n",
              "              title=\"Convert this dataframe to an interactive table.\"\n",
              "              style=\"display:none;\">\n",
              "        \n",
              "  <svg xmlns=\"http://www.w3.org/2000/svg\" height=\"24px\"viewBox=\"0 0 24 24\"\n",
              "       width=\"24px\">\n",
              "    <path d=\"M0 0h24v24H0V0z\" fill=\"none\"/>\n",
              "    <path d=\"M18.56 5.44l.94 2.06.94-2.06 2.06-.94-2.06-.94-.94-2.06-.94 2.06-2.06.94zm-11 1L8.5 8.5l.94-2.06 2.06-.94-2.06-.94L8.5 2.5l-.94 2.06-2.06.94zm10 10l.94 2.06.94-2.06 2.06-.94-2.06-.94-.94-2.06-.94 2.06-2.06.94z\"/><path d=\"M17.41 7.96l-1.37-1.37c-.4-.4-.92-.59-1.43-.59-.52 0-1.04.2-1.43.59L10.3 9.45l-7.72 7.72c-.78.78-.78 2.05 0 2.83L4 21.41c.39.39.9.59 1.41.59.51 0 1.02-.2 1.41-.59l7.78-7.78 2.81-2.81c.8-.78.8-2.07 0-2.86zM5.41 20L4 18.59l7.72-7.72 1.47 1.35L5.41 20z\"/>\n",
              "  </svg>\n",
              "      </button>\n",
              "      \n",
              "  <style>\n",
              "    .colab-df-container {\n",
              "      display:flex;\n",
              "      flex-wrap:wrap;\n",
              "      gap: 12px;\n",
              "    }\n",
              "\n",
              "    .colab-df-convert {\n",
              "      background-color: #E8F0FE;\n",
              "      border: none;\n",
              "      border-radius: 50%;\n",
              "      cursor: pointer;\n",
              "      display: none;\n",
              "      fill: #1967D2;\n",
              "      height: 32px;\n",
              "      padding: 0 0 0 0;\n",
              "      width: 32px;\n",
              "    }\n",
              "\n",
              "    .colab-df-convert:hover {\n",
              "      background-color: #E2EBFA;\n",
              "      box-shadow: 0px 1px 2px rgba(60, 64, 67, 0.3), 0px 1px 3px 1px rgba(60, 64, 67, 0.15);\n",
              "      fill: #174EA6;\n",
              "    }\n",
              "\n",
              "    [theme=dark] .colab-df-convert {\n",
              "      background-color: #3B4455;\n",
              "      fill: #D2E3FC;\n",
              "    }\n",
              "\n",
              "    [theme=dark] .colab-df-convert:hover {\n",
              "      background-color: #434B5C;\n",
              "      box-shadow: 0px 1px 3px 1px rgba(0, 0, 0, 0.15);\n",
              "      filter: drop-shadow(0px 1px 2px rgba(0, 0, 0, 0.3));\n",
              "      fill: #FFFFFF;\n",
              "    }\n",
              "  </style>\n",
              "\n",
              "      <script>\n",
              "        const buttonEl =\n",
              "          document.querySelector('#df-e84be451-a7c5-4678-9fb7-a0e676fffdb8 button.colab-df-convert');\n",
              "        buttonEl.style.display =\n",
              "          google.colab.kernel.accessAllowed ? 'block' : 'none';\n",
              "\n",
              "        async function convertToInteractive(key) {\n",
              "          const element = document.querySelector('#df-e84be451-a7c5-4678-9fb7-a0e676fffdb8');\n",
              "          const dataTable =\n",
              "            await google.colab.kernel.invokeFunction('convertToInteractive',\n",
              "                                                     [key], {});\n",
              "          if (!dataTable) return;\n",
              "\n",
              "          const docLinkHtml = 'Like what you see? Visit the ' +\n",
              "            '<a target=\"_blank\" href=https://colab.research.google.com/notebooks/data_table.ipynb>data table notebook</a>'\n",
              "            + ' to learn more about interactive tables.';\n",
              "          element.innerHTML = '';\n",
              "          dataTable['output_type'] = 'display_data';\n",
              "          await google.colab.output.renderOutput(dataTable, element);\n",
              "          const docLink = document.createElement('div');\n",
              "          docLink.innerHTML = docLinkHtml;\n",
              "          element.appendChild(docLink);\n",
              "        }\n",
              "      </script>\n",
              "    </div>\n",
              "  </div>\n",
              "  "
            ]
          },
          "metadata": {},
          "execution_count": 37
        }
      ],
      "source": [
        "temp_df.columns = ['clean_text_stem', 'text_length_stem']\n",
        "\n",
        "temp_df.head()"
      ]
    },
    {
      "cell_type": "code",
      "execution_count": 38,
      "metadata": {
        "id": "ZFE0u5wOSfZc",
        "outputId": "4dbe5994-655e-4c92-ff91-d1ee1cc2992c",
        "colab": {
          "base_uri": "https://localhost:8080/",
          "height": 175
        }
      },
      "outputs": [
        {
          "output_type": "execute_result",
          "data": {
            "text/plain": [
              "                            text clean_text_stem  text_length_stem\n",
              "0     it Was the best oF Times $       best time                 2\n",
              "1     It was The worst of times.      worst time                 2\n",
              "2     IT 9 was tHe age Of wisdom      age wisdom                 2\n",
              "3  it was thE age of foolishness     age foolish                 2"
            ],
            "text/html": [
              "\n",
              "  <div id=\"df-95408216-0339-4b3d-b4e6-381d86099808\">\n",
              "    <div class=\"colab-df-container\">\n",
              "      <div>\n",
              "<style scoped>\n",
              "    .dataframe tbody tr th:only-of-type {\n",
              "        vertical-align: middle;\n",
              "    }\n",
              "\n",
              "    .dataframe tbody tr th {\n",
              "        vertical-align: top;\n",
              "    }\n",
              "\n",
              "    .dataframe thead th {\n",
              "        text-align: right;\n",
              "    }\n",
              "</style>\n",
              "<table border=\"1\" class=\"dataframe\">\n",
              "  <thead>\n",
              "    <tr style=\"text-align: right;\">\n",
              "      <th></th>\n",
              "      <th>text</th>\n",
              "      <th>clean_text_stem</th>\n",
              "      <th>text_length_stem</th>\n",
              "    </tr>\n",
              "  </thead>\n",
              "  <tbody>\n",
              "    <tr>\n",
              "      <th>0</th>\n",
              "      <td>it Was the best oF Times $</td>\n",
              "      <td>best time</td>\n",
              "      <td>2</td>\n",
              "    </tr>\n",
              "    <tr>\n",
              "      <th>1</th>\n",
              "      <td>It was The worst of times.</td>\n",
              "      <td>worst time</td>\n",
              "      <td>2</td>\n",
              "    </tr>\n",
              "    <tr>\n",
              "      <th>2</th>\n",
              "      <td>IT 9 was tHe age Of wisdom</td>\n",
              "      <td>age wisdom</td>\n",
              "      <td>2</td>\n",
              "    </tr>\n",
              "    <tr>\n",
              "      <th>3</th>\n",
              "      <td>it was thE age of foolishness</td>\n",
              "      <td>age foolish</td>\n",
              "      <td>2</td>\n",
              "    </tr>\n",
              "  </tbody>\n",
              "</table>\n",
              "</div>\n",
              "      <button class=\"colab-df-convert\" onclick=\"convertToInteractive('df-95408216-0339-4b3d-b4e6-381d86099808')\"\n",
              "              title=\"Convert this dataframe to an interactive table.\"\n",
              "              style=\"display:none;\">\n",
              "        \n",
              "  <svg xmlns=\"http://www.w3.org/2000/svg\" height=\"24px\"viewBox=\"0 0 24 24\"\n",
              "       width=\"24px\">\n",
              "    <path d=\"M0 0h24v24H0V0z\" fill=\"none\"/>\n",
              "    <path d=\"M18.56 5.44l.94 2.06.94-2.06 2.06-.94-2.06-.94-.94-2.06-.94 2.06-2.06.94zm-11 1L8.5 8.5l.94-2.06 2.06-.94-2.06-.94L8.5 2.5l-.94 2.06-2.06.94zm10 10l.94 2.06.94-2.06 2.06-.94-2.06-.94-.94-2.06-.94 2.06-2.06.94z\"/><path d=\"M17.41 7.96l-1.37-1.37c-.4-.4-.92-.59-1.43-.59-.52 0-1.04.2-1.43.59L10.3 9.45l-7.72 7.72c-.78.78-.78 2.05 0 2.83L4 21.41c.39.39.9.59 1.41.59.51 0 1.02-.2 1.41-.59l7.78-7.78 2.81-2.81c.8-.78.8-2.07 0-2.86zM5.41 20L4 18.59l7.72-7.72 1.47 1.35L5.41 20z\"/>\n",
              "  </svg>\n",
              "      </button>\n",
              "      \n",
              "  <style>\n",
              "    .colab-df-container {\n",
              "      display:flex;\n",
              "      flex-wrap:wrap;\n",
              "      gap: 12px;\n",
              "    }\n",
              "\n",
              "    .colab-df-convert {\n",
              "      background-color: #E8F0FE;\n",
              "      border: none;\n",
              "      border-radius: 50%;\n",
              "      cursor: pointer;\n",
              "      display: none;\n",
              "      fill: #1967D2;\n",
              "      height: 32px;\n",
              "      padding: 0 0 0 0;\n",
              "      width: 32px;\n",
              "    }\n",
              "\n",
              "    .colab-df-convert:hover {\n",
              "      background-color: #E2EBFA;\n",
              "      box-shadow: 0px 1px 2px rgba(60, 64, 67, 0.3), 0px 1px 3px 1px rgba(60, 64, 67, 0.15);\n",
              "      fill: #174EA6;\n",
              "    }\n",
              "\n",
              "    [theme=dark] .colab-df-convert {\n",
              "      background-color: #3B4455;\n",
              "      fill: #D2E3FC;\n",
              "    }\n",
              "\n",
              "    [theme=dark] .colab-df-convert:hover {\n",
              "      background-color: #434B5C;\n",
              "      box-shadow: 0px 1px 3px 1px rgba(0, 0, 0, 0.15);\n",
              "      filter: drop-shadow(0px 1px 2px rgba(0, 0, 0, 0.3));\n",
              "      fill: #FFFFFF;\n",
              "    }\n",
              "  </style>\n",
              "\n",
              "      <script>\n",
              "        const buttonEl =\n",
              "          document.querySelector('#df-95408216-0339-4b3d-b4e6-381d86099808 button.colab-df-convert');\n",
              "        buttonEl.style.display =\n",
              "          google.colab.kernel.accessAllowed ? 'block' : 'none';\n",
              "\n",
              "        async function convertToInteractive(key) {\n",
              "          const element = document.querySelector('#df-95408216-0339-4b3d-b4e6-381d86099808');\n",
              "          const dataTable =\n",
              "            await google.colab.kernel.invokeFunction('convertToInteractive',\n",
              "                                                     [key], {});\n",
              "          if (!dataTable) return;\n",
              "\n",
              "          const docLinkHtml = 'Like what you see? Visit the ' +\n",
              "            '<a target=\"_blank\" href=https://colab.research.google.com/notebooks/data_table.ipynb>data table notebook</a>'\n",
              "            + ' to learn more about interactive tables.';\n",
              "          element.innerHTML = '';\n",
              "          dataTable['output_type'] = 'display_data';\n",
              "          await google.colab.output.renderOutput(dataTable, element);\n",
              "          const docLink = document.createElement('div');\n",
              "          docLink.innerHTML = docLinkHtml;\n",
              "          element.appendChild(docLink);\n",
              "        }\n",
              "      </script>\n",
              "    </div>\n",
              "  </div>\n",
              "  "
            ]
          },
          "metadata": {},
          "execution_count": 38
        }
      ],
      "source": [
        "df = pd.concat([df, temp_df], axis=1)\n",
        "\n",
        "df.head()"
      ]
    },
    {
      "cell_type": "code",
      "execution_count": 39,
      "metadata": {
        "id": "cuBioKr7SfZd",
        "outputId": "0a31e758-dc0a-468e-ffe1-0fdd67934c6a",
        "colab": {
          "base_uri": "https://localhost:8080/",
          "height": 175
        }
      },
      "outputs": [
        {
          "output_type": "execute_result",
          "data": {
            "text/plain": [
              "                 0  1\n",
              "0        best time  2\n",
              "1       worst time  2\n",
              "2       age wisdom  2\n",
              "3  age foolishness  2"
            ],
            "text/html": [
              "\n",
              "  <div id=\"df-5e8ae452-079a-4b20-97e7-5e5a5a657fb1\">\n",
              "    <div class=\"colab-df-container\">\n",
              "      <div>\n",
              "<style scoped>\n",
              "    .dataframe tbody tr th:only-of-type {\n",
              "        vertical-align: middle;\n",
              "    }\n",
              "\n",
              "    .dataframe tbody tr th {\n",
              "        vertical-align: top;\n",
              "    }\n",
              "\n",
              "    .dataframe thead th {\n",
              "        text-align: right;\n",
              "    }\n",
              "</style>\n",
              "<table border=\"1\" class=\"dataframe\">\n",
              "  <thead>\n",
              "    <tr style=\"text-align: right;\">\n",
              "      <th></th>\n",
              "      <th>0</th>\n",
              "      <th>1</th>\n",
              "    </tr>\n",
              "  </thead>\n",
              "  <tbody>\n",
              "    <tr>\n",
              "      <th>0</th>\n",
              "      <td>best time</td>\n",
              "      <td>2</td>\n",
              "    </tr>\n",
              "    <tr>\n",
              "      <th>1</th>\n",
              "      <td>worst time</td>\n",
              "      <td>2</td>\n",
              "    </tr>\n",
              "    <tr>\n",
              "      <th>2</th>\n",
              "      <td>age wisdom</td>\n",
              "      <td>2</td>\n",
              "    </tr>\n",
              "    <tr>\n",
              "      <th>3</th>\n",
              "      <td>age foolishness</td>\n",
              "      <td>2</td>\n",
              "    </tr>\n",
              "  </tbody>\n",
              "</table>\n",
              "</div>\n",
              "      <button class=\"colab-df-convert\" onclick=\"convertToInteractive('df-5e8ae452-079a-4b20-97e7-5e5a5a657fb1')\"\n",
              "              title=\"Convert this dataframe to an interactive table.\"\n",
              "              style=\"display:none;\">\n",
              "        \n",
              "  <svg xmlns=\"http://www.w3.org/2000/svg\" height=\"24px\"viewBox=\"0 0 24 24\"\n",
              "       width=\"24px\">\n",
              "    <path d=\"M0 0h24v24H0V0z\" fill=\"none\"/>\n",
              "    <path d=\"M18.56 5.44l.94 2.06.94-2.06 2.06-.94-2.06-.94-.94-2.06-.94 2.06-2.06.94zm-11 1L8.5 8.5l.94-2.06 2.06-.94-2.06-.94L8.5 2.5l-.94 2.06-2.06.94zm10 10l.94 2.06.94-2.06 2.06-.94-2.06-.94-.94-2.06-.94 2.06-2.06.94z\"/><path d=\"M17.41 7.96l-1.37-1.37c-.4-.4-.92-.59-1.43-.59-.52 0-1.04.2-1.43.59L10.3 9.45l-7.72 7.72c-.78.78-.78 2.05 0 2.83L4 21.41c.39.39.9.59 1.41.59.51 0 1.02-.2 1.41-.59l7.78-7.78 2.81-2.81c.8-.78.8-2.07 0-2.86zM5.41 20L4 18.59l7.72-7.72 1.47 1.35L5.41 20z\"/>\n",
              "  </svg>\n",
              "      </button>\n",
              "      \n",
              "  <style>\n",
              "    .colab-df-container {\n",
              "      display:flex;\n",
              "      flex-wrap:wrap;\n",
              "      gap: 12px;\n",
              "    }\n",
              "\n",
              "    .colab-df-convert {\n",
              "      background-color: #E8F0FE;\n",
              "      border: none;\n",
              "      border-radius: 50%;\n",
              "      cursor: pointer;\n",
              "      display: none;\n",
              "      fill: #1967D2;\n",
              "      height: 32px;\n",
              "      padding: 0 0 0 0;\n",
              "      width: 32px;\n",
              "    }\n",
              "\n",
              "    .colab-df-convert:hover {\n",
              "      background-color: #E2EBFA;\n",
              "      box-shadow: 0px 1px 2px rgba(60, 64, 67, 0.3), 0px 1px 3px 1px rgba(60, 64, 67, 0.15);\n",
              "      fill: #174EA6;\n",
              "    }\n",
              "\n",
              "    [theme=dark] .colab-df-convert {\n",
              "      background-color: #3B4455;\n",
              "      fill: #D2E3FC;\n",
              "    }\n",
              "\n",
              "    [theme=dark] .colab-df-convert:hover {\n",
              "      background-color: #434B5C;\n",
              "      box-shadow: 0px 1px 3px 1px rgba(0, 0, 0, 0.15);\n",
              "      filter: drop-shadow(0px 1px 2px rgba(0, 0, 0, 0.3));\n",
              "      fill: #FFFFFF;\n",
              "    }\n",
              "  </style>\n",
              "\n",
              "      <script>\n",
              "        const buttonEl =\n",
              "          document.querySelector('#df-5e8ae452-079a-4b20-97e7-5e5a5a657fb1 button.colab-df-convert');\n",
              "        buttonEl.style.display =\n",
              "          google.colab.kernel.accessAllowed ? 'block' : 'none';\n",
              "\n",
              "        async function convertToInteractive(key) {\n",
              "          const element = document.querySelector('#df-5e8ae452-079a-4b20-97e7-5e5a5a657fb1');\n",
              "          const dataTable =\n",
              "            await google.colab.kernel.invokeFunction('convertToInteractive',\n",
              "                                                     [key], {});\n",
              "          if (!dataTable) return;\n",
              "\n",
              "          const docLinkHtml = 'Like what you see? Visit the ' +\n",
              "            '<a target=\"_blank\" href=https://colab.research.google.com/notebooks/data_table.ipynb>data table notebook</a>'\n",
              "            + ' to learn more about interactive tables.';\n",
              "          element.innerHTML = '';\n",
              "          dataTable['output_type'] = 'display_data';\n",
              "          await google.colab.output.renderOutput(dataTable, element);\n",
              "          const docLink = document.createElement('div');\n",
              "          docLink.innerHTML = docLinkHtml;\n",
              "          element.appendChild(docLink);\n",
              "        }\n",
              "      </script>\n",
              "    </div>\n",
              "  </div>\n",
              "  "
            ]
          },
          "metadata": {},
          "execution_count": 39
        }
      ],
      "source": [
        "temp_df = df['text'].apply(lambda x: preprocess(x, 'lemma'))\n",
        "\n",
        "temp_df.head()"
      ]
    },
    {
      "cell_type": "code",
      "execution_count": 40,
      "metadata": {
        "id": "TMRUVriZSfZd",
        "outputId": "69137d59-ebc4-45a1-e63f-cfedacf4ba55",
        "colab": {
          "base_uri": "https://localhost:8080/",
          "height": 175
        }
      },
      "outputs": [
        {
          "output_type": "execute_result",
          "data": {
            "text/plain": [
              "  clean_text_lemma  text_length_lemma\n",
              "0        best time                  2\n",
              "1       worst time                  2\n",
              "2       age wisdom                  2\n",
              "3  age foolishness                  2"
            ],
            "text/html": [
              "\n",
              "  <div id=\"df-dadd76de-67ec-4f06-b49e-d254f392e2f7\">\n",
              "    <div class=\"colab-df-container\">\n",
              "      <div>\n",
              "<style scoped>\n",
              "    .dataframe tbody tr th:only-of-type {\n",
              "        vertical-align: middle;\n",
              "    }\n",
              "\n",
              "    .dataframe tbody tr th {\n",
              "        vertical-align: top;\n",
              "    }\n",
              "\n",
              "    .dataframe thead th {\n",
              "        text-align: right;\n",
              "    }\n",
              "</style>\n",
              "<table border=\"1\" class=\"dataframe\">\n",
              "  <thead>\n",
              "    <tr style=\"text-align: right;\">\n",
              "      <th></th>\n",
              "      <th>clean_text_lemma</th>\n",
              "      <th>text_length_lemma</th>\n",
              "    </tr>\n",
              "  </thead>\n",
              "  <tbody>\n",
              "    <tr>\n",
              "      <th>0</th>\n",
              "      <td>best time</td>\n",
              "      <td>2</td>\n",
              "    </tr>\n",
              "    <tr>\n",
              "      <th>1</th>\n",
              "      <td>worst time</td>\n",
              "      <td>2</td>\n",
              "    </tr>\n",
              "    <tr>\n",
              "      <th>2</th>\n",
              "      <td>age wisdom</td>\n",
              "      <td>2</td>\n",
              "    </tr>\n",
              "    <tr>\n",
              "      <th>3</th>\n",
              "      <td>age foolishness</td>\n",
              "      <td>2</td>\n",
              "    </tr>\n",
              "  </tbody>\n",
              "</table>\n",
              "</div>\n",
              "      <button class=\"colab-df-convert\" onclick=\"convertToInteractive('df-dadd76de-67ec-4f06-b49e-d254f392e2f7')\"\n",
              "              title=\"Convert this dataframe to an interactive table.\"\n",
              "              style=\"display:none;\">\n",
              "        \n",
              "  <svg xmlns=\"http://www.w3.org/2000/svg\" height=\"24px\"viewBox=\"0 0 24 24\"\n",
              "       width=\"24px\">\n",
              "    <path d=\"M0 0h24v24H0V0z\" fill=\"none\"/>\n",
              "    <path d=\"M18.56 5.44l.94 2.06.94-2.06 2.06-.94-2.06-.94-.94-2.06-.94 2.06-2.06.94zm-11 1L8.5 8.5l.94-2.06 2.06-.94-2.06-.94L8.5 2.5l-.94 2.06-2.06.94zm10 10l.94 2.06.94-2.06 2.06-.94-2.06-.94-.94-2.06-.94 2.06-2.06.94z\"/><path d=\"M17.41 7.96l-1.37-1.37c-.4-.4-.92-.59-1.43-.59-.52 0-1.04.2-1.43.59L10.3 9.45l-7.72 7.72c-.78.78-.78 2.05 0 2.83L4 21.41c.39.39.9.59 1.41.59.51 0 1.02-.2 1.41-.59l7.78-7.78 2.81-2.81c.8-.78.8-2.07 0-2.86zM5.41 20L4 18.59l7.72-7.72 1.47 1.35L5.41 20z\"/>\n",
              "  </svg>\n",
              "      </button>\n",
              "      \n",
              "  <style>\n",
              "    .colab-df-container {\n",
              "      display:flex;\n",
              "      flex-wrap:wrap;\n",
              "      gap: 12px;\n",
              "    }\n",
              "\n",
              "    .colab-df-convert {\n",
              "      background-color: #E8F0FE;\n",
              "      border: none;\n",
              "      border-radius: 50%;\n",
              "      cursor: pointer;\n",
              "      display: none;\n",
              "      fill: #1967D2;\n",
              "      height: 32px;\n",
              "      padding: 0 0 0 0;\n",
              "      width: 32px;\n",
              "    }\n",
              "\n",
              "    .colab-df-convert:hover {\n",
              "      background-color: #E2EBFA;\n",
              "      box-shadow: 0px 1px 2px rgba(60, 64, 67, 0.3), 0px 1px 3px 1px rgba(60, 64, 67, 0.15);\n",
              "      fill: #174EA6;\n",
              "    }\n",
              "\n",
              "    [theme=dark] .colab-df-convert {\n",
              "      background-color: #3B4455;\n",
              "      fill: #D2E3FC;\n",
              "    }\n",
              "\n",
              "    [theme=dark] .colab-df-convert:hover {\n",
              "      background-color: #434B5C;\n",
              "      box-shadow: 0px 1px 3px 1px rgba(0, 0, 0, 0.15);\n",
              "      filter: drop-shadow(0px 1px 2px rgba(0, 0, 0, 0.3));\n",
              "      fill: #FFFFFF;\n",
              "    }\n",
              "  </style>\n",
              "\n",
              "      <script>\n",
              "        const buttonEl =\n",
              "          document.querySelector('#df-dadd76de-67ec-4f06-b49e-d254f392e2f7 button.colab-df-convert');\n",
              "        buttonEl.style.display =\n",
              "          google.colab.kernel.accessAllowed ? 'block' : 'none';\n",
              "\n",
              "        async function convertToInteractive(key) {\n",
              "          const element = document.querySelector('#df-dadd76de-67ec-4f06-b49e-d254f392e2f7');\n",
              "          const dataTable =\n",
              "            await google.colab.kernel.invokeFunction('convertToInteractive',\n",
              "                                                     [key], {});\n",
              "          if (!dataTable) return;\n",
              "\n",
              "          const docLinkHtml = 'Like what you see? Visit the ' +\n",
              "            '<a target=\"_blank\" href=https://colab.research.google.com/notebooks/data_table.ipynb>data table notebook</a>'\n",
              "            + ' to learn more about interactive tables.';\n",
              "          element.innerHTML = '';\n",
              "          dataTable['output_type'] = 'display_data';\n",
              "          await google.colab.output.renderOutput(dataTable, element);\n",
              "          const docLink = document.createElement('div');\n",
              "          docLink.innerHTML = docLinkHtml;\n",
              "          element.appendChild(docLink);\n",
              "        }\n",
              "      </script>\n",
              "    </div>\n",
              "  </div>\n",
              "  "
            ]
          },
          "metadata": {},
          "execution_count": 40
        }
      ],
      "source": [
        "temp_df.columns = ['clean_text_lemma', 'text_length_lemma']\n",
        "\n",
        "temp_df.head()"
      ]
    },
    {
      "cell_type": "code",
      "execution_count": 41,
      "metadata": {
        "id": "_zdnxk4KSfZe",
        "outputId": "891cf395-9e31-4522-97e7-79f7824b2472",
        "colab": {
          "base_uri": "https://localhost:8080/",
          "height": 175
        }
      },
      "outputs": [
        {
          "output_type": "execute_result",
          "data": {
            "text/plain": [
              "                            text clean_text_stem  text_length_stem  \\\n",
              "0     it Was the best oF Times $       best time                 2   \n",
              "1     It was The worst of times.      worst time                 2   \n",
              "2     IT 9 was tHe age Of wisdom      age wisdom                 2   \n",
              "3  it was thE age of foolishness     age foolish                 2   \n",
              "\n",
              "  clean_text_lemma  text_length_lemma  \n",
              "0        best time                  2  \n",
              "1       worst time                  2  \n",
              "2       age wisdom                  2  \n",
              "3  age foolishness                  2  "
            ],
            "text/html": [
              "\n",
              "  <div id=\"df-9fe06140-958d-407e-b473-0a3230a01e58\">\n",
              "    <div class=\"colab-df-container\">\n",
              "      <div>\n",
              "<style scoped>\n",
              "    .dataframe tbody tr th:only-of-type {\n",
              "        vertical-align: middle;\n",
              "    }\n",
              "\n",
              "    .dataframe tbody tr th {\n",
              "        vertical-align: top;\n",
              "    }\n",
              "\n",
              "    .dataframe thead th {\n",
              "        text-align: right;\n",
              "    }\n",
              "</style>\n",
              "<table border=\"1\" class=\"dataframe\">\n",
              "  <thead>\n",
              "    <tr style=\"text-align: right;\">\n",
              "      <th></th>\n",
              "      <th>text</th>\n",
              "      <th>clean_text_stem</th>\n",
              "      <th>text_length_stem</th>\n",
              "      <th>clean_text_lemma</th>\n",
              "      <th>text_length_lemma</th>\n",
              "    </tr>\n",
              "  </thead>\n",
              "  <tbody>\n",
              "    <tr>\n",
              "      <th>0</th>\n",
              "      <td>it Was the best oF Times $</td>\n",
              "      <td>best time</td>\n",
              "      <td>2</td>\n",
              "      <td>best time</td>\n",
              "      <td>2</td>\n",
              "    </tr>\n",
              "    <tr>\n",
              "      <th>1</th>\n",
              "      <td>It was The worst of times.</td>\n",
              "      <td>worst time</td>\n",
              "      <td>2</td>\n",
              "      <td>worst time</td>\n",
              "      <td>2</td>\n",
              "    </tr>\n",
              "    <tr>\n",
              "      <th>2</th>\n",
              "      <td>IT 9 was tHe age Of wisdom</td>\n",
              "      <td>age wisdom</td>\n",
              "      <td>2</td>\n",
              "      <td>age wisdom</td>\n",
              "      <td>2</td>\n",
              "    </tr>\n",
              "    <tr>\n",
              "      <th>3</th>\n",
              "      <td>it was thE age of foolishness</td>\n",
              "      <td>age foolish</td>\n",
              "      <td>2</td>\n",
              "      <td>age foolishness</td>\n",
              "      <td>2</td>\n",
              "    </tr>\n",
              "  </tbody>\n",
              "</table>\n",
              "</div>\n",
              "      <button class=\"colab-df-convert\" onclick=\"convertToInteractive('df-9fe06140-958d-407e-b473-0a3230a01e58')\"\n",
              "              title=\"Convert this dataframe to an interactive table.\"\n",
              "              style=\"display:none;\">\n",
              "        \n",
              "  <svg xmlns=\"http://www.w3.org/2000/svg\" height=\"24px\"viewBox=\"0 0 24 24\"\n",
              "       width=\"24px\">\n",
              "    <path d=\"M0 0h24v24H0V0z\" fill=\"none\"/>\n",
              "    <path d=\"M18.56 5.44l.94 2.06.94-2.06 2.06-.94-2.06-.94-.94-2.06-.94 2.06-2.06.94zm-11 1L8.5 8.5l.94-2.06 2.06-.94-2.06-.94L8.5 2.5l-.94 2.06-2.06.94zm10 10l.94 2.06.94-2.06 2.06-.94-2.06-.94-.94-2.06-.94 2.06-2.06.94z\"/><path d=\"M17.41 7.96l-1.37-1.37c-.4-.4-.92-.59-1.43-.59-.52 0-1.04.2-1.43.59L10.3 9.45l-7.72 7.72c-.78.78-.78 2.05 0 2.83L4 21.41c.39.39.9.59 1.41.59.51 0 1.02-.2 1.41-.59l7.78-7.78 2.81-2.81c.8-.78.8-2.07 0-2.86zM5.41 20L4 18.59l7.72-7.72 1.47 1.35L5.41 20z\"/>\n",
              "  </svg>\n",
              "      </button>\n",
              "      \n",
              "  <style>\n",
              "    .colab-df-container {\n",
              "      display:flex;\n",
              "      flex-wrap:wrap;\n",
              "      gap: 12px;\n",
              "    }\n",
              "\n",
              "    .colab-df-convert {\n",
              "      background-color: #E8F0FE;\n",
              "      border: none;\n",
              "      border-radius: 50%;\n",
              "      cursor: pointer;\n",
              "      display: none;\n",
              "      fill: #1967D2;\n",
              "      height: 32px;\n",
              "      padding: 0 0 0 0;\n",
              "      width: 32px;\n",
              "    }\n",
              "\n",
              "    .colab-df-convert:hover {\n",
              "      background-color: #E2EBFA;\n",
              "      box-shadow: 0px 1px 2px rgba(60, 64, 67, 0.3), 0px 1px 3px 1px rgba(60, 64, 67, 0.15);\n",
              "      fill: #174EA6;\n",
              "    }\n",
              "\n",
              "    [theme=dark] .colab-df-convert {\n",
              "      background-color: #3B4455;\n",
              "      fill: #D2E3FC;\n",
              "    }\n",
              "\n",
              "    [theme=dark] .colab-df-convert:hover {\n",
              "      background-color: #434B5C;\n",
              "      box-shadow: 0px 1px 3px 1px rgba(0, 0, 0, 0.15);\n",
              "      filter: drop-shadow(0px 1px 2px rgba(0, 0, 0, 0.3));\n",
              "      fill: #FFFFFF;\n",
              "    }\n",
              "  </style>\n",
              "\n",
              "      <script>\n",
              "        const buttonEl =\n",
              "          document.querySelector('#df-9fe06140-958d-407e-b473-0a3230a01e58 button.colab-df-convert');\n",
              "        buttonEl.style.display =\n",
              "          google.colab.kernel.accessAllowed ? 'block' : 'none';\n",
              "\n",
              "        async function convertToInteractive(key) {\n",
              "          const element = document.querySelector('#df-9fe06140-958d-407e-b473-0a3230a01e58');\n",
              "          const dataTable =\n",
              "            await google.colab.kernel.invokeFunction('convertToInteractive',\n",
              "                                                     [key], {});\n",
              "          if (!dataTable) return;\n",
              "\n",
              "          const docLinkHtml = 'Like what you see? Visit the ' +\n",
              "            '<a target=\"_blank\" href=https://colab.research.google.com/notebooks/data_table.ipynb>data table notebook</a>'\n",
              "            + ' to learn more about interactive tables.';\n",
              "          element.innerHTML = '';\n",
              "          dataTable['output_type'] = 'display_data';\n",
              "          await google.colab.output.renderOutput(dataTable, element);\n",
              "          const docLink = document.createElement('div');\n",
              "          docLink.innerHTML = docLinkHtml;\n",
              "          element.appendChild(docLink);\n",
              "        }\n",
              "      </script>\n",
              "    </div>\n",
              "  </div>\n",
              "  "
            ]
          },
          "metadata": {},
          "execution_count": 41
        }
      ],
      "source": [
        "df = pd.concat([df, temp_df], axis=1)\n",
        "\n",
        "df.head()"
      ]
    },
    {
      "cell_type": "markdown",
      "metadata": {
        "id": "ft7-3UH5SfZe"
      },
      "source": [
        "## Bag of Word Representation\n",
        "\n",
        "We call vectorization the general process of turning a collection of text documents into numerical feature vectors. This specific strategy (tokenization, counting and normalization) is called the Bag of Words or \"Bag of n-grams\" representation. Documents are described by word occurrences while completely ignoring the relative position information of the words in the document.\n",
        "\n",
        "We will use `CountVectorizer` to **convert text into a matrix of token count**.\n",
        "\n",
        "`Bag of Words`: https://machinelearningmastery.com/gentle-introduction-bag-words-model/\n",
        "\n",
        "`Code Example`: https://machinelearningmastery.com/prepare-text-data-machine-learning-scikit-learn/  \n",
        "\n",
        "**We are going to perform below mentioned steps to understand the entire process:**  \n",
        "a. Converting text to numerical vectors with the help of `CountVectorizer`  \n",
        "b. Understand `fit` and `transform`  \n",
        "c. Looking at `vocabulary_`  \n",
        "d. Converting sparse matrix to dense matrix using `toarray()`  \n",
        "e. Understanding `n_gram`  \n",
        "\n",
        "### Advantages\n",
        "1. It is simple to understand and implement like OneHotEncoding.\n",
        "2. We have a fixed length encoding for any sequence of arbitrary length.\n",
        "3. Documents with same words/vocabulary will have similar representation. So if two documents have a similar vocabulary, they’ll be closer to each other in the vector space and vice versa.\n",
        "\n",
        "### Disadvantages\n",
        "1. The size of vector increases with the size of the vocabulary. Thus, sparsity continues to be a problem. One way to control it is by limiting the vocabulary to n number of the most frequent words.\n",
        "2. It does not capture the similarity between different words that mean the same thing. i.e. Semantic Meaning is not captured.\n",
        "> a. \"walk\", \"walked\", and \"walking\". BoW vectors of all three tokens will be equally apart.  \n",
        "> b. \"search\" and \"explore\" are synonyms. BoW won't capture the semantic similarity of these words.\n",
        "3. This representation does not have any way to handle out of vocabulary (OOV) words (i.e., new words that were not seen in the corpus that was used to build the vectorizer).\n",
        "4. As the name indicates, it is a “bag” of words. Word order information is lost in this representation. One way to control it is by using n-grams.\n",
        "5. It suffers from **curse of high dimensionality.**"
      ]
    },
    {
      "cell_type": "code",
      "execution_count": 42,
      "metadata": {
        "id": "kvvDKA6wSfZf",
        "outputId": "8a7f1dbc-11cc-4e1a-faad-9d689f629cf2",
        "colab": {
          "base_uri": "https://localhost:8080/",
          "height": 175
        }
      },
      "outputs": [
        {
          "output_type": "execute_result",
          "data": {
            "text/plain": [
              "                            text clean_text_stem  text_length_stem  \\\n",
              "0     it Was the best oF Times $       best time                 2   \n",
              "1     It was The worst of times.      worst time                 2   \n",
              "2     IT 9 was tHe age Of wisdom      age wisdom                 2   \n",
              "3  it was thE age of foolishness     age foolish                 2   \n",
              "\n",
              "  clean_text_lemma  text_length_lemma  \n",
              "0        best time                  2  \n",
              "1       worst time                  2  \n",
              "2       age wisdom                  2  \n",
              "3  age foolishness                  2  "
            ],
            "text/html": [
              "\n",
              "  <div id=\"df-8d2d7016-1dfe-42be-9c73-9a761802f0ca\">\n",
              "    <div class=\"colab-df-container\">\n",
              "      <div>\n",
              "<style scoped>\n",
              "    .dataframe tbody tr th:only-of-type {\n",
              "        vertical-align: middle;\n",
              "    }\n",
              "\n",
              "    .dataframe tbody tr th {\n",
              "        vertical-align: top;\n",
              "    }\n",
              "\n",
              "    .dataframe thead th {\n",
              "        text-align: right;\n",
              "    }\n",
              "</style>\n",
              "<table border=\"1\" class=\"dataframe\">\n",
              "  <thead>\n",
              "    <tr style=\"text-align: right;\">\n",
              "      <th></th>\n",
              "      <th>text</th>\n",
              "      <th>clean_text_stem</th>\n",
              "      <th>text_length_stem</th>\n",
              "      <th>clean_text_lemma</th>\n",
              "      <th>text_length_lemma</th>\n",
              "    </tr>\n",
              "  </thead>\n",
              "  <tbody>\n",
              "    <tr>\n",
              "      <th>0</th>\n",
              "      <td>it Was the best oF Times $</td>\n",
              "      <td>best time</td>\n",
              "      <td>2</td>\n",
              "      <td>best time</td>\n",
              "      <td>2</td>\n",
              "    </tr>\n",
              "    <tr>\n",
              "      <th>1</th>\n",
              "      <td>It was The worst of times.</td>\n",
              "      <td>worst time</td>\n",
              "      <td>2</td>\n",
              "      <td>worst time</td>\n",
              "      <td>2</td>\n",
              "    </tr>\n",
              "    <tr>\n",
              "      <th>2</th>\n",
              "      <td>IT 9 was tHe age Of wisdom</td>\n",
              "      <td>age wisdom</td>\n",
              "      <td>2</td>\n",
              "      <td>age wisdom</td>\n",
              "      <td>2</td>\n",
              "    </tr>\n",
              "    <tr>\n",
              "      <th>3</th>\n",
              "      <td>it was thE age of foolishness</td>\n",
              "      <td>age foolish</td>\n",
              "      <td>2</td>\n",
              "      <td>age foolishness</td>\n",
              "      <td>2</td>\n",
              "    </tr>\n",
              "  </tbody>\n",
              "</table>\n",
              "</div>\n",
              "      <button class=\"colab-df-convert\" onclick=\"convertToInteractive('df-8d2d7016-1dfe-42be-9c73-9a761802f0ca')\"\n",
              "              title=\"Convert this dataframe to an interactive table.\"\n",
              "              style=\"display:none;\">\n",
              "        \n",
              "  <svg xmlns=\"http://www.w3.org/2000/svg\" height=\"24px\"viewBox=\"0 0 24 24\"\n",
              "       width=\"24px\">\n",
              "    <path d=\"M0 0h24v24H0V0z\" fill=\"none\"/>\n",
              "    <path d=\"M18.56 5.44l.94 2.06.94-2.06 2.06-.94-2.06-.94-.94-2.06-.94 2.06-2.06.94zm-11 1L8.5 8.5l.94-2.06 2.06-.94-2.06-.94L8.5 2.5l-.94 2.06-2.06.94zm10 10l.94 2.06.94-2.06 2.06-.94-2.06-.94-.94-2.06-.94 2.06-2.06.94z\"/><path d=\"M17.41 7.96l-1.37-1.37c-.4-.4-.92-.59-1.43-.59-.52 0-1.04.2-1.43.59L10.3 9.45l-7.72 7.72c-.78.78-.78 2.05 0 2.83L4 21.41c.39.39.9.59 1.41.59.51 0 1.02-.2 1.41-.59l7.78-7.78 2.81-2.81c.8-.78.8-2.07 0-2.86zM5.41 20L4 18.59l7.72-7.72 1.47 1.35L5.41 20z\"/>\n",
              "  </svg>\n",
              "      </button>\n",
              "      \n",
              "  <style>\n",
              "    .colab-df-container {\n",
              "      display:flex;\n",
              "      flex-wrap:wrap;\n",
              "      gap: 12px;\n",
              "    }\n",
              "\n",
              "    .colab-df-convert {\n",
              "      background-color: #E8F0FE;\n",
              "      border: none;\n",
              "      border-radius: 50%;\n",
              "      cursor: pointer;\n",
              "      display: none;\n",
              "      fill: #1967D2;\n",
              "      height: 32px;\n",
              "      padding: 0 0 0 0;\n",
              "      width: 32px;\n",
              "    }\n",
              "\n",
              "    .colab-df-convert:hover {\n",
              "      background-color: #E2EBFA;\n",
              "      box-shadow: 0px 1px 2px rgba(60, 64, 67, 0.3), 0px 1px 3px 1px rgba(60, 64, 67, 0.15);\n",
              "      fill: #174EA6;\n",
              "    }\n",
              "\n",
              "    [theme=dark] .colab-df-convert {\n",
              "      background-color: #3B4455;\n",
              "      fill: #D2E3FC;\n",
              "    }\n",
              "\n",
              "    [theme=dark] .colab-df-convert:hover {\n",
              "      background-color: #434B5C;\n",
              "      box-shadow: 0px 1px 3px 1px rgba(0, 0, 0, 0.15);\n",
              "      filter: drop-shadow(0px 1px 2px rgba(0, 0, 0, 0.3));\n",
              "      fill: #FFFFFF;\n",
              "    }\n",
              "  </style>\n",
              "\n",
              "      <script>\n",
              "        const buttonEl =\n",
              "          document.querySelector('#df-8d2d7016-1dfe-42be-9c73-9a761802f0ca button.colab-df-convert');\n",
              "        buttonEl.style.display =\n",
              "          google.colab.kernel.accessAllowed ? 'block' : 'none';\n",
              "\n",
              "        async function convertToInteractive(key) {\n",
              "          const element = document.querySelector('#df-8d2d7016-1dfe-42be-9c73-9a761802f0ca');\n",
              "          const dataTable =\n",
              "            await google.colab.kernel.invokeFunction('convertToInteractive',\n",
              "                                                     [key], {});\n",
              "          if (!dataTable) return;\n",
              "\n",
              "          const docLinkHtml = 'Like what you see? Visit the ' +\n",
              "            '<a target=\"_blank\" href=https://colab.research.google.com/notebooks/data_table.ipynb>data table notebook</a>'\n",
              "            + ' to learn more about interactive tables.';\n",
              "          element.innerHTML = '';\n",
              "          dataTable['output_type'] = 'display_data';\n",
              "          await google.colab.output.renderOutput(dataTable, element);\n",
              "          const docLink = document.createElement('div');\n",
              "          docLink.innerHTML = docLinkHtml;\n",
              "          element.appendChild(docLink);\n",
              "        }\n",
              "      </script>\n",
              "    </div>\n",
              "  </div>\n",
              "  "
            ]
          },
          "metadata": {},
          "execution_count": 42
        }
      ],
      "source": [
        "df.head()"
      ]
    },
    {
      "cell_type": "code",
      "execution_count": 43,
      "metadata": {
        "id": "sm6L-q4cSfZg"
      },
      "outputs": [],
      "source": [
        "# Bag of Words\n",
        "\n",
        "from sklearn.feature_extraction.text import CountVectorizer\n",
        "\n",
        "# Initialize the \"CountVectorizer\" object, which is scikit-learn's\n",
        "# bag of words tool.\n",
        "vocab = CountVectorizer()\n",
        "\n",
        "# fit_transform() does two functions: First, it fits the model\n",
        "# and learns the vocabulary; second, it transforms our training data\n",
        "# into feature vectors. The input to fit_transform should be a list of \n",
        "# strings.\n",
        "\n",
        "dtm = vocab.fit_transform(df['clean_text_lemma'])\n",
        "\n",
        "# fit_transform() could be done seperatly as mentioned below\n",
        "# vocab.fit(df.clean_text_stem)\n",
        "# dtm = vocab.transform(df.clean_text_stem)"
      ]
    },
    {
      "cell_type": "code",
      "execution_count": 44,
      "metadata": {
        "id": "zpfrc21bSfZg",
        "outputId": "28abe17e-4992-4eb5-d88d-365baadca6a3",
        "colab": {
          "base_uri": "https://localhost:8080/"
        }
      },
      "outputs": [
        {
          "output_type": "execute_result",
          "data": {
            "text/plain": [
              "{'best': 1, 'time': 3, 'worst': 5, 'age': 0, 'wisdom': 4, 'foolishness': 2}"
            ]
          },
          "metadata": {},
          "execution_count": 44
        }
      ],
      "source": [
        "# We can look at unique words by using 'vocabulary_'\n",
        "\n",
        "vocab.vocabulary_"
      ]
    },
    {
      "cell_type": "code",
      "execution_count": 45,
      "metadata": {
        "id": "eGCadGxVSfZh",
        "outputId": "4d21031e-7f16-4a0a-daf3-586ce8ec36b3",
        "colab": {
          "base_uri": "https://localhost:8080/"
        }
      },
      "outputs": [
        {
          "output_type": "stream",
          "name": "stdout",
          "text": [
            "<class 'scipy.sparse.csr.csr_matrix'>\n"
          ]
        }
      ],
      "source": [
        "# Observe that the type of dtm is sparse\n",
        "\n",
        "print(type(dtm))"
      ]
    },
    {
      "cell_type": "code",
      "execution_count": 46,
      "metadata": {
        "id": "rCZq19bDSfZh",
        "outputId": "8ed5bf45-2e31-4e9c-d28a-1e6f7f3d9bdb",
        "colab": {
          "base_uri": "https://localhost:8080/"
        }
      },
      "outputs": [
        {
          "output_type": "stream",
          "name": "stdout",
          "text": [
            "(4, 6)\n"
          ]
        }
      ],
      "source": [
        "# Lets now print the  shape of this dtm\n",
        "\n",
        "print(dtm.shape)\n",
        "\n",
        "# o/p -> (4, 6)\n",
        "# i.e -> 4 documents and 6 unique words"
      ]
    },
    {
      "cell_type": "code",
      "execution_count": 47,
      "metadata": {
        "id": "P4RsgNj2SfZh",
        "outputId": "383378b0-7067-4fef-b27b-f1c2b514c19a",
        "colab": {
          "base_uri": "https://localhost:8080/"
        }
      },
      "outputs": [
        {
          "output_type": "stream",
          "name": "stdout",
          "text": [
            "  (0, 1)\t1\n",
            "  (0, 3)\t1\n",
            "  (1, 3)\t1\n",
            "  (1, 5)\t1\n",
            "  (2, 0)\t1\n",
            "  (2, 4)\t1\n",
            "  (3, 0)\t1\n",
            "  (3, 2)\t1\n"
          ]
        }
      ],
      "source": [
        "# Lets look at the dtm\n",
        "\n",
        "print(dtm)\n",
        "\n",
        "# Remember that dtm is a sparse matrix. i.e. zeros wont be stored\n",
        "# Lets understand First line of output -> (0,1)    1\n",
        "# Here (0, 1) means 0th document and 1st(index starting from 0) unique word. \n",
        "# (we have total 4 documents) & (we have total 6 unique words)\n",
        "# (0, 1)    1 -> 1 here refers to the number of occurence of 1st word\n",
        "# Now lets read it all in english.\n",
        "# (0, 1)    1 -> 'times' occurs 1 time in 0th document. \n",
        "# Try to observe -> (3, 2)   1"
      ]
    },
    {
      "cell_type": "code",
      "execution_count": 48,
      "metadata": {
        "id": "ZdYxQnHNSfZi",
        "outputId": "8f41a9f3-bb08-4440-c765-10fb863aff54",
        "colab": {
          "base_uri": "https://localhost:8080/"
        }
      },
      "outputs": [
        {
          "output_type": "stream",
          "name": "stdout",
          "text": [
            "[[0 1 0 1 0 0]\n",
            " [0 0 0 1 0 1]\n",
            " [1 0 0 0 1 0]\n",
            " [1 0 1 0 0 0]]\n"
          ]
        }
      ],
      "source": [
        "# Since the dtm is sparse, lets convert it into numpy array.\n",
        "\n",
        "print(dtm.toarray())"
      ]
    },
    {
      "cell_type": "code",
      "execution_count": 49,
      "metadata": {
        "id": "l-BT_w9dSfZi",
        "outputId": "ed0f4f41-f6b5-4515-f8db-842f982e2142",
        "colab": {
          "base_uri": "https://localhost:8080/"
        }
      },
      "outputs": [
        {
          "output_type": "execute_result",
          "data": {
            "text/plain": [
              "['age', 'best', 'foolishness', 'time', 'wisdom', 'worst']"
            ]
          },
          "metadata": {},
          "execution_count": 49
        }
      ],
      "source": [
        "sorted(vocab.vocabulary_)"
      ]
    },
    {
      "cell_type": "code",
      "execution_count": 50,
      "metadata": {
        "id": "jHFHo3o8SfZi",
        "outputId": "225e0bbf-875f-405f-a5a4-640f7634363f",
        "colab": {
          "base_uri": "https://localhost:8080/",
          "height": 175
        }
      },
      "outputs": [
        {
          "output_type": "execute_result",
          "data": {
            "text/plain": [
              "   age  best  foolishness  time  wisdom  worst\n",
              "0    0     1            0     1       0      0\n",
              "1    0     0            0     1       0      1\n",
              "2    1     0            0     0       1      0\n",
              "3    1     0            1     0       0      0"
            ],
            "text/html": [
              "\n",
              "  <div id=\"df-0df7e290-8f88-4965-95fd-c456e7bc231a\">\n",
              "    <div class=\"colab-df-container\">\n",
              "      <div>\n",
              "<style scoped>\n",
              "    .dataframe tbody tr th:only-of-type {\n",
              "        vertical-align: middle;\n",
              "    }\n",
              "\n",
              "    .dataframe tbody tr th {\n",
              "        vertical-align: top;\n",
              "    }\n",
              "\n",
              "    .dataframe thead th {\n",
              "        text-align: right;\n",
              "    }\n",
              "</style>\n",
              "<table border=\"1\" class=\"dataframe\">\n",
              "  <thead>\n",
              "    <tr style=\"text-align: right;\">\n",
              "      <th></th>\n",
              "      <th>age</th>\n",
              "      <th>best</th>\n",
              "      <th>foolishness</th>\n",
              "      <th>time</th>\n",
              "      <th>wisdom</th>\n",
              "      <th>worst</th>\n",
              "    </tr>\n",
              "  </thead>\n",
              "  <tbody>\n",
              "    <tr>\n",
              "      <th>0</th>\n",
              "      <td>0</td>\n",
              "      <td>1</td>\n",
              "      <td>0</td>\n",
              "      <td>1</td>\n",
              "      <td>0</td>\n",
              "      <td>0</td>\n",
              "    </tr>\n",
              "    <tr>\n",
              "      <th>1</th>\n",
              "      <td>0</td>\n",
              "      <td>0</td>\n",
              "      <td>0</td>\n",
              "      <td>1</td>\n",
              "      <td>0</td>\n",
              "      <td>1</td>\n",
              "    </tr>\n",
              "    <tr>\n",
              "      <th>2</th>\n",
              "      <td>1</td>\n",
              "      <td>0</td>\n",
              "      <td>0</td>\n",
              "      <td>0</td>\n",
              "      <td>1</td>\n",
              "      <td>0</td>\n",
              "    </tr>\n",
              "    <tr>\n",
              "      <th>3</th>\n",
              "      <td>1</td>\n",
              "      <td>0</td>\n",
              "      <td>1</td>\n",
              "      <td>0</td>\n",
              "      <td>0</td>\n",
              "      <td>0</td>\n",
              "    </tr>\n",
              "  </tbody>\n",
              "</table>\n",
              "</div>\n",
              "      <button class=\"colab-df-convert\" onclick=\"convertToInteractive('df-0df7e290-8f88-4965-95fd-c456e7bc231a')\"\n",
              "              title=\"Convert this dataframe to an interactive table.\"\n",
              "              style=\"display:none;\">\n",
              "        \n",
              "  <svg xmlns=\"http://www.w3.org/2000/svg\" height=\"24px\"viewBox=\"0 0 24 24\"\n",
              "       width=\"24px\">\n",
              "    <path d=\"M0 0h24v24H0V0z\" fill=\"none\"/>\n",
              "    <path d=\"M18.56 5.44l.94 2.06.94-2.06 2.06-.94-2.06-.94-.94-2.06-.94 2.06-2.06.94zm-11 1L8.5 8.5l.94-2.06 2.06-.94-2.06-.94L8.5 2.5l-.94 2.06-2.06.94zm10 10l.94 2.06.94-2.06 2.06-.94-2.06-.94-.94-2.06-.94 2.06-2.06.94z\"/><path d=\"M17.41 7.96l-1.37-1.37c-.4-.4-.92-.59-1.43-.59-.52 0-1.04.2-1.43.59L10.3 9.45l-7.72 7.72c-.78.78-.78 2.05 0 2.83L4 21.41c.39.39.9.59 1.41.59.51 0 1.02-.2 1.41-.59l7.78-7.78 2.81-2.81c.8-.78.8-2.07 0-2.86zM5.41 20L4 18.59l7.72-7.72 1.47 1.35L5.41 20z\"/>\n",
              "  </svg>\n",
              "      </button>\n",
              "      \n",
              "  <style>\n",
              "    .colab-df-container {\n",
              "      display:flex;\n",
              "      flex-wrap:wrap;\n",
              "      gap: 12px;\n",
              "    }\n",
              "\n",
              "    .colab-df-convert {\n",
              "      background-color: #E8F0FE;\n",
              "      border: none;\n",
              "      border-radius: 50%;\n",
              "      cursor: pointer;\n",
              "      display: none;\n",
              "      fill: #1967D2;\n",
              "      height: 32px;\n",
              "      padding: 0 0 0 0;\n",
              "      width: 32px;\n",
              "    }\n",
              "\n",
              "    .colab-df-convert:hover {\n",
              "      background-color: #E2EBFA;\n",
              "      box-shadow: 0px 1px 2px rgba(60, 64, 67, 0.3), 0px 1px 3px 1px rgba(60, 64, 67, 0.15);\n",
              "      fill: #174EA6;\n",
              "    }\n",
              "\n",
              "    [theme=dark] .colab-df-convert {\n",
              "      background-color: #3B4455;\n",
              "      fill: #D2E3FC;\n",
              "    }\n",
              "\n",
              "    [theme=dark] .colab-df-convert:hover {\n",
              "      background-color: #434B5C;\n",
              "      box-shadow: 0px 1px 3px 1px rgba(0, 0, 0, 0.15);\n",
              "      filter: drop-shadow(0px 1px 2px rgba(0, 0, 0, 0.3));\n",
              "      fill: #FFFFFF;\n",
              "    }\n",
              "  </style>\n",
              "\n",
              "      <script>\n",
              "        const buttonEl =\n",
              "          document.querySelector('#df-0df7e290-8f88-4965-95fd-c456e7bc231a button.colab-df-convert');\n",
              "        buttonEl.style.display =\n",
              "          google.colab.kernel.accessAllowed ? 'block' : 'none';\n",
              "\n",
              "        async function convertToInteractive(key) {\n",
              "          const element = document.querySelector('#df-0df7e290-8f88-4965-95fd-c456e7bc231a');\n",
              "          const dataTable =\n",
              "            await google.colab.kernel.invokeFunction('convertToInteractive',\n",
              "                                                     [key], {});\n",
              "          if (!dataTable) return;\n",
              "\n",
              "          const docLinkHtml = 'Like what you see? Visit the ' +\n",
              "            '<a target=\"_blank\" href=https://colab.research.google.com/notebooks/data_table.ipynb>data table notebook</a>'\n",
              "            + ' to learn more about interactive tables.';\n",
              "          element.innerHTML = '';\n",
              "          dataTable['output_type'] = 'display_data';\n",
              "          await google.colab.output.renderOutput(dataTable, element);\n",
              "          const docLink = document.createElement('div');\n",
              "          docLink.innerHTML = docLinkHtml;\n",
              "          element.appendChild(docLink);\n",
              "        }\n",
              "      </script>\n",
              "    </div>\n",
              "  </div>\n",
              "  "
            ]
          },
          "metadata": {},
          "execution_count": 50
        }
      ],
      "source": [
        "pd.DataFrame(dtm.toarray(), columns=sorted(vocab.vocabulary_))"
      ]
    },
    {
      "cell_type": "code",
      "execution_count": 51,
      "metadata": {
        "id": "x6z37rArSfZj"
      },
      "outputs": [],
      "source": [
        "# 2-grams\n",
        "\n",
        "vocab = CountVectorizer(ngram_range=[1,2])\n",
        "\n",
        "dtm = vocab.fit_transform(df.clean_text_stem)"
      ]
    },
    {
      "cell_type": "code",
      "execution_count": 52,
      "metadata": {
        "id": "ShdbxBF-SfZj",
        "outputId": "e2090759-db69-43e2-c614-167650facb58",
        "colab": {
          "base_uri": "https://localhost:8080/"
        }
      },
      "outputs": [
        {
          "output_type": "stream",
          "name": "stdout",
          "text": [
            "{'best': 3, 'time': 6, 'best time': 4, 'worst': 8, 'worst time': 9, 'age': 0, 'wisdom': 7, 'age wisdom': 2, 'foolish': 5, 'age foolish': 1}\n"
          ]
        }
      ],
      "source": [
        "print(vocab.vocabulary_)"
      ]
    },
    {
      "cell_type": "code",
      "execution_count": 53,
      "metadata": {
        "scrolled": true,
        "id": "LUB8kQ39SfZj",
        "outputId": "4893a434-ebcd-4a40-bd06-eb0ead284f77",
        "colab": {
          "base_uri": "https://localhost:8080/"
        }
      },
      "outputs": [
        {
          "output_type": "stream",
          "name": "stdout",
          "text": [
            "[[0 0 0 1 1 0 1 0 0 0]\n",
            " [0 0 0 0 0 0 1 0 1 1]\n",
            " [1 0 1 0 0 0 0 1 0 0]\n",
            " [1 1 0 0 0 1 0 0 0 0]]\n"
          ]
        }
      ],
      "source": [
        "# convert sparse matrix to numpy array\n",
        "print(dtm.toarray())"
      ]
    },
    {
      "cell_type": "code",
      "execution_count": 54,
      "metadata": {
        "scrolled": true,
        "id": "TFIswN7TSfZk",
        "outputId": "323138bf-7e5c-42a1-8f2e-b29bdce2e221",
        "colab": {
          "base_uri": "https://localhost:8080/",
          "height": 175
        }
      },
      "outputs": [
        {
          "output_type": "execute_result",
          "data": {
            "text/plain": [
              "   age  age foolish  age wisdom  best  best time  foolish  time  wisdom  \\\n",
              "0    0            0           0     1          1        0     1       0   \n",
              "1    0            0           0     0          0        0     1       0   \n",
              "2    1            0           1     0          0        0     0       1   \n",
              "3    1            1           0     0          0        1     0       0   \n",
              "\n",
              "   worst  worst time  \n",
              "0      0           0  \n",
              "1      1           1  \n",
              "2      0           0  \n",
              "3      0           0  "
            ],
            "text/html": [
              "\n",
              "  <div id=\"df-b189c243-902e-43c7-84a7-0a7137617cc8\">\n",
              "    <div class=\"colab-df-container\">\n",
              "      <div>\n",
              "<style scoped>\n",
              "    .dataframe tbody tr th:only-of-type {\n",
              "        vertical-align: middle;\n",
              "    }\n",
              "\n",
              "    .dataframe tbody tr th {\n",
              "        vertical-align: top;\n",
              "    }\n",
              "\n",
              "    .dataframe thead th {\n",
              "        text-align: right;\n",
              "    }\n",
              "</style>\n",
              "<table border=\"1\" class=\"dataframe\">\n",
              "  <thead>\n",
              "    <tr style=\"text-align: right;\">\n",
              "      <th></th>\n",
              "      <th>age</th>\n",
              "      <th>age foolish</th>\n",
              "      <th>age wisdom</th>\n",
              "      <th>best</th>\n",
              "      <th>best time</th>\n",
              "      <th>foolish</th>\n",
              "      <th>time</th>\n",
              "      <th>wisdom</th>\n",
              "      <th>worst</th>\n",
              "      <th>worst time</th>\n",
              "    </tr>\n",
              "  </thead>\n",
              "  <tbody>\n",
              "    <tr>\n",
              "      <th>0</th>\n",
              "      <td>0</td>\n",
              "      <td>0</td>\n",
              "      <td>0</td>\n",
              "      <td>1</td>\n",
              "      <td>1</td>\n",
              "      <td>0</td>\n",
              "      <td>1</td>\n",
              "      <td>0</td>\n",
              "      <td>0</td>\n",
              "      <td>0</td>\n",
              "    </tr>\n",
              "    <tr>\n",
              "      <th>1</th>\n",
              "      <td>0</td>\n",
              "      <td>0</td>\n",
              "      <td>0</td>\n",
              "      <td>0</td>\n",
              "      <td>0</td>\n",
              "      <td>0</td>\n",
              "      <td>1</td>\n",
              "      <td>0</td>\n",
              "      <td>1</td>\n",
              "      <td>1</td>\n",
              "    </tr>\n",
              "    <tr>\n",
              "      <th>2</th>\n",
              "      <td>1</td>\n",
              "      <td>0</td>\n",
              "      <td>1</td>\n",
              "      <td>0</td>\n",
              "      <td>0</td>\n",
              "      <td>0</td>\n",
              "      <td>0</td>\n",
              "      <td>1</td>\n",
              "      <td>0</td>\n",
              "      <td>0</td>\n",
              "    </tr>\n",
              "    <tr>\n",
              "      <th>3</th>\n",
              "      <td>1</td>\n",
              "      <td>1</td>\n",
              "      <td>0</td>\n",
              "      <td>0</td>\n",
              "      <td>0</td>\n",
              "      <td>1</td>\n",
              "      <td>0</td>\n",
              "      <td>0</td>\n",
              "      <td>0</td>\n",
              "      <td>0</td>\n",
              "    </tr>\n",
              "  </tbody>\n",
              "</table>\n",
              "</div>\n",
              "      <button class=\"colab-df-convert\" onclick=\"convertToInteractive('df-b189c243-902e-43c7-84a7-0a7137617cc8')\"\n",
              "              title=\"Convert this dataframe to an interactive table.\"\n",
              "              style=\"display:none;\">\n",
              "        \n",
              "  <svg xmlns=\"http://www.w3.org/2000/svg\" height=\"24px\"viewBox=\"0 0 24 24\"\n",
              "       width=\"24px\">\n",
              "    <path d=\"M0 0h24v24H0V0z\" fill=\"none\"/>\n",
              "    <path d=\"M18.56 5.44l.94 2.06.94-2.06 2.06-.94-2.06-.94-.94-2.06-.94 2.06-2.06.94zm-11 1L8.5 8.5l.94-2.06 2.06-.94-2.06-.94L8.5 2.5l-.94 2.06-2.06.94zm10 10l.94 2.06.94-2.06 2.06-.94-2.06-.94-.94-2.06-.94 2.06-2.06.94z\"/><path d=\"M17.41 7.96l-1.37-1.37c-.4-.4-.92-.59-1.43-.59-.52 0-1.04.2-1.43.59L10.3 9.45l-7.72 7.72c-.78.78-.78 2.05 0 2.83L4 21.41c.39.39.9.59 1.41.59.51 0 1.02-.2 1.41-.59l7.78-7.78 2.81-2.81c.8-.78.8-2.07 0-2.86zM5.41 20L4 18.59l7.72-7.72 1.47 1.35L5.41 20z\"/>\n",
              "  </svg>\n",
              "      </button>\n",
              "      \n",
              "  <style>\n",
              "    .colab-df-container {\n",
              "      display:flex;\n",
              "      flex-wrap:wrap;\n",
              "      gap: 12px;\n",
              "    }\n",
              "\n",
              "    .colab-df-convert {\n",
              "      background-color: #E8F0FE;\n",
              "      border: none;\n",
              "      border-radius: 50%;\n",
              "      cursor: pointer;\n",
              "      display: none;\n",
              "      fill: #1967D2;\n",
              "      height: 32px;\n",
              "      padding: 0 0 0 0;\n",
              "      width: 32px;\n",
              "    }\n",
              "\n",
              "    .colab-df-convert:hover {\n",
              "      background-color: #E2EBFA;\n",
              "      box-shadow: 0px 1px 2px rgba(60, 64, 67, 0.3), 0px 1px 3px 1px rgba(60, 64, 67, 0.15);\n",
              "      fill: #174EA6;\n",
              "    }\n",
              "\n",
              "    [theme=dark] .colab-df-convert {\n",
              "      background-color: #3B4455;\n",
              "      fill: #D2E3FC;\n",
              "    }\n",
              "\n",
              "    [theme=dark] .colab-df-convert:hover {\n",
              "      background-color: #434B5C;\n",
              "      box-shadow: 0px 1px 3px 1px rgba(0, 0, 0, 0.15);\n",
              "      filter: drop-shadow(0px 1px 2px rgba(0, 0, 0, 0.3));\n",
              "      fill: #FFFFFF;\n",
              "    }\n",
              "  </style>\n",
              "\n",
              "      <script>\n",
              "        const buttonEl =\n",
              "          document.querySelector('#df-b189c243-902e-43c7-84a7-0a7137617cc8 button.colab-df-convert');\n",
              "        buttonEl.style.display =\n",
              "          google.colab.kernel.accessAllowed ? 'block' : 'none';\n",
              "\n",
              "        async function convertToInteractive(key) {\n",
              "          const element = document.querySelector('#df-b189c243-902e-43c7-84a7-0a7137617cc8');\n",
              "          const dataTable =\n",
              "            await google.colab.kernel.invokeFunction('convertToInteractive',\n",
              "                                                     [key], {});\n",
              "          if (!dataTable) return;\n",
              "\n",
              "          const docLinkHtml = 'Like what you see? Visit the ' +\n",
              "            '<a target=\"_blank\" href=https://colab.research.google.com/notebooks/data_table.ipynb>data table notebook</a>'\n",
              "            + ' to learn more about interactive tables.';\n",
              "          element.innerHTML = '';\n",
              "          dataTable['output_type'] = 'display_data';\n",
              "          await google.colab.output.renderOutput(dataTable, element);\n",
              "          const docLink = document.createElement('div');\n",
              "          docLink.innerHTML = docLinkHtml;\n",
              "          element.appendChild(docLink);\n",
              "        }\n",
              "      </script>\n",
              "    </div>\n",
              "  </div>\n",
              "  "
            ]
          },
          "metadata": {},
          "execution_count": 54
        }
      ],
      "source": [
        "pd.DataFrame(dtm.toarray(), columns=sorted(vocab.vocabulary_))"
      ]
    },
    {
      "cell_type": "markdown",
      "metadata": {
        "id": "zNjyY1QySfZk"
      },
      "source": [
        "**Observations:**\n",
        "\n",
        "- `vect.fit(lst_text)` **learns the vocabulary**\n",
        "- `vect.transform(lst_text)` **uses the fitted vocabulary** to build a **document-term matrix**"
      ]
    },
    {
      "cell_type": "markdown",
      "metadata": {
        "id": "6mYc-Zk2SfZl"
      },
      "source": [
        "## Term Frequency Inverse Document Frequency\n",
        "\n",
        "In BOW approach all the words in the text are treated as equally important i.e. there's no notion of some words in the document being more important than others. TF-IDF, or term frequency-inverse document frequency, addresses this issue. It aims to quantify the importance of a given word relative to other words in the document and in the corpus.\n",
        "\n",
        "***\n",
        "\n",
        "Let's now try to understand:\n",
        "1. Term Frequency  \n",
        "2. Inverse Document Frequency\n",
        "\n",
        "$$ TF \\ IDF = TF(word_i, doc_j) * IDF(word_i, corpus) $$\n",
        "\n",
        "$$ TF(word_i, doc_j) = \\frac{No \\ of \\ time \\ word_i \\ occurs \\ in \\ doc_j}{Total \\ no \\ of \\ words \\ in \\ doc_j} $$\n",
        "\n",
        "$$ IDF(word_i, corpus) = \\log_n(\\frac{No \\ of \\ docs \\ in \\ corpus}{No \\ of \\ docs \\ which \\ contains \\ word_i}) $$\n",
        "\n",
        "***\n",
        "\n",
        "### Advantages\n",
        "1. If the word is rare in the corpus, it will be given more importance. (i.e. IDF)\n",
        "2. If the word is more frequent in a document, it will be given more importance. (i.e. TF)\n",
        "\n",
        "### Disadvantages\n",
        "> **Same as BOW**"
      ]
    },
    {
      "cell_type": "code",
      "execution_count": 55,
      "metadata": {
        "id": "TVjKE9x_SfZl"
      },
      "outputs": [],
      "source": [
        "# TF-IDF\n",
        "\n",
        "from sklearn.feature_extraction.text import TfidfVectorizer\n",
        "\n",
        "vectorizer = TfidfVectorizer()\n",
        "\n",
        "dtm = vectorizer.fit_transform(df.clean_text_lemma)"
      ]
    },
    {
      "cell_type": "code",
      "execution_count": 56,
      "metadata": {
        "id": "CYKtDLK0SfZm",
        "outputId": "d192c9ff-8316-4224-fe87-75b8d8b7e878",
        "colab": {
          "base_uri": "https://localhost:8080/"
        }
      },
      "outputs": [
        {
          "output_type": "stream",
          "name": "stdout",
          "text": [
            "{'best': 1, 'time': 3, 'worst': 5, 'age': 0, 'wisdom': 4, 'foolishness': 2}\n"
          ]
        }
      ],
      "source": [
        "print(vectorizer.vocabulary_)"
      ]
    },
    {
      "cell_type": "code",
      "execution_count": 57,
      "metadata": {
        "scrolled": true,
        "id": "hqecWwkpSfZm",
        "outputId": "d789011c-d7b9-4a72-b92a-c60ab9afca42",
        "colab": {
          "base_uri": "https://localhost:8080/"
        }
      },
      "outputs": [
        {
          "output_type": "stream",
          "name": "stdout",
          "text": [
            "[[0.         0.78528828 0.         0.6191303  0.         0.        ]\n",
            " [0.         0.         0.         0.6191303  0.         0.78528828]\n",
            " [0.6191303  0.         0.         0.         0.78528828 0.        ]\n",
            " [0.6191303  0.         0.78528828 0.         0.         0.        ]]\n"
          ]
        }
      ],
      "source": [
        "print(dtm.toarray()) \n",
        "\n",
        "# convert sparse matrix to nparray"
      ]
    },
    {
      "cell_type": "code",
      "execution_count": 58,
      "metadata": {
        "id": "TSQ5mn5dSfZm",
        "outputId": "6a0d5b3b-9acd-4d0b-ce7d-621a5df21bbd",
        "colab": {
          "base_uri": "https://localhost:8080/",
          "height": 175
        }
      },
      "outputs": [
        {
          "output_type": "execute_result",
          "data": {
            "text/plain": [
              "       age      best  foolishness     time    wisdom     worst\n",
              "0  0.00000  0.785288     0.000000  0.61913  0.000000  0.000000\n",
              "1  0.00000  0.000000     0.000000  0.61913  0.000000  0.785288\n",
              "2  0.61913  0.000000     0.000000  0.00000  0.785288  0.000000\n",
              "3  0.61913  0.000000     0.785288  0.00000  0.000000  0.000000"
            ],
            "text/html": [
              "\n",
              "  <div id=\"df-5ae4381b-5c1c-46b8-9ae7-34b4020f0fd6\">\n",
              "    <div class=\"colab-df-container\">\n",
              "      <div>\n",
              "<style scoped>\n",
              "    .dataframe tbody tr th:only-of-type {\n",
              "        vertical-align: middle;\n",
              "    }\n",
              "\n",
              "    .dataframe tbody tr th {\n",
              "        vertical-align: top;\n",
              "    }\n",
              "\n",
              "    .dataframe thead th {\n",
              "        text-align: right;\n",
              "    }\n",
              "</style>\n",
              "<table border=\"1\" class=\"dataframe\">\n",
              "  <thead>\n",
              "    <tr style=\"text-align: right;\">\n",
              "      <th></th>\n",
              "      <th>age</th>\n",
              "      <th>best</th>\n",
              "      <th>foolishness</th>\n",
              "      <th>time</th>\n",
              "      <th>wisdom</th>\n",
              "      <th>worst</th>\n",
              "    </tr>\n",
              "  </thead>\n",
              "  <tbody>\n",
              "    <tr>\n",
              "      <th>0</th>\n",
              "      <td>0.00000</td>\n",
              "      <td>0.785288</td>\n",
              "      <td>0.000000</td>\n",
              "      <td>0.61913</td>\n",
              "      <td>0.000000</td>\n",
              "      <td>0.000000</td>\n",
              "    </tr>\n",
              "    <tr>\n",
              "      <th>1</th>\n",
              "      <td>0.00000</td>\n",
              "      <td>0.000000</td>\n",
              "      <td>0.000000</td>\n",
              "      <td>0.61913</td>\n",
              "      <td>0.000000</td>\n",
              "      <td>0.785288</td>\n",
              "    </tr>\n",
              "    <tr>\n",
              "      <th>2</th>\n",
              "      <td>0.61913</td>\n",
              "      <td>0.000000</td>\n",
              "      <td>0.000000</td>\n",
              "      <td>0.00000</td>\n",
              "      <td>0.785288</td>\n",
              "      <td>0.000000</td>\n",
              "    </tr>\n",
              "    <tr>\n",
              "      <th>3</th>\n",
              "      <td>0.61913</td>\n",
              "      <td>0.000000</td>\n",
              "      <td>0.785288</td>\n",
              "      <td>0.00000</td>\n",
              "      <td>0.000000</td>\n",
              "      <td>0.000000</td>\n",
              "    </tr>\n",
              "  </tbody>\n",
              "</table>\n",
              "</div>\n",
              "      <button class=\"colab-df-convert\" onclick=\"convertToInteractive('df-5ae4381b-5c1c-46b8-9ae7-34b4020f0fd6')\"\n",
              "              title=\"Convert this dataframe to an interactive table.\"\n",
              "              style=\"display:none;\">\n",
              "        \n",
              "  <svg xmlns=\"http://www.w3.org/2000/svg\" height=\"24px\"viewBox=\"0 0 24 24\"\n",
              "       width=\"24px\">\n",
              "    <path d=\"M0 0h24v24H0V0z\" fill=\"none\"/>\n",
              "    <path d=\"M18.56 5.44l.94 2.06.94-2.06 2.06-.94-2.06-.94-.94-2.06-.94 2.06-2.06.94zm-11 1L8.5 8.5l.94-2.06 2.06-.94-2.06-.94L8.5 2.5l-.94 2.06-2.06.94zm10 10l.94 2.06.94-2.06 2.06-.94-2.06-.94-.94-2.06-.94 2.06-2.06.94z\"/><path d=\"M17.41 7.96l-1.37-1.37c-.4-.4-.92-.59-1.43-.59-.52 0-1.04.2-1.43.59L10.3 9.45l-7.72 7.72c-.78.78-.78 2.05 0 2.83L4 21.41c.39.39.9.59 1.41.59.51 0 1.02-.2 1.41-.59l7.78-7.78 2.81-2.81c.8-.78.8-2.07 0-2.86zM5.41 20L4 18.59l7.72-7.72 1.47 1.35L5.41 20z\"/>\n",
              "  </svg>\n",
              "      </button>\n",
              "      \n",
              "  <style>\n",
              "    .colab-df-container {\n",
              "      display:flex;\n",
              "      flex-wrap:wrap;\n",
              "      gap: 12px;\n",
              "    }\n",
              "\n",
              "    .colab-df-convert {\n",
              "      background-color: #E8F0FE;\n",
              "      border: none;\n",
              "      border-radius: 50%;\n",
              "      cursor: pointer;\n",
              "      display: none;\n",
              "      fill: #1967D2;\n",
              "      height: 32px;\n",
              "      padding: 0 0 0 0;\n",
              "      width: 32px;\n",
              "    }\n",
              "\n",
              "    .colab-df-convert:hover {\n",
              "      background-color: #E2EBFA;\n",
              "      box-shadow: 0px 1px 2px rgba(60, 64, 67, 0.3), 0px 1px 3px 1px rgba(60, 64, 67, 0.15);\n",
              "      fill: #174EA6;\n",
              "    }\n",
              "\n",
              "    [theme=dark] .colab-df-convert {\n",
              "      background-color: #3B4455;\n",
              "      fill: #D2E3FC;\n",
              "    }\n",
              "\n",
              "    [theme=dark] .colab-df-convert:hover {\n",
              "      background-color: #434B5C;\n",
              "      box-shadow: 0px 1px 3px 1px rgba(0, 0, 0, 0.15);\n",
              "      filter: drop-shadow(0px 1px 2px rgba(0, 0, 0, 0.3));\n",
              "      fill: #FFFFFF;\n",
              "    }\n",
              "  </style>\n",
              "\n",
              "      <script>\n",
              "        const buttonEl =\n",
              "          document.querySelector('#df-5ae4381b-5c1c-46b8-9ae7-34b4020f0fd6 button.colab-df-convert');\n",
              "        buttonEl.style.display =\n",
              "          google.colab.kernel.accessAllowed ? 'block' : 'none';\n",
              "\n",
              "        async function convertToInteractive(key) {\n",
              "          const element = document.querySelector('#df-5ae4381b-5c1c-46b8-9ae7-34b4020f0fd6');\n",
              "          const dataTable =\n",
              "            await google.colab.kernel.invokeFunction('convertToInteractive',\n",
              "                                                     [key], {});\n",
              "          if (!dataTable) return;\n",
              "\n",
              "          const docLinkHtml = 'Like what you see? Visit the ' +\n",
              "            '<a target=\"_blank\" href=https://colab.research.google.com/notebooks/data_table.ipynb>data table notebook</a>'\n",
              "            + ' to learn more about interactive tables.';\n",
              "          element.innerHTML = '';\n",
              "          dataTable['output_type'] = 'display_data';\n",
              "          await google.colab.output.renderOutput(dataTable, element);\n",
              "          const docLink = document.createElement('div');\n",
              "          docLink.innerHTML = docLinkHtml;\n",
              "          element.appendChild(docLink);\n",
              "        }\n",
              "      </script>\n",
              "    </div>\n",
              "  </div>\n",
              "  "
            ]
          },
          "metadata": {},
          "execution_count": 58
        }
      ],
      "source": [
        "pd.DataFrame(dtm.toarray(), columns=sorted(vectorizer.vocabulary_))"
      ]
    },
    {
      "cell_type": "markdown",
      "metadata": {
        "id": "7QS72b77SfZn"
      },
      "source": [
        "## Latent Space\n",
        "A latent space, also known as a latent feature space or embedding space, is an embedding of a set of items within a manifold in which items which resemble each other more closely are positioned closer to one another in the latent space.\n",
        "\n",
        "\n",
        "## Word Embeddings (Word Vectors)\n",
        "\n",
        "In natural language processing (NLP), [word embedding](https://en.wikipedia.org/wiki/Word_embedding) is a term used for the representation of words for text analysis, typically in the form of a real-valued vector that encodes the meaning of the word such that the words that are closer in the vector space are expected to be similar in meaning. Word embeddings can be obtained using a set of [language modeling](https://en.wikipedia.org/wiki/Language_model) and [feature learning](https://en.wikipedia.org/wiki/Feature_learning) techniques where words or phrases from the vocabulary are mapped to vectors of real numbers.\n",
        "\n",
        "Methods to generate this mapping include **neural networks**, **dimensionality reduction on the word co-occurrence matrix**, **probabilistic models**, **explainable knowledge base method**, and **explicit representation in terms of the context in which words appear**.\n",
        "\n",
        "Traditionally, one of the main **limitations of word embeddings** (word vector space models in general) is that words with multiple meanings are conflated into a single representation (a single vector in the semantic space). In other words, [polysemy](https://en.wikipedia.org/wiki/Polysemy) and [homonymy](https://en.wikipedia.org/wiki/Homonym) are not handled properly. \n",
        "\n",
        "\n",
        "\n",
        "## Word2Vec\n",
        "\n",
        "\"You shall know the word by the company it keeps.\" by JR Firth\n",
        "\n",
        "**Distributional Semantics (i.e. a word is characterized by the company it keeps)**  \n",
        "W2v works well because there is an idea of meaning distribution in the context.\n",
        "\n",
        "**Algorithms to generate Word2Vec Embeddings**\n",
        "1. SkipGram\n",
        "2. Continuous Bag of Words\n",
        "\n",
        "**Issue**  \n",
        "Even if the word is having three different meaning, W2v will return the weighted average of all three as the output. Now the question is, \n",
        "- Is it possible to segregate the three vectors to represent the words based in the context? \n",
        "$$ OR $$\n",
        "- Is it possible to disambiguate the word vectors based on the context?\n",
        "\n",
        "Word2Vec is not capturing the contextual information. This is where BERT comes handy."
      ]
    },
    {
      "cell_type": "markdown",
      "metadata": {
        "id": "m0QMoBgRSfZo"
      },
      "source": [
        "**`! pip install gensim`**  \n",
        "**`! pip install --upgrade gensim`**  \n",
        "Run this in command promp (admin mode)"
      ]
    },
    {
      "cell_type": "code",
      "source": [
        "! pip install --upgrade gensim"
      ],
      "metadata": {
        "colab": {
          "base_uri": "https://localhost:8080/"
        },
        "id": "jHHkxWT3Vk_I",
        "outputId": "78c2c777-ebcb-483b-f945-d7ec76b735c2"
      },
      "execution_count": 59,
      "outputs": [
        {
          "output_type": "stream",
          "name": "stdout",
          "text": [
            "Looking in indexes: https://pypi.org/simple, https://us-python.pkg.dev/colab-wheels/public/simple/\n",
            "Requirement already satisfied: gensim in /usr/local/lib/python3.7/dist-packages (3.6.0)\n",
            "Collecting gensim\n",
            "  Downloading gensim-4.2.0-cp37-cp37m-manylinux_2_12_x86_64.manylinux2010_x86_64.whl (24.1 MB)\n",
            "\u001b[K     |████████████████████████████████| 24.1 MB 1.5 MB/s \n",
            "\u001b[?25hRequirement already satisfied: numpy>=1.17.0 in /usr/local/lib/python3.7/dist-packages (from gensim) (1.21.6)\n",
            "Requirement already satisfied: smart-open>=1.8.1 in /usr/local/lib/python3.7/dist-packages (from gensim) (5.2.1)\n",
            "Requirement already satisfied: scipy>=0.18.1 in /usr/local/lib/python3.7/dist-packages (from gensim) (1.7.3)\n",
            "Installing collected packages: gensim\n",
            "  Attempting uninstall: gensim\n",
            "    Found existing installation: gensim 3.6.0\n",
            "    Uninstalling gensim-3.6.0:\n",
            "      Successfully uninstalled gensim-3.6.0\n",
            "Successfully installed gensim-4.2.0\n"
          ]
        }
      ]
    },
    {
      "cell_type": "code",
      "execution_count": 60,
      "metadata": {
        "scrolled": true,
        "id": "32X9gZsySfZo",
        "outputId": "32a8b7ad-c4e2-453e-f3c2-1124551a6b98",
        "colab": {
          "base_uri": "https://localhost:8080/"
        }
      },
      "outputs": [
        {
          "output_type": "stream",
          "name": "stdout",
          "text": [
            "4.2.0\n"
          ]
        }
      ],
      "source": [
        "import gensim\n",
        "\n",
        "print(gensim.__version__)"
      ]
    },
    {
      "cell_type": "code",
      "execution_count": 61,
      "metadata": {
        "id": "QTkf7TNeSfZp"
      },
      "outputs": [],
      "source": [
        "from gensim.models import Word2Vec"
      ]
    },
    {
      "cell_type": "code",
      "execution_count": 62,
      "metadata": {
        "id": "cbGl_3j1SfZp",
        "outputId": "0cc2c1f2-43c5-4d28-ffd1-6fa70f5558e4",
        "colab": {
          "base_uri": "https://localhost:8080/",
          "height": 175
        }
      },
      "outputs": [
        {
          "output_type": "execute_result",
          "data": {
            "text/plain": [
              "                            text clean_text_stem  text_length_stem  \\\n",
              "0     it Was the best oF Times $       best time                 2   \n",
              "1     It was The worst of times.      worst time                 2   \n",
              "2     IT 9 was tHe age Of wisdom      age wisdom                 2   \n",
              "3  it was thE age of foolishness     age foolish                 2   \n",
              "\n",
              "  clean_text_lemma  text_length_lemma tokenised_sentences  \n",
              "0        best time                  2        [best, time]  \n",
              "1       worst time                  2       [worst, time]  \n",
              "2       age wisdom                  2       [age, wisdom]  \n",
              "3  age foolishness                  2      [age, foolish]  "
            ],
            "text/html": [
              "\n",
              "  <div id=\"df-33f2dff7-1c6f-4c3e-9c49-1a897fbe1be8\">\n",
              "    <div class=\"colab-df-container\">\n",
              "      <div>\n",
              "<style scoped>\n",
              "    .dataframe tbody tr th:only-of-type {\n",
              "        vertical-align: middle;\n",
              "    }\n",
              "\n",
              "    .dataframe tbody tr th {\n",
              "        vertical-align: top;\n",
              "    }\n",
              "\n",
              "    .dataframe thead th {\n",
              "        text-align: right;\n",
              "    }\n",
              "</style>\n",
              "<table border=\"1\" class=\"dataframe\">\n",
              "  <thead>\n",
              "    <tr style=\"text-align: right;\">\n",
              "      <th></th>\n",
              "      <th>text</th>\n",
              "      <th>clean_text_stem</th>\n",
              "      <th>text_length_stem</th>\n",
              "      <th>clean_text_lemma</th>\n",
              "      <th>text_length_lemma</th>\n",
              "      <th>tokenised_sentences</th>\n",
              "    </tr>\n",
              "  </thead>\n",
              "  <tbody>\n",
              "    <tr>\n",
              "      <th>0</th>\n",
              "      <td>it Was the best oF Times $</td>\n",
              "      <td>best time</td>\n",
              "      <td>2</td>\n",
              "      <td>best time</td>\n",
              "      <td>2</td>\n",
              "      <td>[best, time]</td>\n",
              "    </tr>\n",
              "    <tr>\n",
              "      <th>1</th>\n",
              "      <td>It was The worst of times.</td>\n",
              "      <td>worst time</td>\n",
              "      <td>2</td>\n",
              "      <td>worst time</td>\n",
              "      <td>2</td>\n",
              "      <td>[worst, time]</td>\n",
              "    </tr>\n",
              "    <tr>\n",
              "      <th>2</th>\n",
              "      <td>IT 9 was tHe age Of wisdom</td>\n",
              "      <td>age wisdom</td>\n",
              "      <td>2</td>\n",
              "      <td>age wisdom</td>\n",
              "      <td>2</td>\n",
              "      <td>[age, wisdom]</td>\n",
              "    </tr>\n",
              "    <tr>\n",
              "      <th>3</th>\n",
              "      <td>it was thE age of foolishness</td>\n",
              "      <td>age foolish</td>\n",
              "      <td>2</td>\n",
              "      <td>age foolishness</td>\n",
              "      <td>2</td>\n",
              "      <td>[age, foolish]</td>\n",
              "    </tr>\n",
              "  </tbody>\n",
              "</table>\n",
              "</div>\n",
              "      <button class=\"colab-df-convert\" onclick=\"convertToInteractive('df-33f2dff7-1c6f-4c3e-9c49-1a897fbe1be8')\"\n",
              "              title=\"Convert this dataframe to an interactive table.\"\n",
              "              style=\"display:none;\">\n",
              "        \n",
              "  <svg xmlns=\"http://www.w3.org/2000/svg\" height=\"24px\"viewBox=\"0 0 24 24\"\n",
              "       width=\"24px\">\n",
              "    <path d=\"M0 0h24v24H0V0z\" fill=\"none\"/>\n",
              "    <path d=\"M18.56 5.44l.94 2.06.94-2.06 2.06-.94-2.06-.94-.94-2.06-.94 2.06-2.06.94zm-11 1L8.5 8.5l.94-2.06 2.06-.94-2.06-.94L8.5 2.5l-.94 2.06-2.06.94zm10 10l.94 2.06.94-2.06 2.06-.94-2.06-.94-.94-2.06-.94 2.06-2.06.94z\"/><path d=\"M17.41 7.96l-1.37-1.37c-.4-.4-.92-.59-1.43-.59-.52 0-1.04.2-1.43.59L10.3 9.45l-7.72 7.72c-.78.78-.78 2.05 0 2.83L4 21.41c.39.39.9.59 1.41.59.51 0 1.02-.2 1.41-.59l7.78-7.78 2.81-2.81c.8-.78.8-2.07 0-2.86zM5.41 20L4 18.59l7.72-7.72 1.47 1.35L5.41 20z\"/>\n",
              "  </svg>\n",
              "      </button>\n",
              "      \n",
              "  <style>\n",
              "    .colab-df-container {\n",
              "      display:flex;\n",
              "      flex-wrap:wrap;\n",
              "      gap: 12px;\n",
              "    }\n",
              "\n",
              "    .colab-df-convert {\n",
              "      background-color: #E8F0FE;\n",
              "      border: none;\n",
              "      border-radius: 50%;\n",
              "      cursor: pointer;\n",
              "      display: none;\n",
              "      fill: #1967D2;\n",
              "      height: 32px;\n",
              "      padding: 0 0 0 0;\n",
              "      width: 32px;\n",
              "    }\n",
              "\n",
              "    .colab-df-convert:hover {\n",
              "      background-color: #E2EBFA;\n",
              "      box-shadow: 0px 1px 2px rgba(60, 64, 67, 0.3), 0px 1px 3px 1px rgba(60, 64, 67, 0.15);\n",
              "      fill: #174EA6;\n",
              "    }\n",
              "\n",
              "    [theme=dark] .colab-df-convert {\n",
              "      background-color: #3B4455;\n",
              "      fill: #D2E3FC;\n",
              "    }\n",
              "\n",
              "    [theme=dark] .colab-df-convert:hover {\n",
              "      background-color: #434B5C;\n",
              "      box-shadow: 0px 1px 3px 1px rgba(0, 0, 0, 0.15);\n",
              "      filter: drop-shadow(0px 1px 2px rgba(0, 0, 0, 0.3));\n",
              "      fill: #FFFFFF;\n",
              "    }\n",
              "  </style>\n",
              "\n",
              "      <script>\n",
              "        const buttonEl =\n",
              "          document.querySelector('#df-33f2dff7-1c6f-4c3e-9c49-1a897fbe1be8 button.colab-df-convert');\n",
              "        buttonEl.style.display =\n",
              "          google.colab.kernel.accessAllowed ? 'block' : 'none';\n",
              "\n",
              "        async function convertToInteractive(key) {\n",
              "          const element = document.querySelector('#df-33f2dff7-1c6f-4c3e-9c49-1a897fbe1be8');\n",
              "          const dataTable =\n",
              "            await google.colab.kernel.invokeFunction('convertToInteractive',\n",
              "                                                     [key], {});\n",
              "          if (!dataTable) return;\n",
              "\n",
              "          const docLinkHtml = 'Like what you see? Visit the ' +\n",
              "            '<a target=\"_blank\" href=https://colab.research.google.com/notebooks/data_table.ipynb>data table notebook</a>'\n",
              "            + ' to learn more about interactive tables.';\n",
              "          element.innerHTML = '';\n",
              "          dataTable['output_type'] = 'display_data';\n",
              "          await google.colab.output.renderOutput(dataTable, element);\n",
              "          const docLink = document.createElement('div');\n",
              "          docLink.innerHTML = docLinkHtml;\n",
              "          element.appendChild(docLink);\n",
              "        }\n",
              "      </script>\n",
              "    </div>\n",
              "  </div>\n",
              "  "
            ]
          },
          "metadata": {},
          "execution_count": 62
        }
      ],
      "source": [
        "df['tokenised_sentences'] = df.clean_text_stem.apply(lambda sent : sent.split())\n",
        "\n",
        "df.head()"
      ]
    },
    {
      "cell_type": "code",
      "execution_count": 63,
      "metadata": {
        "id": "rtGC2Ht1SfZq",
        "outputId": "b29d2618-4b04-46d3-adf6-9a27281e199c",
        "colab": {
          "base_uri": "https://localhost:8080/"
        }
      },
      "outputs": [
        {
          "output_type": "execute_result",
          "data": {
            "text/plain": [
              "[['best', 'time'], ['worst', 'time'], ['age', 'wisdom'], ['age', 'foolish']]"
            ]
          },
          "metadata": {},
          "execution_count": 63
        }
      ],
      "source": [
        "list(df.tokenised_sentences)"
      ]
    },
    {
      "cell_type": "code",
      "execution_count": 64,
      "metadata": {
        "id": "lbdFG2yiSfZq"
      },
      "outputs": [],
      "source": [
        "# train model\n",
        "\n",
        "model = Word2Vec(list(df.tokenised_sentences), vector_size=100, min_count=1)"
      ]
    },
    {
      "cell_type": "code",
      "execution_count": 85,
      "metadata": {
        "id": "fDNwTxk_SfZr",
        "outputId": "f5c52cd4-f21d-4a4a-bb23-ca114227ea14",
        "colab": {
          "base_uri": "https://localhost:8080/"
        }
      },
      "outputs": [
        {
          "output_type": "stream",
          "name": "stdout",
          "text": [
            "Word2Vec<vocab=6, vector_size=100, alpha=0.025>\n"
          ]
        }
      ],
      "source": [
        "print(model)"
      ]
    },
    {
      "cell_type": "code",
      "source": [
        "# Total Documents\n",
        "model.corpus_count"
      ],
      "metadata": {
        "colab": {
          "base_uri": "https://localhost:8080/"
        },
        "id": "8SeR62QXXGXE",
        "outputId": "ec7e23a6-ae3e-4c77-e761-cab79b53205c"
      },
      "execution_count": 86,
      "outputs": [
        {
          "output_type": "execute_result",
          "data": {
            "text/plain": [
              "4"
            ]
          },
          "metadata": {},
          "execution_count": 86
        }
      ]
    },
    {
      "cell_type": "code",
      "execution_count": 66,
      "metadata": {
        "id": "5b2gYwDkSfZs",
        "outputId": "56065525-6128-450e-a508-850b3e33ee85",
        "colab": {
          "base_uri": "https://localhost:8080/"
        }
      },
      "outputs": [
        {
          "output_type": "stream",
          "name": "stdout",
          "text": [
            "{'age': 0, 'time': 1, 'foolish': 2, 'wisdom': 3, 'worst': 4, 'best': 5}\n",
            "['age', 'time', 'foolish', 'wisdom', 'worst', 'best']\n"
          ]
        }
      ],
      "source": [
        "# Looking at the vocabulary\n",
        "\n",
        "print(model.wv.key_to_index)\n",
        "\n",
        "print(model.wv.index_to_key)"
      ]
    },
    {
      "cell_type": "code",
      "execution_count": 67,
      "metadata": {
        "id": "hDOY76SgSfZs",
        "outputId": "92f2213d-c54b-4f4b-a6b7-6dde87a6eccc",
        "colab": {
          "base_uri": "https://localhost:8080/"
        }
      },
      "outputs": [
        {
          "output_type": "stream",
          "name": "stdout",
          "text": [
            "[ 9.4563962e-05  3.0773187e-03 -6.8126465e-03 -1.3754654e-03\n",
            "  7.6685809e-03  7.3464084e-03 -3.6732983e-03  2.6427007e-03\n",
            " -8.3171297e-03  6.2054847e-03 -4.6373224e-03 -3.1641079e-03\n",
            "  9.3113566e-03  8.7338447e-04  7.4907015e-03 -6.0740639e-03\n",
            "  5.1605059e-03  9.9228211e-03 -8.4573915e-03 -5.1356913e-03\n",
            " -7.0648384e-03 -4.8626517e-03 -3.7785650e-03 -8.5362010e-03\n",
            "  7.9556061e-03 -4.8439382e-03  8.4236125e-03  5.2625705e-03\n",
            " -6.5500261e-03  3.9578700e-03  5.4701497e-03 -7.4265362e-03\n",
            " -7.4057197e-03 -2.4752307e-03 -8.6257271e-03 -1.5815735e-03\n",
            " -4.0343284e-04  3.2996845e-03  1.4418793e-03 -8.8142155e-04\n",
            " -5.5940580e-03  1.7303658e-03 -8.9737179e-04  6.7936899e-03\n",
            "  3.9735888e-03  4.5294715e-03  1.4343048e-03 -2.6998566e-03\n",
            " -4.3668128e-03 -1.0320758e-03  1.4370275e-03 -2.6460099e-03\n",
            " -7.0737838e-03 -7.8053069e-03 -9.1217877e-03 -5.9351707e-03\n",
            " -1.8474245e-03 -4.3238713e-03 -6.4606713e-03 -3.7173224e-03\n",
            "  4.2891572e-03 -3.7390448e-03  8.3781742e-03  1.5339922e-03\n",
            " -7.2423196e-03  9.4337985e-03  7.6312111e-03  5.4932809e-03\n",
            " -6.8488456e-03  5.8226776e-03  4.0090918e-03  5.1853680e-03\n",
            "  4.2559002e-03  1.9397545e-03 -3.1701636e-03  8.3538434e-03\n",
            "  9.6121784e-03  3.7926030e-03 -2.8369951e-03  7.1263312e-06\n",
            "  1.2188172e-03 -8.4583256e-03 -8.2239462e-03 -2.3101569e-04\n",
            "  1.2372875e-03 -5.7433820e-03 -4.7252751e-03 -7.3460746e-03\n",
            "  8.3286138e-03  1.2129784e-04 -4.5093987e-03  5.7017040e-03\n",
            "  9.1800140e-03 -4.0998720e-03  7.9646800e-03  5.3754328e-03\n",
            "  5.8791232e-03  5.1259040e-04  8.2130842e-03 -7.0190406e-03]\n",
            "(100,)\n"
          ]
        }
      ],
      "source": [
        "# access the 100 dimensional vector for one of the words\n",
        "\n",
        "print(model.wv.__getitem__('foolish'))\n",
        "\n",
        "print(model.wv.__getitem__('foolish').shape)"
      ]
    },
    {
      "cell_type": "code",
      "execution_count": 68,
      "metadata": {
        "scrolled": true,
        "id": "mW6NrBeESfZt",
        "outputId": "23a3f5af-82d9-4db9-8b13-6da2cb0a52ee",
        "colab": {
          "base_uri": "https://localhost:8080/"
        }
      },
      "outputs": [
        {
          "output_type": "stream",
          "name": "stdout",
          "text": [
            "[[-5.3622725e-04  2.3643016e-04  5.1033497e-03  9.0092728e-03\n",
            "  -9.3029495e-03 -7.1168090e-03  6.4588715e-03  8.9729885e-03\n",
            "  -5.0154282e-03 -3.7633730e-03  7.3805046e-03 -1.5334726e-03\n",
            "  -4.5366143e-03  6.5540504e-03 -4.8601604e-03 -1.8160177e-03\n",
            "   2.8765798e-03  9.9187379e-04 -8.2852151e-03 -9.4488189e-03\n",
            "   7.3117660e-03  5.0702621e-03  6.7576934e-03  7.6286553e-04\n",
            "   6.3508893e-03 -3.4053659e-03 -9.4640255e-04  5.7685734e-03\n",
            "  -7.5216386e-03 -3.9361049e-03 -7.5115822e-03 -9.3004224e-04\n",
            "   9.5381187e-03 -7.3191668e-03 -2.3337698e-03 -1.9377422e-03\n",
            "   8.0774352e-03 -5.9308959e-03  4.5161247e-05 -4.7537349e-03\n",
            "  -9.6035507e-03  5.0072931e-03 -8.7595871e-03 -4.3918253e-03\n",
            "  -3.5099984e-05 -2.9618264e-04 -7.6612402e-03  9.6147414e-03\n",
            "   4.9820566e-03  9.2331432e-03 -8.1579182e-03  4.4957972e-03\n",
            "  -4.1370774e-03  8.2453492e-04  8.4986184e-03 -4.4621779e-03\n",
            "   4.5175003e-03 -6.7869616e-03 -3.5484887e-03  9.3985079e-03\n",
            "  -1.5776539e-03  3.2137157e-04 -4.1406299e-03 -7.6826881e-03\n",
            "  -1.5080094e-03  2.4697948e-03 -8.8802812e-04  5.5336617e-03\n",
            "  -2.7429771e-03  2.2600652e-03  5.4557943e-03  8.3459523e-03\n",
            "  -1.4537406e-03 -9.2081428e-03  4.3705511e-03  5.7178497e-04\n",
            "   7.4419067e-03 -8.1328390e-04 -2.6384138e-03 -8.7530091e-03\n",
            "  -8.5655687e-04  2.8265619e-03  5.4014279e-03  7.0526553e-03\n",
            "  -5.7031228e-03  1.8588186e-03  6.0888622e-03 -4.7980524e-03\n",
            "  -3.1072616e-03  6.7976285e-03  1.6314745e-03  1.8991709e-04\n",
            "   3.4736372e-03  2.1777629e-04  9.6188262e-03  5.0606038e-03\n",
            "  -8.9173913e-03 -7.0415614e-03  9.0145587e-04  6.3925339e-03]\n",
            " [-8.6196875e-03  3.6657380e-03  5.1898835e-03  5.7419371e-03\n",
            "   7.4669169e-03 -6.1676763e-03  1.1056137e-03  6.0472824e-03\n",
            "  -2.8400517e-03 -6.1735227e-03 -4.1022300e-04 -8.3689503e-03\n",
            "  -5.6000138e-03  7.1045374e-03  3.3525396e-03  7.2256685e-03\n",
            "   6.8002464e-03  7.5307419e-03 -3.7891555e-03 -5.6180713e-04\n",
            "   2.3483753e-03 -4.5190332e-03  8.3887316e-03 -9.8581649e-03\n",
            "   6.7646410e-03  2.9144168e-03 -4.9328329e-03  4.3981862e-03\n",
            "  -1.7395759e-03  6.7113829e-03  9.9648498e-03 -4.3624449e-03\n",
            "  -5.9933902e-04 -5.6956387e-03  3.8508223e-03  2.7866268e-03\n",
            "   6.8910765e-03  6.1010956e-03  9.5384959e-03  9.2734173e-03\n",
            "   7.8980681e-03 -6.9895051e-03 -9.1558648e-03 -3.5575390e-04\n",
            "  -3.0998420e-03  7.8943158e-03  5.9385728e-03 -1.5456629e-03\n",
            "   1.5109634e-03  1.7900396e-03  7.8175711e-03 -9.5101884e-03\n",
            "  -2.0553112e-04  3.4691954e-03 -9.3897345e-04  8.3817719e-03\n",
            "   9.0107825e-03  6.5365052e-03 -7.1162224e-04  7.7104042e-03\n",
            "  -8.5343365e-03  3.2071066e-03 -4.6379971e-03 -5.0889566e-03\n",
            "   3.5896183e-03  5.3703380e-03  7.7695129e-03 -5.7665063e-03\n",
            "   7.4333595e-03  6.6254949e-03 -3.7098003e-03 -8.7456414e-03\n",
            "   5.4374672e-03  6.5097548e-03 -7.8755140e-04 -6.7098569e-03\n",
            "  -7.0859264e-03 -2.4970602e-03  5.1432536e-03 -3.6652375e-03\n",
            "  -9.3700597e-03  3.8267397e-03  4.8844791e-03 -6.4285635e-03\n",
            "   1.2085581e-03 -2.0748782e-03  2.4402141e-05 -9.8835090e-03\n",
            "   2.6920033e-03 -4.7501065e-03  1.0876465e-03 -1.5762257e-03\n",
            "   2.1966719e-03 -7.8815771e-03 -2.7171851e-03  2.6631975e-03\n",
            "   5.3466819e-03 -2.3915148e-03 -9.5100952e-03  4.5058774e-03]\n",
            " [ 9.4563962e-05  3.0773187e-03 -6.8126465e-03 -1.3754654e-03\n",
            "   7.6685809e-03  7.3464084e-03 -3.6732983e-03  2.6427007e-03\n",
            "  -8.3171297e-03  6.2054847e-03 -4.6373224e-03 -3.1641079e-03\n",
            "   9.3113566e-03  8.7338447e-04  7.4907015e-03 -6.0740639e-03\n",
            "   5.1605059e-03  9.9228211e-03 -8.4573915e-03 -5.1356913e-03\n",
            "  -7.0648384e-03 -4.8626517e-03 -3.7785650e-03 -8.5362010e-03\n",
            "   7.9556061e-03 -4.8439382e-03  8.4236125e-03  5.2625705e-03\n",
            "  -6.5500261e-03  3.9578700e-03  5.4701497e-03 -7.4265362e-03\n",
            "  -7.4057197e-03 -2.4752307e-03 -8.6257271e-03 -1.5815735e-03\n",
            "  -4.0343284e-04  3.2996845e-03  1.4418793e-03 -8.8142155e-04\n",
            "  -5.5940580e-03  1.7303658e-03 -8.9737179e-04  6.7936899e-03\n",
            "   3.9735888e-03  4.5294715e-03  1.4343048e-03 -2.6998566e-03\n",
            "  -4.3668128e-03 -1.0320758e-03  1.4370275e-03 -2.6460099e-03\n",
            "  -7.0737838e-03 -7.8053069e-03 -9.1217877e-03 -5.9351707e-03\n",
            "  -1.8474245e-03 -4.3238713e-03 -6.4606713e-03 -3.7173224e-03\n",
            "   4.2891572e-03 -3.7390448e-03  8.3781742e-03  1.5339922e-03\n",
            "  -7.2423196e-03  9.4337985e-03  7.6312111e-03  5.4932809e-03\n",
            "  -6.8488456e-03  5.8226776e-03  4.0090918e-03  5.1853680e-03\n",
            "   4.2559002e-03  1.9397545e-03 -3.1701636e-03  8.3538434e-03\n",
            "   9.6121784e-03  3.7926030e-03 -2.8369951e-03  7.1263312e-06\n",
            "   1.2188172e-03 -8.4583256e-03 -8.2239462e-03 -2.3101569e-04\n",
            "   1.2372875e-03 -5.7433820e-03 -4.7252751e-03 -7.3460746e-03\n",
            "   8.3286138e-03  1.2129784e-04 -4.5093987e-03  5.7017040e-03\n",
            "   9.1800140e-03 -4.0998720e-03  7.9646800e-03  5.3754328e-03\n",
            "   5.8791232e-03  5.1259040e-04  8.2130842e-03 -7.0190406e-03]\n",
            " [-8.2426788e-03  9.2993546e-03 -1.9766092e-04 -1.9672776e-03\n",
            "   4.6036290e-03 -4.0953159e-03  2.7431131e-03  6.9399667e-03\n",
            "   6.0654259e-03 -7.5107957e-03  9.3823504e-03  4.6718074e-03\n",
            "   3.9661191e-03 -6.2435055e-03  8.4599778e-03 -2.1501661e-03\n",
            "   8.8251876e-03 -5.3620026e-03 -8.1294207e-03  6.8245577e-03\n",
            "   1.6711927e-03 -2.1985101e-03  9.5135998e-03  9.4938539e-03\n",
            "  -9.7740479e-03  2.5052286e-03  6.1566923e-03  3.8724565e-03\n",
            "   2.0227861e-03  4.3050051e-04  6.7363022e-04 -3.8206363e-03\n",
            "  -7.1402504e-03 -2.0888734e-03  3.9238976e-03  8.8186832e-03\n",
            "   9.2591504e-03 -5.9759379e-03 -9.4026709e-03  9.7643761e-03\n",
            "   3.4297847e-03  5.1661157e-03  6.2823440e-03 -2.8042626e-03\n",
            "   7.3227026e-03  2.8302716e-03  2.8710032e-03 -2.3803711e-03\n",
            "  -3.1282497e-03 -2.3701428e-03  4.2764354e-03  7.6057913e-05\n",
            "  -9.5842788e-03 -9.6655441e-03 -6.1481954e-03 -1.2856961e-04\n",
            "   1.9974159e-03  9.4319675e-03  5.5843499e-03 -4.2906976e-03\n",
            "   2.7831554e-04  4.9643586e-03  7.6983096e-03 -1.1442233e-03\n",
            "   4.3234206e-03 -5.8143805e-03 -8.0419064e-04  8.1000496e-03\n",
            "  -2.3600650e-03 -9.6634552e-03  5.7792594e-03 -3.9298222e-03\n",
            "  -1.2228728e-03  9.9805165e-03 -2.2563506e-03 -4.7570658e-03\n",
            "  -5.3293873e-03  6.9808890e-03 -5.7088733e-03  2.1136617e-03\n",
            "  -5.2556610e-03  6.1207130e-03  4.3573068e-03  2.6063537e-03\n",
            "  -1.4910841e-03 -2.7460647e-03  8.9929365e-03  5.2157734e-03\n",
            "  -2.1625208e-03 -9.4703101e-03 -7.4260519e-03 -1.0637427e-03\n",
            "  -7.9494715e-04 -2.5629092e-03  9.6827196e-03 -4.5852186e-04\n",
            "   5.8737611e-03 -7.4475883e-03 -2.5060750e-03 -5.5498648e-03]\n",
            " [-7.1390150e-03  1.2410306e-03 -7.1767163e-03 -2.2446180e-03\n",
            "   3.7193035e-03  5.8331229e-03  1.1981821e-03  2.1027303e-03\n",
            "  -4.1103913e-03  7.2253323e-03 -6.3070417e-03  4.6472144e-03\n",
            "  -8.2199741e-03  2.0364665e-03 -4.9770521e-03 -4.2476892e-03\n",
            "  -3.1089855e-03  5.6552077e-03  5.7983994e-03 -4.9746488e-03\n",
            "   7.7332975e-04 -8.4957788e-03  7.8098057e-03  9.2572905e-03\n",
            "  -2.7423287e-03  8.0022332e-04  7.4665068e-04  5.4778839e-03\n",
            "  -8.6060790e-03  5.8445451e-04  6.8694209e-03  2.2315932e-03\n",
            "   1.1246753e-03 -9.3221571e-03  8.4823659e-03 -6.2641287e-03\n",
            "  -2.9923748e-03  3.4937859e-03 -7.7262876e-04  1.4112901e-03\n",
            "   1.7819905e-03 -6.8288995e-03 -9.7248126e-03  9.0405848e-03\n",
            "   6.1980532e-03 -6.9129276e-03  3.4034825e-03  2.0606279e-04\n",
            "   4.7537447e-03 -7.1199443e-03  4.0269541e-03  4.3474343e-03\n",
            "   9.9573685e-03 -4.4737412e-03 -1.3892651e-03 -7.3173214e-03\n",
            "  -9.6978303e-03 -9.0802573e-03 -1.0227561e-03 -6.5032910e-03\n",
            "   4.8497273e-03 -6.1640264e-03  2.5191857e-03  7.3944090e-04\n",
            "  -3.3921553e-03 -9.7922329e-04  9.9791242e-03  9.1458866e-03\n",
            "  -4.4618296e-03  9.0830252e-03 -5.6417631e-03  5.9309220e-03\n",
            "  -3.0972194e-03  3.4317516e-03  3.0172253e-03  6.9004609e-03\n",
            "  -2.3738837e-03  8.7750368e-03  7.5894282e-03 -9.5476462e-03\n",
            "  -8.0082109e-03 -7.6378966e-03  2.9232574e-03 -2.7947235e-03\n",
            "  -6.9295214e-03 -8.1282640e-03  8.3091781e-03  1.9904876e-03\n",
            "  -9.3280170e-03 -4.7927164e-03  3.1367373e-03 -4.7132061e-03\n",
            "   5.2808430e-03 -4.2334413e-03  2.6417947e-03 -8.0456873e-03\n",
            "   6.2098862e-03  4.8188879e-03  7.8719138e-04  3.0134462e-03]\n",
            " [-8.7274835e-03  2.1301603e-03 -8.7354420e-04 -9.3190884e-03\n",
            "  -9.4281435e-03 -1.4107180e-03  4.4324086e-03  3.7040710e-03\n",
            "  -6.4986944e-03 -6.8730689e-03 -4.9994136e-03 -2.2868442e-03\n",
            "  -7.2502876e-03 -9.6033188e-03 -2.7436304e-03 -8.3628418e-03\n",
            "  -6.0388758e-03 -5.6709289e-03 -2.3441387e-03 -1.7069983e-03\n",
            "  -8.9569995e-03 -7.3519943e-04  8.1525063e-03  7.6904297e-03\n",
            "  -7.2061159e-03 -3.6668323e-03  3.1185509e-03 -9.5707225e-03\n",
            "   1.4764380e-03  6.5244650e-03  5.7464195e-03 -8.7630628e-03\n",
            "  -4.5171450e-03 -8.1401607e-03  4.5955181e-05  9.2636319e-03\n",
            "   5.9733056e-03  5.0673080e-03  5.0610616e-03 -3.2429171e-03\n",
            "   9.5521836e-03 -7.3564244e-03 -7.2703888e-03 -2.2653891e-03\n",
            "  -7.7856064e-04 -3.2161046e-03 -5.9258699e-04  7.4888230e-03\n",
            "  -6.9751980e-04 -1.6249418e-03  2.7443981e-03 -8.3591007e-03\n",
            "   7.8558037e-03  8.5361032e-03 -9.5840879e-03  2.4462652e-03\n",
            "   9.9049713e-03 -7.6658037e-03 -6.9669201e-03 -7.7365185e-03\n",
            "   8.3959224e-03 -6.8133592e-04  9.1444086e-03 -8.1582209e-03\n",
            "   3.7430834e-03  2.6350426e-03  7.4271200e-04  2.3276759e-03\n",
            "  -7.4690939e-03 -9.3583753e-03  2.3545765e-03  6.1484552e-03\n",
            "   7.9856869e-03  5.7358933e-03 -7.7733753e-04  8.3061643e-03\n",
            "  -9.3363142e-03  3.4061312e-03  2.6675223e-04  3.8572431e-03\n",
            "   7.3857834e-03 -6.7251683e-03  5.5844807e-03 -9.5222257e-03\n",
            "  -8.0446003e-04 -8.6887386e-03 -5.0986744e-03  9.2892265e-03\n",
            "  -1.8582630e-03  2.9144264e-03  9.0712784e-03  8.9381309e-03\n",
            "  -8.2084350e-03 -3.0123137e-03  9.8866057e-03  5.1044296e-03\n",
            "  -1.5880871e-03 -8.6920215e-03  2.9615164e-03 -6.6758990e-03]]\n"
          ]
        }
      ],
      "source": [
        "# Access the 100D vectors for all 6 words\n",
        "\n",
        "print(model.wv.__getitem__(model.wv.index_to_key))"
      ]
    },
    {
      "cell_type": "code",
      "execution_count": 69,
      "metadata": {
        "scrolled": true,
        "id": "XdIHkBSaSfZt",
        "outputId": "90031784-b41a-47d1-b554-f56a5f494acc",
        "colab": {
          "base_uri": "https://localhost:8080/"
        }
      },
      "outputs": [
        {
          "output_type": "stream",
          "name": "stdout",
          "text": [
            "(6, 100)\n"
          ]
        }
      ],
      "source": [
        "print(model.wv.__getitem__(model.wv.index_to_key).shape)"
      ]
    },
    {
      "cell_type": "code",
      "execution_count": 70,
      "metadata": {
        "id": "iN2pvhl-SfZu"
      },
      "outputs": [],
      "source": [
        "# save model\n",
        "# model.save('model/first_word_vectors.bin')\n",
        "\n",
        "# # load model\n",
        "# new_model = Word2Vec.load('model/first_word_vectors.bin')\n",
        "# print(new_model)"
      ]
    },
    {
      "cell_type": "code",
      "execution_count": 71,
      "metadata": {
        "scrolled": true,
        "id": "8_trgNgmSfZv",
        "outputId": "25fd0498-57b8-4301-c34c-5a5a43706726",
        "colab": {
          "base_uri": "https://localhost:8080/",
          "height": 265
        }
      },
      "outputs": [
        {
          "output_type": "display_data",
          "data": {
            "text/plain": [
              "<Figure size 432x288 with 1 Axes>"
            ],
            "image/png": "[encoded data removed]"
          },
          "metadata": {
            "needs_background": "light"
          }
        }
      ],
      "source": [
        "from sklearn.decomposition import PCA\n",
        "import matplotlib.pyplot as plt\n",
        "\n",
        "X = model.wv.__getitem__(model.wv.index_to_key)\n",
        "pca = PCA(n_components = 2)\n",
        "result = pca.fit_transform(X)\n",
        "\n",
        "# create a scatter plot of the projection\n",
        "plt.scatter(result[:, 0], result[:, 1])\n",
        "words = list(model.wv.index_to_key)\n",
        "for i, word in enumerate(words):\n",
        "    plt.annotate(word, xy=(result[i, 0], result[i, 1]))\n",
        "plt.show()"
      ]
    },
    {
      "cell_type": "code",
      "execution_count": 72,
      "metadata": {
        "scrolled": true,
        "id": "UO1bH3aUSfZw",
        "outputId": "bc482db3-1682-4f26-8693-6cbe92453a87",
        "colab": {
          "base_uri": "https://localhost:8080/"
        }
      },
      "outputs": [
        {
          "output_type": "execute_result",
          "data": {
            "text/plain": [
              "0.13887985"
            ]
          },
          "metadata": {},
          "execution_count": 72
        }
      ],
      "source": [
        "model.wv.similarity('best', 'worst')"
      ]
    },
    {
      "cell_type": "code",
      "execution_count": 73,
      "metadata": {
        "scrolled": true,
        "id": "6B0xenspSfZw",
        "outputId": "a46acd8a-2eda-489a-c29f-c7c2f69c3143",
        "colab": {
          "base_uri": "https://localhost:8080/"
        }
      },
      "outputs": [
        {
          "output_type": "execute_result",
          "data": {
            "text/plain": [
              "[('worst', 0.17018882930278778),\n",
              " ('best', 0.06408979743719101),\n",
              " ('wisdom', -0.013514960184693336),\n",
              " ('time', -0.02367166243493557),\n",
              " ('age', -0.052346743643283844)]"
            ]
          },
          "metadata": {},
          "execution_count": 73
        }
      ],
      "source": [
        "model.wv.most_similar('foolish')"
      ]
    },
    {
      "cell_type": "code",
      "execution_count": 74,
      "metadata": {
        "id": "Jff_q-kDSfZx",
        "outputId": "765808ab-6609-4a1b-a809-17237b4f364f",
        "colab": {
          "base_uri": "https://localhost:8080/",
          "height": 175
        }
      },
      "outputs": [
        {
          "output_type": "execute_result",
          "data": {
            "text/plain": [
              "                            text clean_text_stem  text_length_stem  \\\n",
              "0     it Was the best oF Times $       best time                 2   \n",
              "1     It was The worst of times.      worst time                 2   \n",
              "2     IT 9 was tHe age Of wisdom      age wisdom                 2   \n",
              "3  it was thE age of foolishness     age foolish                 2   \n",
              "\n",
              "  clean_text_lemma  text_length_lemma tokenised_sentences  \n",
              "0        best time                  2        [best, time]  \n",
              "1       worst time                  2       [worst, time]  \n",
              "2       age wisdom                  2       [age, wisdom]  \n",
              "3  age foolishness                  2      [age, foolish]  "
            ],
            "text/html": [
              "\n",
              "  <div id=\"df-292e009e-2961-448a-9027-ef6aebd7f31e\">\n",
              "    <div class=\"colab-df-container\">\n",
              "      <div>\n",
              "<style scoped>\n",
              "    .dataframe tbody tr th:only-of-type {\n",
              "        vertical-align: middle;\n",
              "    }\n",
              "\n",
              "    .dataframe tbody tr th {\n",
              "        vertical-align: top;\n",
              "    }\n",
              "\n",
              "    .dataframe thead th {\n",
              "        text-align: right;\n",
              "    }\n",
              "</style>\n",
              "<table border=\"1\" class=\"dataframe\">\n",
              "  <thead>\n",
              "    <tr style=\"text-align: right;\">\n",
              "      <th></th>\n",
              "      <th>text</th>\n",
              "      <th>clean_text_stem</th>\n",
              "      <th>text_length_stem</th>\n",
              "      <th>clean_text_lemma</th>\n",
              "      <th>text_length_lemma</th>\n",
              "      <th>tokenised_sentences</th>\n",
              "    </tr>\n",
              "  </thead>\n",
              "  <tbody>\n",
              "    <tr>\n",
              "      <th>0</th>\n",
              "      <td>it Was the best oF Times $</td>\n",
              "      <td>best time</td>\n",
              "      <td>2</td>\n",
              "      <td>best time</td>\n",
              "      <td>2</td>\n",
              "      <td>[best, time]</td>\n",
              "    </tr>\n",
              "    <tr>\n",
              "      <th>1</th>\n",
              "      <td>It was The worst of times.</td>\n",
              "      <td>worst time</td>\n",
              "      <td>2</td>\n",
              "      <td>worst time</td>\n",
              "      <td>2</td>\n",
              "      <td>[worst, time]</td>\n",
              "    </tr>\n",
              "    <tr>\n",
              "      <th>2</th>\n",
              "      <td>IT 9 was tHe age Of wisdom</td>\n",
              "      <td>age wisdom</td>\n",
              "      <td>2</td>\n",
              "      <td>age wisdom</td>\n",
              "      <td>2</td>\n",
              "      <td>[age, wisdom]</td>\n",
              "    </tr>\n",
              "    <tr>\n",
              "      <th>3</th>\n",
              "      <td>it was thE age of foolishness</td>\n",
              "      <td>age foolish</td>\n",
              "      <td>2</td>\n",
              "      <td>age foolishness</td>\n",
              "      <td>2</td>\n",
              "      <td>[age, foolish]</td>\n",
              "    </tr>\n",
              "  </tbody>\n",
              "</table>\n",
              "</div>\n",
              "      <button class=\"colab-df-convert\" onclick=\"convertToInteractive('df-292e009e-2961-448a-9027-ef6aebd7f31e')\"\n",
              "              title=\"Convert this dataframe to an interactive table.\"\n",
              "              style=\"display:none;\">\n",
              "        \n",
              "  <svg xmlns=\"http://www.w3.org/2000/svg\" height=\"24px\"viewBox=\"0 0 24 24\"\n",
              "       width=\"24px\">\n",
              "    <path d=\"M0 0h24v24H0V0z\" fill=\"none\"/>\n",
              "    <path d=\"M18.56 5.44l.94 2.06.94-2.06 2.06-.94-2.06-.94-.94-2.06-.94 2.06-2.06.94zm-11 1L8.5 8.5l.94-2.06 2.06-.94-2.06-.94L8.5 2.5l-.94 2.06-2.06.94zm10 10l.94 2.06.94-2.06 2.06-.94-2.06-.94-.94-2.06-.94 2.06-2.06.94z\"/><path d=\"M17.41 7.96l-1.37-1.37c-.4-.4-.92-.59-1.43-.59-.52 0-1.04.2-1.43.59L10.3 9.45l-7.72 7.72c-.78.78-.78 2.05 0 2.83L4 21.41c.39.39.9.59 1.41.59.51 0 1.02-.2 1.41-.59l7.78-7.78 2.81-2.81c.8-.78.8-2.07 0-2.86zM5.41 20L4 18.59l7.72-7.72 1.47 1.35L5.41 20z\"/>\n",
              "  </svg>\n",
              "      </button>\n",
              "      \n",
              "  <style>\n",
              "    .colab-df-container {\n",
              "      display:flex;\n",
              "      flex-wrap:wrap;\n",
              "      gap: 12px;\n",
              "    }\n",
              "\n",
              "    .colab-df-convert {\n",
              "      background-color: #E8F0FE;\n",
              "      border: none;\n",
              "      border-radius: 50%;\n",
              "      cursor: pointer;\n",
              "      display: none;\n",
              "      fill: #1967D2;\n",
              "      height: 32px;\n",
              "      padding: 0 0 0 0;\n",
              "      width: 32px;\n",
              "    }\n",
              "\n",
              "    .colab-df-convert:hover {\n",
              "      background-color: #E2EBFA;\n",
              "      box-shadow: 0px 1px 2px rgba(60, 64, 67, 0.3), 0px 1px 3px 1px rgba(60, 64, 67, 0.15);\n",
              "      fill: #174EA6;\n",
              "    }\n",
              "\n",
              "    [theme=dark] .colab-df-convert {\n",
              "      background-color: #3B4455;\n",
              "      fill: #D2E3FC;\n",
              "    }\n",
              "\n",
              "    [theme=dark] .colab-df-convert:hover {\n",
              "      background-color: #434B5C;\n",
              "      box-shadow: 0px 1px 3px 1px rgba(0, 0, 0, 0.15);\n",
              "      filter: drop-shadow(0px 1px 2px rgba(0, 0, 0, 0.3));\n",
              "      fill: #FFFFFF;\n",
              "    }\n",
              "  </style>\n",
              "\n",
              "      <script>\n",
              "        const buttonEl =\n",
              "          document.querySelector('#df-292e009e-2961-448a-9027-ef6aebd7f31e button.colab-df-convert');\n",
              "        buttonEl.style.display =\n",
              "          google.colab.kernel.accessAllowed ? 'block' : 'none';\n",
              "\n",
              "        async function convertToInteractive(key) {\n",
              "          const element = document.querySelector('#df-292e009e-2961-448a-9027-ef6aebd7f31e');\n",
              "          const dataTable =\n",
              "            await google.colab.kernel.invokeFunction('convertToInteractive',\n",
              "                                                     [key], {});\n",
              "          if (!dataTable) return;\n",
              "\n",
              "          const docLinkHtml = 'Like what you see? Visit the ' +\n",
              "            '<a target=\"_blank\" href=https://colab.research.google.com/notebooks/data_table.ipynb>data table notebook</a>'\n",
              "            + ' to learn more about interactive tables.';\n",
              "          element.innerHTML = '';\n",
              "          dataTable['output_type'] = 'display_data';\n",
              "          await google.colab.output.renderOutput(dataTable, element);\n",
              "          const docLink = document.createElement('div');\n",
              "          docLink.innerHTML = docLinkHtml;\n",
              "          element.appendChild(docLink);\n",
              "        }\n",
              "      </script>\n",
              "    </div>\n",
              "  </div>\n",
              "  "
            ]
          },
          "metadata": {},
          "execution_count": 74
        }
      ],
      "source": [
        "df.head()"
      ]
    },
    {
      "cell_type": "markdown",
      "metadata": {
        "id": "hqVMpcnDSfZy"
      },
      "source": [
        "### Sentence Embedding (Document Vectors)"
      ]
    },
    {
      "cell_type": "code",
      "execution_count": 75,
      "metadata": {
        "id": "lFy3yDDoSfZy",
        "outputId": "9beadce9-0573-44f5-80d1-3126c53d43c3",
        "colab": {
          "base_uri": "https://localhost:8080/"
        }
      },
      "outputs": [
        {
          "output_type": "execute_result",
          "data": {
            "text/plain": [
              "['best', 'time']"
            ]
          },
          "metadata": {},
          "execution_count": 75
        }
      ],
      "source": [
        "# Remove out-of-vocabulary words\n",
        "\n",
        "sentence = ['best', 'bansal', 'time', 'kanav']\n",
        "\n",
        "vocab_tokens = [word for word in sentence if word in model.wv.index_to_key]\n",
        "\n",
        "vocab_tokens"
      ]
    },
    {
      "cell_type": "code",
      "execution_count": 76,
      "metadata": {
        "id": "lxYduAdXSfZz",
        "outputId": "e16b3e40-e7ce-495a-8057-b45d39eca08d",
        "colab": {
          "base_uri": "https://localhost:8080/"
        }
      },
      "outputs": [
        {
          "output_type": "execute_result",
          "data": {
            "text/plain": [
              "array([-8.67358595e-03,  2.89794919e-03,  2.15816963e-03, -1.78857567e-03,\n",
              "       -9.80613288e-04, -3.78919719e-03,  2.76901107e-03,  4.87567671e-03,\n",
              "       -4.66937292e-03, -6.52329577e-03, -2.70481827e-03, -5.32789715e-03,\n",
              "       -6.42515067e-03, -1.24939065e-03,  3.04454588e-04, -5.68586634e-04,\n",
              "        3.80685320e-04,  9.29906499e-04, -3.06664710e-03, -1.13440270e-03,\n",
              "       -3.30431201e-03, -2.62711640e-03,  8.27061944e-03, -1.08386762e-03,\n",
              "       -2.20737420e-04, -3.76207754e-04, -9.07141017e-04, -2.58626812e-03,\n",
              "       -1.31568930e-04,  6.61792420e-03,  7.85563514e-03, -6.56275358e-03,\n",
              "       -2.55824206e-03, -6.91789947e-03,  1.94838876e-03,  6.02512946e-03,\n",
              "        6.43219100e-03,  5.58420178e-03,  7.29977898e-03,  3.01524997e-03,\n",
              "        8.72512534e-03, -7.17296451e-03, -8.21312703e-03, -1.31057145e-03,\n",
              "       -1.93920126e-03,  2.33910559e-03,  2.67299288e-03,  2.97158002e-03,\n",
              "        4.06721811e-04,  8.25488823e-05,  5.28098457e-03, -8.93464498e-03,\n",
              "        3.82513623e-03,  6.00264920e-03, -5.26153063e-03,  5.41401841e-03,\n",
              "        9.45787691e-03, -5.64649235e-04, -3.83927114e-03, -1.30571425e-05,\n",
              "       -6.92070462e-05,  1.26288529e-03,  2.25320575e-03, -6.62358850e-03,\n",
              "        3.66635085e-03,  4.00269032e-03,  4.25611250e-03, -1.71941519e-03,\n",
              "       -1.78671908e-05, -1.36644021e-03, -6.77611912e-04, -1.29859312e-03,\n",
              "        6.71157707e-03,  6.12282380e-03, -7.82444491e-04,  7.98153691e-04,\n",
              "       -8.21112003e-03,  4.54535475e-04,  2.70500290e-03,  9.60028265e-05,\n",
              "       -9.92138172e-04, -1.44921429e-03,  5.23447990e-03, -7.97539484e-03,\n",
              "        2.02049036e-04, -5.38180862e-03, -2.53713620e-03, -2.97141261e-04,\n",
              "        4.16870113e-04, -9.17840051e-04,  5.07946219e-03,  3.68095259e-03,\n",
              "       -3.00588156e-03, -5.44694532e-03,  3.58471042e-03,  3.88381351e-03,\n",
              "        1.87929743e-03, -5.54176793e-03, -3.27428943e-03, -1.08501082e-03],\n",
              "      dtype=float32)"
            ]
          },
          "metadata": {},
          "execution_count": 76
        }
      ],
      "source": [
        "# Create document vectors by averaging word vectors\n",
        "\n",
        "np.mean(model.wv.__getitem__(vocab_tokens), axis=0)"
      ]
    },
    {
      "cell_type": "code",
      "execution_count": 77,
      "metadata": {
        "id": "TOU8R32MSfZ0",
        "outputId": "680b3f6d-9bc3-4bae-d6b6-14cf9c5d6d7e",
        "colab": {
          "base_uri": "https://localhost:8080/"
        }
      },
      "outputs": [
        {
          "output_type": "execute_result",
          "data": {
            "text/plain": [
              "(100,)"
            ]
          },
          "metadata": {},
          "execution_count": 77
        }
      ],
      "source": [
        "np.mean(model.wv.__getitem__(vocab_tokens), axis=0).shape"
      ]
    },
    {
      "cell_type": "code",
      "execution_count": 78,
      "metadata": {
        "id": "jW6cZUUQSfZ0"
      },
      "outputs": [],
      "source": [
        "def document_vector(doc, keyed_vectors):\n",
        "    \"\"\"Remove out-of-vocabulary words. Create document vectors by averaging word vectors.\"\"\"\n",
        "    vocab_tokens = [word for word in doc if word in keyed_vectors.index_to_key]\n",
        "    return np.mean(keyed_vectors.__getitem__(vocab_tokens), axis=0)"
      ]
    },
    {
      "cell_type": "code",
      "execution_count": 79,
      "metadata": {
        "id": "8eJbTNR1SfZ1",
        "outputId": "373fc868-b635-48e0-b637-ab9502079ff5",
        "colab": {
          "base_uri": "https://localhost:8080/",
          "height": 288
        }
      },
      "outputs": [
        {
          "output_type": "execute_result",
          "data": {
            "text/plain": [
              "                            text clean_text_stem  text_length_stem  \\\n",
              "0     it Was the best oF Times $       best time                 2   \n",
              "1     It was The worst of times.      worst time                 2   \n",
              "2     IT 9 was tHe age Of wisdom      age wisdom                 2   \n",
              "3  it was thE age of foolishness     age foolish                 2   \n",
              "\n",
              "  clean_text_lemma  text_length_lemma tokenised_sentences  \\\n",
              "0        best time                  2        [best, time]   \n",
              "1       worst time                  2       [worst, time]   \n",
              "2       age wisdom                  2       [age, wisdom]   \n",
              "3  age foolishness                  2      [age, foolish]   \n",
              "\n",
              "                                      doc_vector_w2v  \n",
              "0  [-0.008673586, 0.0028979492, 0.0021581696, -0....  \n",
              "1  [-0.007879351, 0.0024533845, -0.0009934164, 0....  \n",
              "2  [-0.004389453, 0.0047678924, 0.0024528443, 0.0...  \n",
              "3  [-0.00022083164, 0.0016568744, -0.0008546484, ...  "
            ],
            "text/html": [
              "\n",
              "  <div id=\"df-5cf448fb-e115-43e4-b59e-ce2d37a945e3\">\n",
              "    <div class=\"colab-df-container\">\n",
              "      <div>\n",
              "<style scoped>\n",
              "    .dataframe tbody tr th:only-of-type {\n",
              "        vertical-align: middle;\n",
              "    }\n",
              "\n",
              "    .dataframe tbody tr th {\n",
              "        vertical-align: top;\n",
              "    }\n",
              "\n",
              "    .dataframe thead th {\n",
              "        text-align: right;\n",
              "    }\n",
              "</style>\n",
              "<table border=\"1\" class=\"dataframe\">\n",
              "  <thead>\n",
              "    <tr style=\"text-align: right;\">\n",
              "      <th></th>\n",
              "      <th>text</th>\n",
              "      <th>clean_text_stem</th>\n",
              "      <th>text_length_stem</th>\n",
              "      <th>clean_text_lemma</th>\n",
              "      <th>text_length_lemma</th>\n",
              "      <th>tokenised_sentences</th>\n",
              "      <th>doc_vector_w2v</th>\n",
              "    </tr>\n",
              "  </thead>\n",
              "  <tbody>\n",
              "    <tr>\n",
              "      <th>0</th>\n",
              "      <td>it Was the best oF Times $</td>\n",
              "      <td>best time</td>\n",
              "      <td>2</td>\n",
              "      <td>best time</td>\n",
              "      <td>2</td>\n",
              "      <td>[best, time]</td>\n",
              "      <td>[-0.008673586, 0.0028979492, 0.0021581696, -0....</td>\n",
              "    </tr>\n",
              "    <tr>\n",
              "      <th>1</th>\n",
              "      <td>It was The worst of times.</td>\n",
              "      <td>worst time</td>\n",
              "      <td>2</td>\n",
              "      <td>worst time</td>\n",
              "      <td>2</td>\n",
              "      <td>[worst, time]</td>\n",
              "      <td>[-0.007879351, 0.0024533845, -0.0009934164, 0....</td>\n",
              "    </tr>\n",
              "    <tr>\n",
              "      <th>2</th>\n",
              "      <td>IT 9 was tHe age Of wisdom</td>\n",
              "      <td>age wisdom</td>\n",
              "      <td>2</td>\n",
              "      <td>age wisdom</td>\n",
              "      <td>2</td>\n",
              "      <td>[age, wisdom]</td>\n",
              "      <td>[-0.004389453, 0.0047678924, 0.0024528443, 0.0...</td>\n",
              "    </tr>\n",
              "    <tr>\n",
              "      <th>3</th>\n",
              "      <td>it was thE age of foolishness</td>\n",
              "      <td>age foolish</td>\n",
              "      <td>2</td>\n",
              "      <td>age foolishness</td>\n",
              "      <td>2</td>\n",
              "      <td>[age, foolish]</td>\n",
              "      <td>[-0.00022083164, 0.0016568744, -0.0008546484, ...</td>\n",
              "    </tr>\n",
              "  </tbody>\n",
              "</table>\n",
              "</div>\n",
              "      <button class=\"colab-df-convert\" onclick=\"convertToInteractive('df-5cf448fb-e115-43e4-b59e-ce2d37a945e3')\"\n",
              "              title=\"Convert this dataframe to an interactive table.\"\n",
              "              style=\"display:none;\">\n",
              "        \n",
              "  <svg xmlns=\"http://www.w3.org/2000/svg\" height=\"24px\"viewBox=\"0 0 24 24\"\n",
              "       width=\"24px\">\n",
              "    <path d=\"M0 0h24v24H0V0z\" fill=\"none\"/>\n",
              "    <path d=\"M18.56 5.44l.94 2.06.94-2.06 2.06-.94-2.06-.94-.94-2.06-.94 2.06-2.06.94zm-11 1L8.5 8.5l.94-2.06 2.06-.94-2.06-.94L8.5 2.5l-.94 2.06-2.06.94zm10 10l.94 2.06.94-2.06 2.06-.94-2.06-.94-.94-2.06-.94 2.06-2.06.94z\"/><path d=\"M17.41 7.96l-1.37-1.37c-.4-.4-.92-.59-1.43-.59-.52 0-1.04.2-1.43.59L10.3 9.45l-7.72 7.72c-.78.78-.78 2.05 0 2.83L4 21.41c.39.39.9.59 1.41.59.51 0 1.02-.2 1.41-.59l7.78-7.78 2.81-2.81c.8-.78.8-2.07 0-2.86zM5.41 20L4 18.59l7.72-7.72 1.47 1.35L5.41 20z\"/>\n",
              "  </svg>\n",
              "      </button>\n",
              "      \n",
              "  <style>\n",
              "    .colab-df-container {\n",
              "      display:flex;\n",
              "      flex-wrap:wrap;\n",
              "      gap: 12px;\n",
              "    }\n",
              "\n",
              "    .colab-df-convert {\n",
              "      background-color: #E8F0FE;\n",
              "      border: none;\n",
              "      border-radius: 50%;\n",
              "      cursor: pointer;\n",
              "      display: none;\n",
              "      fill: #1967D2;\n",
              "      height: 32px;\n",
              "      padding: 0 0 0 0;\n",
              "      width: 32px;\n",
              "    }\n",
              "\n",
              "    .colab-df-convert:hover {\n",
              "      background-color: #E2EBFA;\n",
              "      box-shadow: 0px 1px 2px rgba(60, 64, 67, 0.3), 0px 1px 3px 1px rgba(60, 64, 67, 0.15);\n",
              "      fill: #174EA6;\n",
              "    }\n",
              "\n",
              "    [theme=dark] .colab-df-convert {\n",
              "      background-color: #3B4455;\n",
              "      fill: #D2E3FC;\n",
              "    }\n",
              "\n",
              "    [theme=dark] .colab-df-convert:hover {\n",
              "      background-color: #434B5C;\n",
              "      box-shadow: 0px 1px 3px 1px rgba(0, 0, 0, 0.15);\n",
              "      filter: drop-shadow(0px 1px 2px rgba(0, 0, 0, 0.3));\n",
              "      fill: #FFFFFF;\n",
              "    }\n",
              "  </style>\n",
              "\n",
              "      <script>\n",
              "        const buttonEl =\n",
              "          document.querySelector('#df-5cf448fb-e115-43e4-b59e-ce2d37a945e3 button.colab-df-convert');\n",
              "        buttonEl.style.display =\n",
              "          google.colab.kernel.accessAllowed ? 'block' : 'none';\n",
              "\n",
              "        async function convertToInteractive(key) {\n",
              "          const element = document.querySelector('#df-5cf448fb-e115-43e4-b59e-ce2d37a945e3');\n",
              "          const dataTable =\n",
              "            await google.colab.kernel.invokeFunction('convertToInteractive',\n",
              "                                                     [key], {});\n",
              "          if (!dataTable) return;\n",
              "\n",
              "          const docLinkHtml = 'Like what you see? Visit the ' +\n",
              "            '<a target=\"_blank\" href=https://colab.research.google.com/notebooks/data_table.ipynb>data table notebook</a>'\n",
              "            + ' to learn more about interactive tables.';\n",
              "          element.innerHTML = '';\n",
              "          dataTable['output_type'] = 'display_data';\n",
              "          await google.colab.output.renderOutput(dataTable, element);\n",
              "          const docLink = document.createElement('div');\n",
              "          docLink.innerHTML = docLinkHtml;\n",
              "          element.appendChild(docLink);\n",
              "        }\n",
              "      </script>\n",
              "    </div>\n",
              "  </div>\n",
              "  "
            ]
          },
          "metadata": {},
          "execution_count": 79
        }
      ],
      "source": [
        "df['doc_vector_w2v'] = df.tokenised_sentences.apply(lambda x : document_vector(x, model.wv))\n",
        "\n",
        "df.head()"
      ]
    },
    {
      "cell_type": "markdown",
      "metadata": {
        "id": "kNlizePoSfZ1"
      },
      "source": [
        "## Pretrained GloVe Embeddings"
      ]
    },
    {
      "cell_type": "code",
      "execution_count": 80,
      "metadata": {
        "id": "_EPgQYknSfZ2",
        "outputId": "6718f9a2-e2a7-4ccc-fae9-0d4888674fbc",
        "colab": {
          "base_uri": "https://localhost:8080/"
        }
      },
      "outputs": [
        {
          "output_type": "stream",
          "name": "stdout",
          "text": [
            "4.2.0\n",
            "['fasttext-wiki-news-subwords-300', 'conceptnet-numberbatch-17-06-300', 'word2vec-ruscorpora-300', 'word2vec-google-news-300', 'glove-wiki-gigaword-50', 'glove-wiki-gigaword-100', 'glove-wiki-gigaword-200', 'glove-wiki-gigaword-300', 'glove-twitter-25', 'glove-twitter-50', 'glove-twitter-100', 'glove-twitter-200', '__testing_word2vec-matrix-synopsis']\n"
          ]
        }
      ],
      "source": [
        "import gensim\n",
        "import gensim.downloader as api\n",
        "\n",
        "print(gensim.__version__)\n",
        "\n",
        "print(list(gensim.downloader.info()['models'].keys()))"
      ]
    },
    {
      "cell_type": "code",
      "execution_count": 81,
      "metadata": {
        "id": "JBSh4A6eSfZ2",
        "colab": {
          "base_uri": "https://localhost:8080/"
        },
        "outputId": "dd1dfecd-61db-40e5-efd5-4b8708cfd5db"
      },
      "outputs": [
        {
          "output_type": "stream",
          "name": "stdout",
          "text": [
            "[==================================================] 100.0% 199.5/199.5MB downloaded\n"
          ]
        }
      ],
      "source": [
        "wv = api.load('glove-twitter-50')"
      ]
    },
    {
      "cell_type": "code",
      "execution_count": 82,
      "metadata": {
        "id": "-Ea4ldzUSfZ2"
      },
      "outputs": [],
      "source": [
        "# Approax 200MB Size\n",
        "# Save Embeddings\n",
        "# wv.save('embeddings/50d_glove_vec.kv')\n",
        "\n",
        "# Load Embeddings\n",
        "# from gensim.models import KeyedVectors\n",
        "# wv = KeyedVectors.load('embeddings/50d_glove_vec.kv')"
      ]
    },
    {
      "cell_type": "code",
      "execution_count": 83,
      "metadata": {
        "id": "hc_9AmoiSfZ3",
        "outputId": "522c4adb-c6f0-41a2-c6ae-a4746277c4e7",
        "colab": {
          "base_uri": "https://localhost:8080/"
        }
      },
      "outputs": [
        {
          "output_type": "execute_result",
          "data": {
            "text/plain": [
              "gensim.models.keyedvectors.KeyedVectors"
            ]
          },
          "metadata": {},
          "execution_count": 83
        }
      ],
      "source": [
        "type(wv)"
      ]
    },
    {
      "cell_type": "code",
      "source": [
        "# Vocabulary Size and Word Embedding Shape\n",
        "\n",
        "print(len(wv.index_to_key))\n",
        "\n",
        "print(wv.__getitem__(\"school\").shape)"
      ],
      "metadata": {
        "colab": {
          "base_uri": "https://localhost:8080/"
        },
        "id": "kWcnNhD9fAsk",
        "outputId": "2aa9c9b6-e1ae-46aa-baf2-1a2fced4092e"
      },
      "execution_count": 93,
      "outputs": [
        {
          "output_type": "stream",
          "name": "stdout",
          "text": [
            "1193514\n",
            "(50,)\n"
          ]
        }
      ]
    },
    {
      "cell_type": "code",
      "source": [
        "wv.most_similar(\"developer\", topn=5)"
      ],
      "metadata": {
        "colab": {
          "base_uri": "https://localhost:8080/"
        },
        "id": "uUzIU8pBaYYh",
        "outputId": "9f00306f-b76c-41dc-f3a8-518a62e4071c"
      },
      "execution_count": null,
      "outputs": [
        {
          "output_type": "execute_result",
          "data": {
            "text/plain": [
              "[('sharepoint', 0.8866323828697205),\n",
              " ('administrator', 0.8673086166381836),\n",
              " ('programmer', 0.8619340658187866),\n",
              " ('architect', 0.8591458201408386),\n",
              " ('oracle', 0.8557209372520447)]"
            ]
          },
          "metadata": {},
          "execution_count": 66
        }
      ]
    },
    {
      "cell_type": "code",
      "source": [
        "wv.similarity(\"developer\", \"development\")"
      ],
      "metadata": {
        "colab": {
          "base_uri": "https://localhost:8080/"
        },
        "id": "FIDM-cluagRW",
        "outputId": "585ae3db-e109-4ef4-c507-916afca9e13f"
      },
      "execution_count": null,
      "outputs": [
        {
          "output_type": "execute_result",
          "data": {
            "text/plain": [
              "0.7817412"
            ]
          },
          "metadata": {},
          "execution_count": 67
        }
      ]
    },
    {
      "cell_type": "code",
      "execution_count": null,
      "metadata": {
        "id": "l_2fjSxMSfZ3",
        "outputId": "756ec309-e687-40c0-f076-bd7551b03b94",
        "colab": {
          "base_uri": "https://localhost:8080/"
        }
      },
      "outputs": [
        {
          "output_type": "execute_result",
          "data": {
            "text/plain": [
              "array([ 1.7885  , -0.067292,  0.46616 , -0.81783 ,  0.10752 ,  0.30621 ,\n",
              "        1.4632  , -0.12453 , -0.10154 , -0.23087 , -0.572   ,  0.086826,\n",
              "       -4.051   ,  0.85883 ,  0.71311 , -0.049015, -0.51012 ,  0.22284 ,\n",
              "       -0.98466 ,  0.78809 ,  0.53688 ,  0.17593 ,  0.26659 , -0.86271 ,\n",
              "        0.051508,  0.29894 ,  0.74473 , -0.85046 , -0.32939 , -0.31356 ,\n",
              "        0.63817 , -1.1198  , -0.1482  , -0.46216 ,  0.046157, -0.46282 ,\n",
              "       -0.32383 ,  1.5272  ,  0.76098 , -0.1311  , -0.35028 ,  0.51516 ,\n",
              "       -0.07257 ,  0.2536  ,  0.5363  , -0.46969 ,  0.3285  ,  0.17779 ,\n",
              "       -0.47109 ,  0.37841 ], dtype=float32)"
            ]
          },
          "metadata": {},
          "execution_count": 64
        }
      ],
      "source": [
        "wv.__getitem__('college')"
      ]
    },
    {
      "cell_type": "markdown",
      "metadata": {
        "id": "ERXLjic4SfZ4"
      },
      "source": [
        "### Semantic regularities captured in word embeddings"
      ]
    },
    {
      "cell_type": "code",
      "execution_count": null,
      "metadata": {
        "id": "cn-I8PksSfZ4",
        "outputId": "79334d13-7414-49e2-f894-30e60c14a0e6",
        "colab": {
          "base_uri": "https://localhost:8080/"
        }
      },
      "outputs": [
        {
          "output_type": "execute_result",
          "data": {
            "text/plain": [
              "0.8894184"
            ]
          },
          "metadata": {},
          "execution_count": 67
        }
      ],
      "source": [
        "wv.similarity(\"college\", \"school\")"
      ]
    },
    {
      "cell_type": "code",
      "execution_count": null,
      "metadata": {
        "id": "p-HG5pGzSfZ4",
        "outputId": "2bc08c4e-fb0c-402b-8c7b-49ab85398d36",
        "colab": {
          "base_uri": "https://localhost:8080/"
        }
      },
      "outputs": [
        {
          "output_type": "execute_result",
          "data": {
            "text/plain": [
              "0.81164277"
            ]
          },
          "metadata": {},
          "execution_count": 68
        }
      ],
      "source": [
        "wv.similarity(\"college\", \"university\")"
      ]
    },
    {
      "cell_type": "code",
      "execution_count": null,
      "metadata": {
        "id": "1-LgFzpbSfZ5",
        "outputId": "d1602b62-0bc4-4d38-f89a-9c59eee6b5d0",
        "colab": {
          "base_uri": "https://localhost:8080/"
        }
      },
      "outputs": [
        {
          "output_type": "execute_result",
          "data": {
            "text/plain": [
              "0.39391714"
            ]
          },
          "metadata": {},
          "execution_count": 69
        }
      ],
      "source": [
        "wv.similarity(\"college\", \"apple\")"
      ]
    },
    {
      "cell_type": "code",
      "execution_count": null,
      "metadata": {
        "id": "oE2IYsCESfZ5",
        "outputId": "11598847-256a-4ff3-a858-f36c23067fb8",
        "colab": {
          "base_uri": "https://localhost:8080/"
        }
      },
      "outputs": [
        {
          "output_type": "execute_result",
          "data": {
            "text/plain": [
              "[('school', 0.8894184231758118),\n",
              " ('student', 0.8599385023117065),\n",
              " ('class', 0.8441339731216431),\n",
              " ('classes', 0.8319132924079895),\n",
              " ('basketball', 0.8274194002151489)]"
            ]
          },
          "metadata": {},
          "execution_count": 70
        }
      ],
      "source": [
        "wv.most_similar(\"college\", topn=5)"
      ]
    },
    {
      "cell_type": "code",
      "execution_count": null,
      "metadata": {
        "id": "B7O6cSu5SfZ6",
        "outputId": "84a14a07-4521-4218-9322-1f53e678bba7",
        "colab": {
          "base_uri": "https://localhost:8080/"
        }
      },
      "outputs": [
        {
          "output_type": "execute_result",
          "data": {
            "text/plain": [
              "[('yogurt', 0.8689919710159302),\n",
              " ('coconut', 0.8518491387367249),\n",
              " ('strawberry', 0.8414680361747742),\n",
              " ('fanta', 0.8399896621704102),\n",
              " ('mocha', 0.8393071293830872)]"
            ]
          },
          "metadata": {},
          "execution_count": 71
        }
      ],
      "source": [
        "wv.most_similar(\"mango\", topn=5)"
      ]
    },
    {
      "cell_type": "code",
      "execution_count": null,
      "metadata": {
        "scrolled": true,
        "id": "QUh5Og4kSfZ6",
        "outputId": "64b2ec9e-6e1a-46ba-a107-934cfc652305",
        "colab": {
          "base_uri": "https://localhost:8080/"
        }
      },
      "outputs": [
        {
          "output_type": "execute_result",
          "data": {
            "text/plain": [
              "[('student', 0.8731303811073303),\n",
              " ('students', 0.8377566337585449),\n",
              " ('schools', 0.8342148065567017),\n",
              " ('campus', 0.8218968510627747),\n",
              " ('cambridge', 0.8131343126296997)]"
            ]
          },
          "metadata": {},
          "execution_count": 72
        }
      ],
      "source": [
        "wv.most_similar(positive=['college', 'university'], topn=5)"
      ]
    },
    {
      "cell_type": "code",
      "execution_count": null,
      "metadata": {
        "id": "lUIwGt4cSfZ7",
        "outputId": "cd1da1d3-9dad-409d-f7f0-7a2ce2dd6ac2",
        "colab": {
          "base_uri": "https://localhost:8080/"
        }
      },
      "outputs": [
        {
          "output_type": "execute_result",
          "data": {
            "text/plain": [
              "[('teacher', 0.8359395265579224),\n",
              " ('form', 0.8157237768173218),\n",
              " ('study', 0.8039187788963318)]"
            ]
          },
          "metadata": {},
          "execution_count": 73
        }
      ],
      "source": [
        "wv.most_similar(positive=['student', 'class'], negative=['college'], topn=3)"
      ]
    },
    {
      "cell_type": "code",
      "execution_count": null,
      "metadata": {
        "id": "2s3v9uQlSfZ7",
        "outputId": "1e2f71c8-3c48-4b9b-ad65-8836ff0ef673",
        "colab": {
          "base_uri": "https://localhost:8080/"
        }
      },
      "outputs": [
        {
          "output_type": "stream",
          "name": "stdout",
          "text": [
            "apple\n"
          ]
        }
      ],
      "source": [
        "print(wv.doesnt_match(['college', 'university', 'school', 'student', 'apple']))"
      ]
    },
    {
      "cell_type": "code",
      "execution_count": null,
      "metadata": {
        "id": "kmiMM1WoSfZ7"
      },
      "outputs": [],
      "source": [
        "words = ['college', 'mango', 'school','student','class', 'strawberry', 'coconut']"
      ]
    },
    {
      "cell_type": "code",
      "execution_count": null,
      "metadata": {
        "id": "zIbLflLVSfZ8",
        "outputId": "a4d2204c-a67d-4bb2-ebfa-dc0b73315455",
        "colab": {
          "base_uri": "https://localhost:8080/",
          "height": 265
        }
      },
      "outputs": [
        {
          "output_type": "display_data",
          "data": {
            "text/plain": [
              "<Figure size 432x288 with 1 Axes>"
            ],
            "image/png": "[encoded data removed]"
          },
          "metadata": {
            "needs_background": "light"
          }
        }
      ],
      "source": [
        "from sklearn.decomposition import PCA\n",
        "import matplotlib.pyplot as plt\n",
        "\n",
        "X = np.array([wv[word] for word in words])\n",
        "pca = PCA(n_components = 2)\n",
        "result = pca.fit_transform(X)\n",
        "\n",
        "# create a scatter plot of the projection\n",
        "plt.scatter(result[:, 0], result[:, 1])\n",
        "for i, word in enumerate(words):\n",
        "    plt.annotate(word, xy=(result[i, 0], result[i, 1]))\n",
        "plt.show()"
      ]
    },
    {
      "cell_type": "markdown",
      "metadata": {
        "id": "vLMIEXKISfZ8"
      },
      "source": [
        "### Sentence Embedding from Pretrained Model (Document Vectors)"
      ]
    },
    {
      "cell_type": "code",
      "execution_count": null,
      "metadata": {
        "id": "FfZFdehdSfZ9"
      },
      "outputs": [],
      "source": [
        "def document_vector_pretrained(doc, keyed_vectors):\n",
        "    \"\"\"Remove out-of-vocabulary words. Create document vectors by averaging word vectors.\"\"\"\n",
        "    vocab_tokens = [word for word in doc if word in keyed_vectors.index_to_key]\n",
        "    return np.mean(keyed_vectors.__getitem__(vocab_tokens), axis=0)"
      ]
    },
    {
      "cell_type": "code",
      "execution_count": null,
      "metadata": {
        "id": "s0nOu1yVSfZ9",
        "outputId": "475fe483-cf9d-40bd-c308-61c95a719992",
        "colab": {
          "base_uri": "https://localhost:8080/",
          "height": 447
        }
      },
      "outputs": [
        {
          "output_type": "execute_result",
          "data": {
            "text/plain": [
              "                            text clean_text_stem  text_length_stem  \\\n",
              "0     it Was the best oF Times $       best time                 2   \n",
              "1     It was The worst of times.      worst time                 2   \n",
              "2     IT 9 was tHe age Of wisdom      age wisdom                 2   \n",
              "3  it was thE age of foolishness     age foolish                 2   \n",
              "\n",
              "  clean_text_lemma  text_length_lemma tokenised_sentences  \\\n",
              "0        best time                  2        [best, time]   \n",
              "1       worst time                  2       [worst, time]   \n",
              "2       age wisdom                  2       [age, wisdom]   \n",
              "3  age foolishness                  2      [age, foolish]   \n",
              "\n",
              "                                      doc_vector_w2v  \\\n",
              "0  [-0.008673586, 0.0028979492, 0.0021581696, -0....   \n",
              "1  [-0.007879351, 0.0024533845, -0.0009934164, 0....   \n",
              "2  [-0.004389453, 0.0047678924, 0.0024528443, 0.0...   \n",
              "3  [-0.00022083164, 0.0016568744, -0.0008546484, ...   \n",
              "\n",
              "                         doc_vector_pretrained_glove  \n",
              "0  [0.432825, 0.1588, 0.39231, -0.493835, 0.00431...  \n",
              "1  [0.73222, 0.23221499, 0.29085773, -0.31792, -0...  \n",
              "2  [-0.045359, -0.66945, -0.33981, 0.167995, 0.70...  \n",
              "3  [0.027362999, -0.08074499, -0.37674, 0.773955,...  "
            ],
            "text/html": [
              "\n",
              "  <div id=\"df-53cbd78f-c8c3-4c3c-8917-2809f75b5024\">\n",
              "    <div class=\"colab-df-container\">\n",
              "      <div>\n",
              "<style scoped>\n",
              "    .dataframe tbody tr th:only-of-type {\n",
              "        vertical-align: middle;\n",
              "    }\n",
              "\n",
              "    .dataframe tbody tr th {\n",
              "        vertical-align: top;\n",
              "    }\n",
              "\n",
              "    .dataframe thead th {\n",
              "        text-align: right;\n",
              "    }\n",
              "</style>\n",
              "<table border=\"1\" class=\"dataframe\">\n",
              "  <thead>\n",
              "    <tr style=\"text-align: right;\">\n",
              "      <th></th>\n",
              "      <th>text</th>\n",
              "      <th>clean_text_stem</th>\n",
              "      <th>text_length_stem</th>\n",
              "      <th>clean_text_lemma</th>\n",
              "      <th>text_length_lemma</th>\n",
              "      <th>tokenised_sentences</th>\n",
              "      <th>doc_vector_w2v</th>\n",
              "      <th>doc_vector_pretrained_glove</th>\n",
              "    </tr>\n",
              "  </thead>\n",
              "  <tbody>\n",
              "    <tr>\n",
              "      <th>0</th>\n",
              "      <td>it Was the best oF Times $</td>\n",
              "      <td>best time</td>\n",
              "      <td>2</td>\n",
              "      <td>best time</td>\n",
              "      <td>2</td>\n",
              "      <td>[best, time]</td>\n",
              "      <td>[-0.008673586, 0.0028979492, 0.0021581696, -0....</td>\n",
              "      <td>[0.432825, 0.1588, 0.39231, -0.493835, 0.00431...</td>\n",
              "    </tr>\n",
              "    <tr>\n",
              "      <th>1</th>\n",
              "      <td>It was The worst of times.</td>\n",
              "      <td>worst time</td>\n",
              "      <td>2</td>\n",
              "      <td>worst time</td>\n",
              "      <td>2</td>\n",
              "      <td>[worst, time]</td>\n",
              "      <td>[-0.007879351, 0.0024533845, -0.0009934164, 0....</td>\n",
              "      <td>[0.73222, 0.23221499, 0.29085773, -0.31792, -0...</td>\n",
              "    </tr>\n",
              "    <tr>\n",
              "      <th>2</th>\n",
              "      <td>IT 9 was tHe age Of wisdom</td>\n",
              "      <td>age wisdom</td>\n",
              "      <td>2</td>\n",
              "      <td>age wisdom</td>\n",
              "      <td>2</td>\n",
              "      <td>[age, wisdom]</td>\n",
              "      <td>[-0.004389453, 0.0047678924, 0.0024528443, 0.0...</td>\n",
              "      <td>[-0.045359, -0.66945, -0.33981, 0.167995, 0.70...</td>\n",
              "    </tr>\n",
              "    <tr>\n",
              "      <th>3</th>\n",
              "      <td>it was thE age of foolishness</td>\n",
              "      <td>age foolish</td>\n",
              "      <td>2</td>\n",
              "      <td>age foolishness</td>\n",
              "      <td>2</td>\n",
              "      <td>[age, foolish]</td>\n",
              "      <td>[-0.00022083164, 0.0016568744, -0.0008546484, ...</td>\n",
              "      <td>[0.027362999, -0.08074499, -0.37674, 0.773955,...</td>\n",
              "    </tr>\n",
              "  </tbody>\n",
              "</table>\n",
              "</div>\n",
              "      <button class=\"colab-df-convert\" onclick=\"convertToInteractive('df-53cbd78f-c8c3-4c3c-8917-2809f75b5024')\"\n",
              "              title=\"Convert this dataframe to an interactive table.\"\n",
              "              style=\"display:none;\">\n",
              "        \n",
              "  <svg xmlns=\"http://www.w3.org/2000/svg\" height=\"24px\"viewBox=\"0 0 24 24\"\n",
              "       width=\"24px\">\n",
              "    <path d=\"M0 0h24v24H0V0z\" fill=\"none\"/>\n",
              "    <path d=\"M18.56 5.44l.94 2.06.94-2.06 2.06-.94-2.06-.94-.94-2.06-.94 2.06-2.06.94zm-11 1L8.5 8.5l.94-2.06 2.06-.94-2.06-.94L8.5 2.5l-.94 2.06-2.06.94zm10 10l.94 2.06.94-2.06 2.06-.94-2.06-.94-.94-2.06-.94 2.06-2.06.94z\"/><path d=\"M17.41 7.96l-1.37-1.37c-.4-.4-.92-.59-1.43-.59-.52 0-1.04.2-1.43.59L10.3 9.45l-7.72 7.72c-.78.78-.78 2.05 0 2.83L4 21.41c.39.39.9.59 1.41.59.51 0 1.02-.2 1.41-.59l7.78-7.78 2.81-2.81c.8-.78.8-2.07 0-2.86zM5.41 20L4 18.59l7.72-7.72 1.47 1.35L5.41 20z\"/>\n",
              "  </svg>\n",
              "      </button>\n",
              "      \n",
              "  <style>\n",
              "    .colab-df-container {\n",
              "      display:flex;\n",
              "      flex-wrap:wrap;\n",
              "      gap: 12px;\n",
              "    }\n",
              "\n",
              "    .colab-df-convert {\n",
              "      background-color: #E8F0FE;\n",
              "      border: none;\n",
              "      border-radius: 50%;\n",
              "      cursor: pointer;\n",
              "      display: none;\n",
              "      fill: #1967D2;\n",
              "      height: 32px;\n",
              "      padding: 0 0 0 0;\n",
              "      width: 32px;\n",
              "    }\n",
              "\n",
              "    .colab-df-convert:hover {\n",
              "      background-color: #E2EBFA;\n",
              "      box-shadow: 0px 1px 2px rgba(60, 64, 67, 0.3), 0px 1px 3px 1px rgba(60, 64, 67, 0.15);\n",
              "      fill: #174EA6;\n",
              "    }\n",
              "\n",
              "    [theme=dark] .colab-df-convert {\n",
              "      background-color: #3B4455;\n",
              "      fill: #D2E3FC;\n",
              "    }\n",
              "\n",
              "    [theme=dark] .colab-df-convert:hover {\n",
              "      background-color: #434B5C;\n",
              "      box-shadow: 0px 1px 3px 1px rgba(0, 0, 0, 0.15);\n",
              "      filter: drop-shadow(0px 1px 2px rgba(0, 0, 0, 0.3));\n",
              "      fill: #FFFFFF;\n",
              "    }\n",
              "  </style>\n",
              "\n",
              "      <script>\n",
              "        const buttonEl =\n",
              "          document.querySelector('#df-53cbd78f-c8c3-4c3c-8917-2809f75b5024 button.colab-df-convert');\n",
              "        buttonEl.style.display =\n",
              "          google.colab.kernel.accessAllowed ? 'block' : 'none';\n",
              "\n",
              "        async function convertToInteractive(key) {\n",
              "          const element = document.querySelector('#df-53cbd78f-c8c3-4c3c-8917-2809f75b5024');\n",
              "          const dataTable =\n",
              "            await google.colab.kernel.invokeFunction('convertToInteractive',\n",
              "                                                     [key], {});\n",
              "          if (!dataTable) return;\n",
              "\n",
              "          const docLinkHtml = 'Like what you see? Visit the ' +\n",
              "            '<a target=\"_blank\" href=https://colab.research.google.com/notebooks/data_table.ipynb>data table notebook</a>'\n",
              "            + ' to learn more about interactive tables.';\n",
              "          element.innerHTML = '';\n",
              "          dataTable['output_type'] = 'display_data';\n",
              "          await google.colab.output.renderOutput(dataTable, element);\n",
              "          const docLink = document.createElement('div');\n",
              "          docLink.innerHTML = docLinkHtml;\n",
              "          element.appendChild(docLink);\n",
              "        }\n",
              "      </script>\n",
              "    </div>\n",
              "  </div>\n",
              "  "
            ]
          },
          "metadata": {},
          "execution_count": 78
        }
      ],
      "source": [
        "df['doc_vector_pretrained_glove'] = df.tokenised_sentences.apply(lambda x : document_vector_pretrained(x, wv))\n",
        "\n",
        "df.head()"
      ]
    },
    {
      "cell_type": "markdown",
      "metadata": {
        "id": "PX0n1R5KSfZ9"
      },
      "source": [
        "## Word2Vec vs BERT\n",
        "\n",
        "**Embeddings**  \n",
        "Word2Vec offers pre-trained word embeddings that anyone can use off-the-shelf. The embeddings are key: value pairs, essentially 1-1 mappings between words and their respective vectors. Word2Vec takes a single word as input and outputs a single vector representation of that word. \n",
        "\n",
        "Since BERT generates contextual embeddings, it takes as input a sequence (usually a sentence) rather than a single word. BERT needs to be shown the context that surrounding words provide before it can generate a word embedding. With BERT, you do need to have the actual model as the vector representations of words will vary based on the specific sequences you’re inputting. The output is a fixed-length vector representation of the input sentence. \n",
        "\n",
        "BERT or Bidirectional Encoder Representations from Transformers, is a technique that allows for bidirectional training of Transformers for natural language modeling tasks. Language models which are bidirectionally trained can learn deeper context from language than single-direction models. BERT generates context aware embeddings that allow for multiple representations (each representation, in this case, is a vector) of each word based on a given word’s context.\n",
        "\n",
        "**Word Ordering**  \n",
        "Word2Vec embeddings do not take into account the word position.\n",
        "\n",
        "BERT model explicitly takes as input the position (index) of each word in the sentence before calculating its embedding.\n",
        "\n",
        "**Out-of-Vocabulary**  \n",
        "Since Word2Vec learns embeddings at word level, it can only generate embeddings for words that existed in it’s training set (aka it’s “vocabulary space”). This is a major drawback to Word2Vec - that it just doesn’t support Out-of-Vocabulary words.\n",
        "\n",
        "Alternatively, BERT learns representations at the subword level, so a BERT model will have a smaller vocabulary space than the number of unique words in its training corpus. In turn, BERT is able to generate embeddings for words outside of its vocabulary space giving it a near infinite vocabulary. "
      ]
    },
    {
      "cell_type": "markdown",
      "source": [
        "## Sentence BERT (SBERT)\n",
        "\n",
        "**`! pip install -U sentence-transformers`**\n",
        "\n",
        "Sentence BERT References:  \n",
        "https://www.sbert.net/index.html  \n",
        "https://www.sbert.net/docs/pretrained_models.html  \n",
        "\n",
        "Find the paper for Sentence BERT here: https://arxiv.org/pdf/1908.10084.pdf\n",
        "\n",
        "**BERT (Devlin et al., 2018) and RoBERTa (Liu et al., 2019) has set a new state-of-the-art performance on sentence-pair regression tasks like semantic textual similarity (STS). However, it requires that both sentences are fed into the network, which causes a massive computational overhead: Finding the most similar pair in a collection of 10,000 sentences requires about 50 million inference computations (~65 hours) with BERT. The construction of BERT makes it unsuitable for semantic similarity search as well as for unsupervised tasks like clustering.**\n",
        "\n",
        "**Sentence-BERT (SBERT), a modification of the pretrained BERT network that use siamese and triplet network structures to derive semantically meaningful sentence embeddings that can be compared using cosine-similarity. This reduces the effort for finding the most similar pair from 65 hours with BERT / RoBERTa to about 5 seconds with SBERT, while maintaining the accuracy from BERT.**\n",
        "\n",
        "### Usage\n",
        "\n",
        "- Computing Sentence Embeddings\n",
        "- Semantic Textual Similarity\n",
        "- Semantic Search\n",
        "- Retrieve and Re-Rank\n",
        "- Clustering\n",
        "- Paraphrase Mining\n",
        "- Translated Sentence Mining\n",
        "- Cross Encoders\n",
        "- Image Search"
      ],
      "metadata": {
        "id": "noiUcQaGSjbW"
      }
    },
    {
      "cell_type": "code",
      "source": [
        "! pip install -U sentence-transformers"
      ],
      "metadata": {
        "colab": {
          "base_uri": "https://localhost:8080/"
        },
        "id": "6PvNzUwKSni7",
        "outputId": "835d85d4-ea8b-412b-9a5a-fe4c721e0231"
      },
      "execution_count": null,
      "outputs": [
        {
          "output_type": "stream",
          "name": "stdout",
          "text": [
            "Looking in indexes: https://pypi.org/simple, https://us-python.pkg.dev/colab-wheels/public/simple/\n",
            "Requirement already satisfied: sentence-transformers in /usr/local/lib/python3.7/dist-packages (2.2.2)\n",
            "Requirement already satisfied: scikit-learn in /usr/local/lib/python3.7/dist-packages (from sentence-transformers) (1.0.2)\n",
            "Requirement already satisfied: scipy in /usr/local/lib/python3.7/dist-packages (from sentence-transformers) (1.7.3)\n",
            "Requirement already satisfied: numpy in /usr/local/lib/python3.7/dist-packages (from sentence-transformers) (1.21.6)\n",
            "Requirement already satisfied: torch>=1.6.0 in /usr/local/lib/python3.7/dist-packages (from sentence-transformers) (1.12.1+cu113)\n",
            "Requirement already satisfied: tqdm in /usr/local/lib/python3.7/dist-packages (from sentence-transformers) (4.64.1)\n",
            "Requirement already satisfied: huggingface-hub>=0.4.0 in /usr/local/lib/python3.7/dist-packages (from sentence-transformers) (0.9.1)\n",
            "Requirement already satisfied: transformers<5.0.0,>=4.6.0 in /usr/local/lib/python3.7/dist-packages (from sentence-transformers) (4.22.1)\n",
            "Requirement already satisfied: nltk in /usr/local/lib/python3.7/dist-packages (from sentence-transformers) (3.7)\n",
            "Requirement already satisfied: torchvision in /usr/local/lib/python3.7/dist-packages (from sentence-transformers) (0.13.1+cu113)\n",
            "Requirement already satisfied: sentencepiece in /usr/local/lib/python3.7/dist-packages (from sentence-transformers) (0.1.97)\n",
            "Requirement already satisfied: requests in /usr/local/lib/python3.7/dist-packages (from huggingface-hub>=0.4.0->sentence-transformers) (2.23.0)\n",
            "Requirement already satisfied: pyyaml>=5.1 in /usr/local/lib/python3.7/dist-packages (from huggingface-hub>=0.4.0->sentence-transformers) (6.0)\n",
            "Requirement already satisfied: packaging>=20.9 in /usr/local/lib/python3.7/dist-packages (from huggingface-hub>=0.4.0->sentence-transformers) (21.3)\n",
            "Requirement already satisfied: filelock in /usr/local/lib/python3.7/dist-packages (from huggingface-hub>=0.4.0->sentence-transformers) (3.8.0)\n",
            "Requirement already satisfied: typing-extensions>=3.7.4.3 in /usr/local/lib/python3.7/dist-packages (from huggingface-hub>=0.4.0->sentence-transformers) (4.1.1)\n",
            "Requirement already satisfied: importlib-metadata in /usr/local/lib/python3.7/dist-packages (from huggingface-hub>=0.4.0->sentence-transformers) (4.12.0)\n",
            "Requirement already satisfied: pyparsing!=3.0.5,>=2.0.2 in /usr/local/lib/python3.7/dist-packages (from packaging>=20.9->huggingface-hub>=0.4.0->sentence-transformers) (3.0.9)\n",
            "Requirement already satisfied: regex!=2019.12.17 in /usr/local/lib/python3.7/dist-packages (from transformers<5.0.0,>=4.6.0->sentence-transformers) (2022.6.2)\n",
            "Requirement already satisfied: tokenizers!=0.11.3,<0.13,>=0.11.1 in /usr/local/lib/python3.7/dist-packages (from transformers<5.0.0,>=4.6.0->sentence-transformers) (0.12.1)\n",
            "Requirement already satisfied: zipp>=0.5 in /usr/local/lib/python3.7/dist-packages (from importlib-metadata->huggingface-hub>=0.4.0->sentence-transformers) (3.8.1)\n",
            "Requirement already satisfied: joblib in /usr/local/lib/python3.7/dist-packages (from nltk->sentence-transformers) (1.1.0)\n",
            "Requirement already satisfied: click in /usr/local/lib/python3.7/dist-packages (from nltk->sentence-transformers) (7.1.2)\n",
            "Requirement already satisfied: chardet<4,>=3.0.2 in /usr/local/lib/python3.7/dist-packages (from requests->huggingface-hub>=0.4.0->sentence-transformers) (3.0.4)\n",
            "Requirement already satisfied: idna<3,>=2.5 in /usr/local/lib/python3.7/dist-packages (from requests->huggingface-hub>=0.4.0->sentence-transformers) (2.10)\n",
            "Requirement already satisfied: urllib3!=1.25.0,!=1.25.1,<1.26,>=1.21.1 in /usr/local/lib/python3.7/dist-packages (from requests->huggingface-hub>=0.4.0->sentence-transformers) (1.24.3)\n",
            "Requirement already satisfied: certifi>=2017.4.17 in /usr/local/lib/python3.7/dist-packages (from requests->huggingface-hub>=0.4.0->sentence-transformers) (2022.6.15)\n",
            "Requirement already satisfied: threadpoolctl>=2.0.0 in /usr/local/lib/python3.7/dist-packages (from scikit-learn->sentence-transformers) (3.1.0)\n",
            "Requirement already satisfied: pillow!=8.3.*,>=5.3.0 in /usr/local/lib/python3.7/dist-packages (from torchvision->sentence-transformers) (7.1.2)\n"
          ]
        }
      ]
    },
    {
      "cell_type": "code",
      "source": [
        "from sentence_transformers import SentenceTransformer, util"
      ],
      "metadata": {
        "id": "48LpLrSAUWT9"
      },
      "execution_count": null,
      "outputs": []
    },
    {
      "cell_type": "code",
      "source": [
        "model = SentenceTransformer('all-MiniLM-L6-v2')"
      ],
      "metadata": {
        "id": "eK9UhXi8SvU8"
      },
      "execution_count": null,
      "outputs": []
    },
    {
      "cell_type": "markdown",
      "source": [
        "### Model Overview\n",
        "\n",
        "```\n",
        "from sentence_transformers import SentenceTransformer\n",
        "model = SentenceTransformer('model_name')\n",
        "```\n",
        "\n",
        "All models are hosted on the [HuggingFace Model Hub](https://huggingface.co/sentence-transformers).\n",
        "\n",
        "The following table provides an overview of (selected) models. They have been extensively evaluated for their quality to embedded sentences (Performance Sentence Embeddings) and to embedded search queries & paragraphs (Performance Semantic Search).\n",
        "\n",
        "The **all-* models** where trained on all available training data (more than 1 billion training pairs) and are designed as general purpose models. The **all-mpnet-base-v2** model provides the best quality, while **all-MiniLM-L6-v2 is 5 times faster** and still offers good quality. Toggle All models to see all evaluated models or visit [HuggingFace Model Hub](https://huggingface.co/models?library=sentence-transformers) to view all existing sentence-transformers models.\n",
        "\n",
        "#### Model Name  \n",
        "**`all-mpnet-base-v2`**\n",
        "> Description: \tAll-round model tuned for many use-cases. Trained on a large and diverse dataset of over 1 billion training pairs.  \n",
        "> Dimensions: \t768  \n",
        "> Suitable Score Functions: \tdot-product (util.dot_score), cosine-similarity (util.cos_sim), euclidean distance  \n",
        "> Size: \t420 MB  \n",
        "> Training Data: \t1B+ training pairs. For details, see model card.  \n",
        "> Model Card: \thttps://huggingface.co/sentence-transformers/all-mpnet-base-v2\n",
        "\n",
        "**`multi-qa-mpnet-base-dot-v1`**\n",
        "> Description: \tThis model was tuned for semantic search: Given a query/question, if can find relevant passages. It was trained on a large and diverse set of (question, answer) pairs.  \n",
        "> Dimensions: \t768  \n",
        "> Suitable Score Functions: \tdot-product (util.dot_score)  \n",
        "> Size: \t420 MB  \n",
        "> Training Data: \t215M (question, answer) pairs from diverse sources.  \n",
        "> Model Card: \thttps://huggingface.co/sentence-transformers/multi-qa-mpnet-base-dot-v1\n",
        "\n",
        "**`all-distilroberta-v1`**\n",
        "> Description: \tAll-round model tuned for many use-cases. Trained on a large and diverse dataset of over 1 billion training pairs.  \n",
        "> Dimensions:\t768  \n",
        "> Suitable Score Functions:\tdot-product (util.dot_score), cosine-similarity (util.cos_sim), euclidean distance  \n",
        "> Size:\t290 MB  \n",
        "> Training Data:\t1B+ training pairs. For details, see model card.  \n",
        "> Model Card: \thttps://huggingface.co/sentence-transformers/all-distilroberta-v1\n",
        "\n",
        "**`all-MiniLM-L6-v2`**\n",
        "> Description: \tAll-round model tuned for many use-cases. Trained on a large and diverse dataset of over 1 billion training pairs.  \n",
        "> Dimensions: \t384  \n",
        "> Suitable Score Functions: \tdot-product (util.dot_score), cosine-similarity (util.cos_sim), euclidean distance  \n",
        "> Size: \t80 MB  \n",
        "> Training Data: \t1B+ training pairs. For details, see model card.  \n",
        "> Model Card: \thttps://huggingface.co/sentence-transformers/all-MiniLM-L6-v2\n",
        "\n",
        "\n",
        "**List of Pretrained models available:**\n",
        "```\n",
        "all-MiniLM-L12-v2\n",
        "multi-qa-distilbert-cos-v1\n",
        "multi-qa-MiniLM-L6-cos-v1\n",
        "multi-qa-MiniLM-L6-cos-v1\n",
        "paraphrase-multilingual-mpnet-base-v2\n",
        "paraphrase-albert-small-v2\n",
        "paraphrase-multilingual-MiniLM-L12-v2\n",
        "paraphrase-MiniLM-L3-v2\n",
        "distiluse-base-multilingual-cased-v1\n",
        "distiluse-base-multilingual-cased-v2\n",
        "```"
      ],
      "metadata": {
        "id": "ddY8KCz81gTm"
      }
    },
    {
      "cell_type": "code",
      "source": [
        "# Our sentences we like to encode\n",
        "sentences = ['This framework generates embeddings for each input sentence',\n",
        "    'Sentences are passed as a list of string.',\n",
        "    'The quick brown fox jumps over the lazy dog.']\n",
        "\n",
        "# Sentences are encoded by calling model.encode()\n",
        "embeddings = model.encode(sentences)\n",
        "\n",
        "# Print the embeddings\n",
        "for sentence, embedding in zip(sentences, embeddings):\n",
        "    print(\"Sentence:\", sentence)\n",
        "    print(\"Embedding:\", embedding)\n",
        "    print(\"\")"
      ],
      "metadata": {
        "colab": {
          "base_uri": "https://localhost:8080/"
        },
        "id": "kLGQ4MYATRv-",
        "outputId": "355153af-7908-438e-bc32-52ab09e739e9"
      },
      "execution_count": null,
      "outputs": [
        {
          "output_type": "stream",
          "name": "stdout",
          "text": [
            "Sentence: This framework generates embeddings for each input sentence\n",
            "Embedding: [-1.37173459e-02 -4.28515784e-02 -1.56286228e-02  1.40537489e-02\n",
            "  3.95537429e-02  1.21796295e-01  2.94333622e-02 -3.17523703e-02\n",
            "  3.54959816e-02 -7.93140233e-02  1.75878145e-02 -4.04369421e-02\n",
            "  4.97259460e-02  2.54912768e-02 -7.18699843e-02  8.14968199e-02\n",
            "  1.47071620e-03  4.79627550e-02 -4.50335853e-02 -9.92174968e-02\n",
            " -2.81769447e-02  6.45045787e-02  4.44670208e-02 -4.76217195e-02\n",
            " -3.52952555e-02  4.38671634e-02 -5.28566055e-02  4.33046836e-04\n",
            "  1.01921484e-01  1.64072271e-02  3.26996855e-02 -3.45987082e-02\n",
            "  1.21339522e-02  7.94871002e-02  4.58339835e-03  1.57778375e-02\n",
            " -9.68208350e-03  2.87626330e-02 -5.05806357e-02 -1.55794024e-02\n",
            " -2.87907030e-02 -9.62279178e-03  3.15556452e-02  2.27349512e-02\n",
            "  8.71449560e-02 -3.85027640e-02 -8.84719044e-02 -8.75496119e-03\n",
            " -2.12343279e-02  2.08924040e-02 -9.02078599e-02 -5.25732450e-02\n",
            " -1.05638755e-02  2.88311187e-02 -1.61454659e-02  6.17840141e-03\n",
            " -1.23234345e-02 -1.07337339e-02  2.83353664e-02 -5.28567731e-02\n",
            " -3.58618088e-02 -5.97989410e-02 -1.09055042e-02  2.91566513e-02\n",
            "  7.97979087e-02 -3.27878079e-04  6.83498476e-03  1.32718403e-02\n",
            " -4.24619839e-02  1.87656935e-02 -9.89234746e-02  2.09050104e-02\n",
            " -8.69605914e-02 -1.50152054e-02 -4.86202426e-02  8.04414824e-02\n",
            " -3.67701566e-03 -6.65044412e-02  1.14556760e-01 -3.04228812e-02\n",
            "  2.96631604e-02 -2.80694980e-02  4.64990512e-02 -2.25513894e-02\n",
            "  8.54223222e-02  3.15446816e-02  7.34542012e-02 -2.21861582e-02\n",
            " -5.29679023e-02  1.27130607e-02 -5.27339727e-02 -1.06188744e-01\n",
            "  7.04731792e-02  2.76736617e-02 -8.05531219e-02  2.39649694e-02\n",
            " -2.65124999e-02 -2.17331052e-02  4.35275473e-02  4.84712012e-02\n",
            " -2.37067044e-02  2.85768285e-02  1.11846134e-01 -6.34936169e-02\n",
            " -1.58318542e-02 -2.26169731e-02 -1.31028201e-02 -1.62071036e-03\n",
            " -3.60928774e-02 -9.78297070e-02 -4.67729419e-02  1.76272001e-02\n",
            " -3.97492088e-02 -1.76436442e-04  3.39627899e-02 -2.09633764e-02\n",
            "  6.33662194e-03 -2.59411614e-02  8.10411051e-02  6.14393093e-02\n",
            " -5.44598931e-03  6.48276284e-02 -1.16844051e-01  2.36860923e-02\n",
            " -1.32058561e-02 -1.12476408e-01  1.90049559e-02 -1.74659875e-34\n",
            "  5.58949634e-02  1.94244478e-02  4.65439036e-02  5.18645719e-02\n",
            "  3.89390178e-02  3.40540819e-02 -4.32114415e-02  7.90637732e-02\n",
            " -9.79530141e-02 -1.27441231e-02 -2.91870758e-02  1.02052251e-02\n",
            "  1.88115872e-02  1.08942516e-01  6.63465038e-02 -5.35295308e-02\n",
            " -3.29228938e-02  4.69826758e-02  2.28883009e-02  2.74114646e-02\n",
            " -2.91983355e-02  3.12706344e-02 -2.22850591e-02 -1.02282144e-01\n",
            " -2.79116724e-02  1.13793174e-02  9.06308889e-02 -4.75414507e-02\n",
            " -1.00718960e-01 -1.23232007e-02 -7.96928555e-02 -1.44636752e-02\n",
            " -7.76400715e-02 -7.66920159e-03  9.73956566e-03  2.24204678e-02\n",
            "  7.77267739e-02 -3.17154080e-03  2.11538319e-02 -3.30393910e-02\n",
            "  9.55248158e-03 -3.73012051e-02  2.61360332e-02 -9.79082752e-03\n",
            " -6.31505251e-02  5.77435642e-03 -3.80031168e-02  1.29684266e-02\n",
            " -1.82498731e-02 -1.56283118e-02 -1.23360287e-03  5.55579364e-02\n",
            "  1.13102571e-04 -5.61256818e-02  7.40165785e-02  1.84452143e-02\n",
            " -2.66368315e-02  1.31951943e-02  7.50086829e-02 -2.46797428e-02\n",
            " -3.24006192e-02 -1.57674868e-02 -8.03514384e-03 -5.61319897e-03\n",
            "  1.05687641e-02  3.26169329e-03 -3.91990021e-02 -9.38677192e-02\n",
            "  1.14227131e-01  6.57304749e-02 -4.72633317e-02  1.45087717e-02\n",
            " -3.54490317e-02 -3.37761380e-02 -5.15506044e-02 -3.80999059e-03\n",
            " -5.15036322e-02 -5.93429804e-02 -1.69413234e-03  7.42107257e-02\n",
            " -4.20091338e-02 -7.19975159e-02  3.17250118e-02 -1.66303497e-02\n",
            "  3.96983651e-03 -6.52750805e-02  2.77391169e-02 -7.51649588e-02\n",
            "  2.27456000e-02 -3.91368493e-02  1.54316043e-02 -5.54908551e-02\n",
            "  1.23318415e-02 -2.59520579e-02  6.66423663e-02 -6.91259325e-34\n",
            "  3.31628770e-02  8.47929120e-02 -6.65583983e-02  3.33541445e-02\n",
            "  4.71606292e-03  1.35361915e-02 -5.38694225e-02  9.20693949e-02\n",
            " -2.96876654e-02  3.16219553e-02 -2.37497557e-02  1.98771153e-02\n",
            "  1.03446200e-01 -9.06947330e-02  6.30628690e-03  1.42886220e-02\n",
            "  1.19293537e-02  6.43730117e-03  4.20104265e-02  1.25344768e-02\n",
            "  3.93019617e-02  5.35691455e-02 -4.30749767e-02  6.10432886e-02\n",
            " -5.39309949e-05  6.91682622e-02  1.05520645e-02  1.22111356e-02\n",
            " -7.23185614e-02  2.50469372e-02 -5.18371016e-02 -4.36562076e-02\n",
            " -6.71818405e-02  1.34828053e-02 -7.25888684e-02  7.04161916e-03\n",
            "  6.58939257e-02  1.08994171e-02 -2.60010548e-03  5.49969077e-02\n",
            "  5.06966859e-02  3.27948518e-02 -6.68833107e-02  6.45557120e-02\n",
            " -2.52076387e-02 -2.92571802e-02 -1.16696738e-01  3.24064530e-02\n",
            "  5.85858673e-02 -3.51756476e-02 -7.15240017e-02  2.24936008e-02\n",
            " -1.00786716e-01 -4.74544987e-02 -7.61962533e-02 -5.87166771e-02\n",
            "  4.21138331e-02 -7.47213811e-02  1.98468473e-02 -3.36504309e-03\n",
            " -5.29736616e-02  2.74729282e-02  3.45736779e-02 -6.11847006e-02\n",
            "  1.06364764e-01 -9.64120105e-02 -4.55945358e-02  1.51490085e-02\n",
            " -5.13531687e-03 -6.64447621e-02  4.31721210e-02 -1.10405628e-02\n",
            " -9.80254356e-03  7.53783137e-02 -1.49571002e-02 -4.80208471e-02\n",
            "  5.80726415e-02 -2.43896693e-02 -2.23137923e-02 -4.36992645e-02\n",
            "  5.12054525e-02 -3.28625552e-02  1.08763322e-01  6.08926006e-02\n",
            "  3.30792624e-03  5.53820245e-02  8.43200833e-02  1.27087096e-02\n",
            "  3.84465605e-02  6.52325675e-02 -2.94683855e-02  5.08005545e-02\n",
            " -2.09348164e-02  1.46135688e-01  2.25561988e-02 -1.77227761e-08\n",
            " -5.02672791e-02 -2.79187050e-04 -1.00328527e-01  2.42810994e-02\n",
            " -7.54043534e-02 -3.79139669e-02  3.96049730e-02  3.10080051e-02\n",
            " -9.05701797e-03 -6.50411621e-02  4.05453295e-02  4.83390242e-02\n",
            " -4.56962250e-02  4.76005254e-03  2.64363619e-03  9.35614258e-02\n",
            " -4.02599163e-02  3.27401981e-02  1.18298568e-02  5.54344654e-02\n",
            "  1.48052216e-01  7.21189529e-02  2.76966166e-04  1.68651231e-02\n",
            "  8.34881887e-03 -8.76154471e-03 -1.33649781e-02  6.14236705e-02\n",
            "  1.57168005e-02  6.94960952e-02  1.08621819e-02  6.08018450e-02\n",
            " -5.33421226e-02 -3.47924680e-02 -3.36272120e-02  6.93907067e-02\n",
            "  1.22987619e-02 -1.45237342e-01 -2.06972542e-03 -4.61132899e-02\n",
            "  3.72748030e-03 -5.59357880e-03 -1.00659832e-01 -4.45953272e-02\n",
            "  5.40921129e-02  4.98894369e-03  1.49534578e-02 -8.26059207e-02\n",
            "  6.26630560e-02 -5.01913484e-03 -4.81857844e-02 -3.53991352e-02\n",
            "  9.03386902e-03 -2.42337454e-02  5.66267259e-02  2.51528993e-02\n",
            " -1.70709398e-02 -1.24780079e-02  3.19518223e-02  1.38421003e-02\n",
            " -1.55814942e-02  1.00178301e-01  1.23657271e-01 -4.22966927e-02]\n",
            "\n",
            "Sentence: Sentences are passed as a list of string.\n",
            "Embedding: [ 5.64525053e-02  5.50023802e-02  3.13795991e-02  3.39485072e-02\n",
            " -3.54246944e-02  8.34667608e-02  9.88800749e-02  7.27545796e-03\n",
            " -6.68658828e-03 -7.65809650e-03  7.93738663e-02  7.39689567e-04\n",
            "  1.49292042e-02 -1.51046915e-02  3.67674753e-02  4.78743054e-02\n",
            " -4.81969714e-02 -3.76052186e-02 -4.60277945e-02 -8.89816210e-02\n",
            "  1.20228179e-01  1.30663291e-01 -3.73936333e-02  2.47852108e-03\n",
            "  2.55822157e-03  7.25814477e-02 -6.80436492e-02 -5.24696223e-02\n",
            "  4.90234420e-02  2.99563371e-02 -5.84429577e-02 -2.02263109e-02\n",
            "  2.08821911e-02  9.76691991e-02  3.52390260e-02  3.91141213e-02\n",
            "  1.05668018e-02  1.56230642e-03 -1.30822817e-02  8.52904562e-03\n",
            " -4.84095234e-03 -2.03766488e-02 -2.71801148e-02  2.83307340e-02\n",
            "  3.66017707e-02  2.51276437e-02 -9.90861952e-02  1.15626603e-02\n",
            " -3.60380597e-02 -7.23784044e-02 -1.12670109e-01  1.12942485e-02\n",
            " -3.86397392e-02  4.67386320e-02 -2.88460515e-02  2.26703994e-02\n",
            " -8.52404442e-03  3.32815051e-02 -1.06583117e-03 -7.09744990e-02\n",
            " -6.31170124e-02 -5.72186746e-02 -6.16026409e-02  5.47146536e-02\n",
            "  1.18317958e-02 -4.66261581e-02  2.56960150e-02 -7.07414700e-03\n",
            " -5.73842600e-02  4.12839353e-02 -5.91503642e-02  5.89021742e-02\n",
            " -4.41697463e-02  4.65081148e-02 -3.15814503e-02  5.58312312e-02\n",
            "  5.54578975e-02 -5.96533343e-02  4.06407602e-02  4.83767362e-03\n",
            " -4.96768355e-02 -1.00944303e-01  3.40078585e-02  4.13273042e-03\n",
            " -2.93531665e-03  2.11837776e-02 -3.73962000e-02 -2.79067084e-02\n",
            " -4.61767763e-02  5.26138768e-02 -2.79734954e-02 -1.62379310e-01\n",
            "  6.61042631e-02  1.72274522e-02 -5.45110833e-03  4.74473797e-02\n",
            " -3.82237546e-02 -3.96896899e-02  1.34544987e-02  4.49653678e-02\n",
            "  4.53672232e-03  2.82978546e-02  8.36633146e-02 -1.00858212e-02\n",
            " -1.19354039e-01 -3.84624563e-02  4.82858643e-02 -9.46084037e-02\n",
            "  1.91854220e-02 -9.96518433e-02 -6.30596951e-02  3.02696209e-02\n",
            "  1.17402319e-02 -4.78372648e-02 -6.20271312e-03 -3.32850851e-02\n",
            " -4.04391019e-03  1.28307082e-02  4.05254811e-02  7.56476894e-02\n",
            "  2.92435121e-02  2.84270607e-02 -2.78938152e-02  1.66858044e-02\n",
            " -2.47961562e-02 -6.83650970e-02  2.89968327e-02 -5.39867821e-33\n",
            " -2.69015529e-03 -2.65069008e-02 -6.47908135e-04 -8.46204069e-03\n",
            " -7.35154822e-02  4.94081993e-03 -5.97842000e-02  1.03438217e-02\n",
            "  2.12902017e-03 -2.88213044e-03 -3.17076594e-02 -9.42363590e-02\n",
            "  3.03019676e-02  7.00227171e-02  4.50685546e-02  3.69439460e-02\n",
            "  1.13593861e-02  3.53027061e-02  5.50451130e-03  1.34414656e-03\n",
            "  3.46120005e-03  7.75048062e-02  5.45112640e-02 -7.92055503e-02\n",
            " -9.31696668e-02 -4.03398611e-02  3.10668945e-02 -3.83081585e-02\n",
            " -5.89442849e-02  1.93331949e-02 -2.67159678e-02 -7.91938677e-02\n",
            "  1.04229934e-04  7.70621076e-02  4.16603871e-02  8.90932530e-02\n",
            "  3.56843136e-02 -1.09152962e-02  3.71498615e-02 -2.07070429e-02\n",
            " -2.46100575e-02 -2.05025673e-02  2.62201633e-02  3.43590453e-02\n",
            "  4.39251214e-02 -8.20516795e-03 -8.40710625e-02  4.24170941e-02\n",
            "  4.87498678e-02  5.95384575e-02  2.87747830e-02  3.37638296e-02\n",
            " -4.07442637e-02 -1.66369672e-03  7.91927502e-02  3.41088846e-02\n",
            " -5.72835503e-04  1.87749621e-02 -1.36964247e-02  7.38333166e-02\n",
            "  5.74459380e-04  8.33505169e-02  5.60811087e-02 -1.13710845e-02\n",
            "  4.42611314e-02  2.69581862e-02 -4.80536260e-02 -3.15087326e-02\n",
            "  7.75226131e-02  1.81773398e-02 -8.83005410e-02 -7.85518624e-03\n",
            " -6.22243173e-02  7.19372407e-02 -2.33474951e-02  6.52481755e-03\n",
            " -9.49527696e-03 -9.88313034e-02  4.01306376e-02  3.07396743e-02\n",
            " -2.21607126e-02 -9.45911258e-02  1.02367597e-02  1.02187738e-01\n",
            " -4.12960090e-02 -3.15778032e-02  4.74752076e-02 -1.10209838e-01\n",
            "  1.69614758e-02 -3.71709205e-02 -1.03262300e-02 -4.72538322e-02\n",
            " -1.20214196e-02 -1.93255208e-02  5.79292215e-02  4.23867192e-34\n",
            "  3.92013043e-02  8.41361433e-02 -1.02946728e-01  6.92259669e-02\n",
            "  1.68821048e-02 -3.26760747e-02  9.65959486e-03  1.80899482e-02\n",
            "  2.17939876e-02  1.63188968e-02 -9.69292223e-02  3.74851841e-03\n",
            " -2.38457229e-02 -3.44055817e-02  7.11962730e-02  9.21923609e-04\n",
            " -6.23861514e-03  3.23754326e-02 -8.90405849e-04  5.01907384e-03\n",
            " -4.24537770e-02  9.89083797e-02 -4.60321046e-02  4.69704643e-02\n",
            " -1.75284110e-02 -7.02517387e-03  1.32743912e-02 -5.30152246e-02\n",
            "  2.66404916e-03  1.45819159e-02  7.43344845e-03 -3.07131913e-02\n",
            " -2.09416393e-02  8.24110284e-02 -5.15894257e-02 -2.71178056e-02\n",
            "  1.17583029e-01  7.72505300e-03 -1.89523064e-02  3.94559167e-02\n",
            "  7.17360154e-02  2.59117223e-02  2.75191888e-02  9.50539578e-03\n",
            " -3.02355383e-02 -4.07944657e-02 -1.04028486e-01 -7.97419250e-03\n",
            " -3.64455208e-03  3.29716131e-02 -2.35954281e-02 -7.50518823e-03\n",
            " -5.82233928e-02 -3.17905992e-02 -4.18048874e-02  2.17453614e-02\n",
            " -6.67292476e-02 -4.89104316e-02  4.58516320e-03 -2.66046505e-02\n",
            " -1.12597041e-01  5.11167087e-02  5.48533909e-02 -6.69856817e-02\n",
            "  1.26766279e-01 -8.59487802e-02 -5.94231598e-02 -2.92191608e-03\n",
            " -1.14875790e-02 -1.26025856e-01 -3.48279509e-03 -9.12001878e-02\n",
            " -1.22933082e-01  1.33777373e-02 -4.75775599e-02 -6.57932982e-02\n",
            " -3.39410082e-02 -3.07107903e-02 -5.22034280e-02 -2.35463846e-02\n",
            "  5.90035245e-02 -3.85758094e-02  3.19701023e-02  4.05118391e-02\n",
            "  1.67077705e-02 -3.58281322e-02  1.45688057e-02  3.20138000e-02\n",
            " -1.34843793e-02  6.07819781e-02 -8.31399672e-03 -1.08105764e-02\n",
            "  4.69410829e-02  7.66134039e-02 -4.23400030e-02 -2.11963336e-08\n",
            " -7.25292787e-02 -4.20227572e-02 -6.12374209e-02  5.24666272e-02\n",
            " -1.42363664e-02  1.18487198e-02 -1.40788788e-02 -3.67529988e-02\n",
            " -4.44977470e-02 -1.15140676e-02  5.23317009e-02  2.96652336e-02\n",
            " -4.62780558e-02 -3.70892808e-02  1.89129878e-02  2.04307716e-02\n",
            " -2.24006046e-02 -1.48562696e-02 -1.79504100e-02  4.20007780e-02\n",
            "  1.40942270e-02 -2.83492748e-02 -1.16863027e-01  1.48956822e-02\n",
            " -7.30602245e-04  5.66028357e-02 -2.68740077e-02  1.09106690e-01\n",
            "  2.94563710e-03  1.19267896e-01  1.14212438e-01  8.92973915e-02\n",
            " -1.70255359e-02 -4.99054044e-02 -2.11930852e-02  3.18421535e-02\n",
            "  7.03435689e-02 -1.02929421e-01  8.23816881e-02  2.81968247e-02\n",
            "  3.21146473e-02  3.79108265e-02 -1.09553099e-01  8.19620267e-02\n",
            "  8.73216465e-02 -5.73563650e-02 -2.01709028e-02 -5.69444001e-02\n",
            " -1.30338455e-02 -5.55684678e-02 -1.32966638e-02  8.64013657e-03\n",
            "  5.30012064e-02 -4.06846888e-02  2.71708909e-02 -2.55945884e-03\n",
            "  3.05775534e-02 -4.61865403e-02  4.68032202e-03 -3.64947058e-02\n",
            "  6.80802464e-02  6.65087551e-02  8.49152282e-02 -3.32849361e-02]\n",
            "\n",
            "Sentence: The quick brown fox jumps over the lazy dog.\n",
            "Embedding: [ 4.39335257e-02  5.89343905e-02  4.81783636e-02  7.75481239e-02\n",
            "  2.67444085e-02 -3.76295783e-02 -2.60512065e-03 -5.99430203e-02\n",
            " -2.49603251e-03  2.20728368e-02  4.80259471e-02  5.57553023e-02\n",
            " -3.89454067e-02 -2.66168006e-02  7.69337267e-03 -2.62376126e-02\n",
            " -3.64160687e-02 -3.78161110e-02  7.40781650e-02 -4.95050475e-02\n",
            " -5.85217103e-02 -6.36196882e-02  3.24350186e-02  2.20085438e-02\n",
            " -7.10637793e-02 -3.31578068e-02 -6.94103986e-02 -5.00374287e-02\n",
            "  7.46267959e-02 -1.11133784e-01 -1.23063428e-02  3.77456173e-02\n",
            " -2.80313175e-02  1.45353442e-02 -3.15585397e-02 -8.05836543e-02\n",
            "  5.83525896e-02  2.59008096e-03  3.92802469e-02  2.57695802e-02\n",
            "  4.98505943e-02 -1.75625354e-03 -4.55298051e-02  2.92607564e-02\n",
            " -1.02017239e-01  5.22287562e-02 -7.90899619e-02 -1.02857091e-02\n",
            "  9.20248032e-03  1.30732562e-02 -4.04777452e-02 -2.77924929e-02\n",
            "  1.24667576e-02  6.72832876e-02  6.81248382e-02 -7.57122599e-03\n",
            " -6.09945785e-03 -4.23776992e-02  5.17815836e-02 -1.56707354e-02\n",
            "  9.56359599e-03  4.12390344e-02  2.14959159e-02  1.04293302e-02\n",
            "  2.73349527e-02  1.87062658e-02 -2.69607399e-02 -7.00541884e-02\n",
            " -1.04700461e-01 -1.89881108e-03  1.77016836e-02 -5.74725457e-02\n",
            " -1.44223031e-02  4.70492058e-04  2.33225059e-03 -2.51920521e-02\n",
            "  4.93004397e-02 -5.09609692e-02  6.31982833e-02  1.49165010e-02\n",
            " -2.70766616e-02 -4.52875905e-02 -4.90593947e-02  3.74940857e-02\n",
            "  3.84579636e-02  1.56903174e-03  3.09922434e-02  2.01630648e-02\n",
            " -1.24363611e-02 -3.06720007e-02 -2.78819297e-02 -6.89182580e-02\n",
            " -5.13677672e-02  2.14795414e-02  1.15746921e-02  1.25408219e-03\n",
            "  1.88765824e-02 -4.42318954e-02 -4.49817479e-02 -3.41868214e-03\n",
            "  1.31131476e-02  2.00099275e-02  1.21099792e-01  2.31074858e-02\n",
            " -2.20159702e-02 -3.28846760e-02 -3.15511995e-03  1.17797921e-04\n",
            "  9.91498232e-02  1.65239163e-02 -4.69668582e-03 -1.45366574e-02\n",
            " -3.71075375e-03  9.65136364e-02  2.85908300e-02  2.13481691e-02\n",
            " -7.17645139e-02 -2.41142102e-02 -4.40940596e-02 -1.07346907e-01\n",
            "  6.79945350e-02  1.30466819e-01 -7.97029510e-02  6.79507665e-03\n",
            " -2.37511825e-02 -4.61636484e-02 -2.99650412e-02 -3.69410083e-33\n",
            "  7.30969533e-02 -2.20172051e-02 -8.61464292e-02 -7.14379326e-02\n",
            " -6.36741370e-02 -7.21863136e-02 -5.93041768e-03 -2.33641695e-02\n",
            " -2.83658374e-02  4.77434956e-02 -8.06176737e-02 -1.56481448e-03\n",
            "  1.38443904e-02 -2.86236070e-02 -3.35386954e-02 -1.13777541e-01\n",
            " -9.17635951e-03 -1.08100967e-02  3.23196091e-02  5.88380210e-02\n",
            "  3.34208757e-02  1.07987933e-01 -3.72713171e-02 -2.96770465e-02\n",
            "  5.17189503e-02 -2.25338582e-02 -6.96091056e-02 -2.14475244e-02\n",
            " -2.33410504e-02  4.82199714e-02 -3.58766355e-02 -4.68990840e-02\n",
            " -3.97873372e-02  1.10813238e-01 -1.43007264e-02 -1.18464470e-01\n",
            "  5.82915395e-02 -6.25889152e-02 -2.94040702e-02  6.03238456e-02\n",
            " -2.44417787e-03  1.60116386e-02  2.67233383e-02  2.49530654e-02\n",
            " -6.49319291e-02 -1.06802518e-02  2.81464681e-02  1.03563350e-02\n",
            " -6.63588638e-04  1.98186133e-02 -3.04288249e-02  6.28420012e-03\n",
            "  5.15268482e-02 -4.75375690e-02 -6.44421130e-02  9.55032110e-02\n",
            "  7.55858645e-02 -2.81574689e-02 -3.49965766e-02  1.01816453e-01\n",
            "  1.98732298e-02 -3.68036702e-02  2.93518440e-03 -5.00745252e-02\n",
            "  1.50932103e-01 -6.16079457e-02 -8.58812630e-02  7.13993050e-03\n",
            " -1.33065553e-02  7.80404434e-02  1.75250471e-02  4.21279483e-02\n",
            "  3.57939936e-02 -1.32950410e-01  3.56970057e-02 -2.03116797e-02\n",
            "  1.24910111e-02 -3.80355269e-02  4.91543673e-02 -1.56540871e-02\n",
            "  1.21418238e-01 -8.08644667e-02 -4.68781590e-02  4.10843045e-02\n",
            " -1.84317958e-02  6.69691265e-02  4.33591427e-03  2.27315389e-02\n",
            " -1.36429099e-02 -4.53238338e-02 -3.92829962e-02 -6.29891548e-03\n",
            "  5.29609770e-02 -3.69064957e-02  7.11677223e-02  2.33343324e-33\n",
            "  1.05231375e-01 -4.81874049e-02  6.95918724e-02  6.56976402e-02\n",
            " -4.65149246e-02  5.14492393e-02 -1.24475360e-02  3.20872031e-02\n",
            " -9.23356339e-02  5.00932708e-02 -3.28876153e-02  1.39139118e-02\n",
            " -8.70197429e-04 -4.90904087e-03  1.03946418e-01  3.21636762e-04\n",
            "  5.28109893e-02 -1.17990104e-02  2.31565107e-02  1.31767886e-02\n",
            " -5.25962822e-02  3.26701999e-02  3.08714982e-04  6.41129017e-02\n",
            "  3.88500318e-02  5.88008501e-02  8.29793215e-02 -1.88149437e-02\n",
            " -2.26376839e-02 -1.00473642e-01 -3.83752249e-02 -5.88081442e-02\n",
            "  1.82420574e-03 -4.26995158e-02  2.50195190e-02  6.40059710e-02\n",
            " -3.77482958e-02 -6.83900621e-03 -2.54605035e-03 -9.76042598e-02\n",
            "  1.88476034e-02 -8.83187749e-04  1.73611883e-02  7.10790381e-02\n",
            "  3.30393203e-02  6.93424791e-03 -5.60523383e-02  5.14634326e-02\n",
            " -4.29541990e-02  4.60076742e-02 -8.78834352e-03  3.17288712e-02\n",
            "  4.93965298e-02  2.95190178e-02 -5.05192392e-02 -5.43187223e-02\n",
            "  1.49959465e-04 -2.76614539e-02  3.46877910e-02 -2.10889969e-02\n",
            "  1.38060376e-02  2.99886540e-02  1.39744561e-02 -4.26467927e-03\n",
            " -1.50337238e-02 -8.76095220e-02 -6.85053840e-02 -4.28141654e-02\n",
            "  7.76944682e-02 -7.10285306e-02 -7.37691019e-03  2.13727225e-02\n",
            "  1.35562290e-02 -7.90465027e-02  5.47666848e-03  8.30663592e-02\n",
            "  1.14148006e-01  1.80765218e-03  8.75491425e-02 -4.16045003e-02\n",
            "  1.55416485e-02 -1.01206396e-02 -7.32437056e-03  1.07966037e-02\n",
            " -6.62816986e-02  3.98413725e-02 -1.16711557e-01  6.42993748e-02\n",
            "  4.02920246e-02 -6.54741600e-02  1.95052605e-02  8.09995681e-02\n",
            "  5.36463186e-02  7.67969340e-02 -1.34852314e-02 -1.76919048e-08\n",
            " -4.43935134e-02  9.20645241e-03 -8.79589990e-02  4.26921435e-02\n",
            "  7.31364712e-02  1.68427378e-02 -4.03262861e-02  1.85131226e-02\n",
            "  8.44172463e-02 -3.74477170e-02  3.02996039e-02  2.90641580e-02\n",
            "  6.36878759e-02  2.89749950e-02 -1.47269974e-02  1.77542511e-02\n",
            " -3.36895473e-02  1.73161216e-02  3.37875262e-02  1.76826075e-01\n",
            " -1.75533500e-02 -6.03077821e-02 -1.43394666e-02 -2.38536373e-02\n",
            " -4.45530415e-02 -2.89850403e-02 -8.96776691e-02 -1.75938651e-03\n",
            " -2.61485819e-02  5.93995396e-03 -5.18355146e-02  8.57279673e-02\n",
            " -8.18398967e-02  8.35439563e-03  4.00790200e-02  4.17764373e-02\n",
            "  1.04573555e-01 -2.86563602e-03  1.96690876e-02  5.81051037e-03\n",
            "  1.33253364e-02  4.51000705e-02 -2.17588320e-02 -1.39493095e-02\n",
            " -6.86992332e-02 -2.94111995e-03 -3.10764983e-02 -1.05854407e-01\n",
            "  6.91623613e-02 -4.24114875e-02 -4.67682332e-02 -3.64751033e-02\n",
            "  4.50399965e-02  6.09817021e-02 -6.56561628e-02 -5.45642292e-03\n",
            " -1.86227094e-02 -6.31484315e-02 -3.87437008e-02  3.46733704e-02\n",
            "  5.55457994e-02  5.21628186e-02  5.61065339e-02  1.02063946e-01]\n",
            "\n"
          ]
        }
      ]
    },
    {
      "cell_type": "code",
      "source": [
        "embeddings.shape"
      ],
      "metadata": {
        "colab": {
          "base_uri": "https://localhost:8080/"
        },
        "id": "OkJALb9qTSpI",
        "outputId": "027096bb-acd8-4b41-d77b-ac04e4207829"
      },
      "execution_count": null,
      "outputs": [
        {
          "output_type": "execute_result",
          "data": {
            "text/plain": [
              "(3, 384)"
            ]
          },
          "metadata": {},
          "execution_count": 83
        }
      ]
    },
    {
      "cell_type": "code",
      "source": [
        "emb1 = model.encode(\"I am eating Mango\")\n",
        "emb2 = model.encode(\"I like fruits\")\n",
        "emb3 = model.encode(\"I work at Microsoft\")\n",
        "cos_sim_12 = util.cos_sim(emb1, emb2)\n",
        "cos_sim_13 = util.cos_sim(emb1, emb3)\n",
        "print(\"Cosine-Similarity between 1 and 2:\", cos_sim_12)\n",
        "print(\"Cosine-Similarity between 1 and 3:\", cos_sim_13)"
      ],
      "metadata": {
        "colab": {
          "base_uri": "https://localhost:8080/"
        },
        "id": "wCg6DkcUTSml",
        "outputId": "b5edf057-2d15-4524-b95f-9007c9e01de8"
      },
      "execution_count": null,
      "outputs": [
        {
          "output_type": "stream",
          "name": "stdout",
          "text": [
            "Cosine-Similarity between 1 and 2: tensor([[0.4914]])\n",
            "Cosine-Similarity between 1 and 3: tensor([[0.1904]])\n"
          ]
        }
      ]
    },
    {
      "cell_type": "code",
      "source": [
        "sentences = ['A man is eating food.',\n",
        "          'A man is eating a piece of bread.',\n",
        "          'The girl is carrying a baby.',\n",
        "          'A man is riding a horse.',\n",
        "          'A woman is playing violin.',\n",
        "          'Two men pushed carts through the woods.',\n",
        "          'A man is riding a white horse on an enclosed ground.',\n",
        "          'A monkey is playing drums.',\n",
        "          'Someone in a gorilla costume is playing a set of drums.'\n",
        "          ]\n",
        "\n",
        "#Encode all sentences\n",
        "embeddings = model.encode(sentences)\n",
        "\n",
        "#Compute cosine similarity between all pairs\n",
        "cos_sim = util.cos_sim(embeddings, embeddings)\n",
        "\n",
        "cos_sim"
      ],
      "metadata": {
        "id": "p06Jrk6tTSju",
        "colab": {
          "base_uri": "https://localhost:8080/"
        },
        "outputId": "5e9a9d18-247f-4a2f-ea43-6edc102fdf4e"
      },
      "execution_count": null,
      "outputs": [
        {
          "output_type": "execute_result",
          "data": {
            "text/plain": [
              "tensor([[ 1.0000,  0.7553, -0.1050,  0.2474, -0.0704, -0.0333,  0.1707,  0.0476,\n",
              "          0.0630],\n",
              "        [ 0.7553,  1.0000, -0.0610,  0.1442, -0.0809, -0.0216,  0.1157,  0.0362,\n",
              "          0.0216],\n",
              "        [-0.1050, -0.0610,  1.0000, -0.1088,  0.0217, -0.0413, -0.0928,  0.0231,\n",
              "          0.0247],\n",
              "        [ 0.2474,  0.1442, -0.1088,  1.0000, -0.0348,  0.0362,  0.7369,  0.0821,\n",
              "          0.1389],\n",
              "        [-0.0704, -0.0809,  0.0217, -0.0348,  1.0000, -0.1654, -0.0592,  0.1961,\n",
              "          0.2564],\n",
              "        [-0.0333, -0.0216, -0.0413,  0.0362, -0.1654,  1.0000,  0.0769, -0.0380,\n",
              "         -0.0895],\n",
              "        [ 0.1707,  0.1157, -0.0928,  0.7369, -0.0592,  0.0769,  1.0000,  0.0495,\n",
              "          0.1191],\n",
              "        [ 0.0476,  0.0362,  0.0231,  0.0821,  0.1961, -0.0380,  0.0495,  1.0000,\n",
              "          0.6433],\n",
              "        [ 0.0630,  0.0216,  0.0247,  0.1389,  0.2564, -0.0895,  0.1191,  0.6433,\n",
              "          1.0000]])"
            ]
          },
          "metadata": {},
          "execution_count": 87
        }
      ]
    },
    {
      "cell_type": "code",
      "source": [
        "df.head()"
      ],
      "metadata": {
        "id": "ulg495lJTSTW",
        "colab": {
          "base_uri": "https://localhost:8080/",
          "height": 447
        },
        "outputId": "dab52a9d-f35c-44b2-cc66-63205ad80fb6"
      },
      "execution_count": null,
      "outputs": [
        {
          "output_type": "execute_result",
          "data": {
            "text/plain": [
              "                            text clean_text_stem  text_length_stem  \\\n",
              "0     it Was the best oF Times $       best time                 2   \n",
              "1     It was The worst of times.      worst time                 2   \n",
              "2     IT 9 was tHe age Of wisdom      age wisdom                 2   \n",
              "3  it was thE age of foolishness     age foolish                 2   \n",
              "\n",
              "  clean_text_lemma  text_length_lemma tokenised_sentences  \\\n",
              "0        best time                  2        [best, time]   \n",
              "1       worst time                  2       [worst, time]   \n",
              "2       age wisdom                  2       [age, wisdom]   \n",
              "3  age foolishness                  2      [age, foolish]   \n",
              "\n",
              "                                      doc_vector_w2v  \\\n",
              "0  [-0.008673586, 0.0028979492, 0.0021581696, -0....   \n",
              "1  [-0.007879351, 0.0024533845, -0.0009934164, 0....   \n",
              "2  [-0.004389453, 0.0047678924, 0.0024528443, 0.0...   \n",
              "3  [-0.00022083164, 0.0016568744, -0.0008546484, ...   \n",
              "\n",
              "                         doc_vector_pretrained_glove  \n",
              "0  [0.432825, 0.1588, 0.39231, -0.493835, 0.00431...  \n",
              "1  [0.73222, 0.23221499, 0.29085773, -0.31792, -0...  \n",
              "2  [-0.045359, -0.66945, -0.33981, 0.167995, 0.70...  \n",
              "3  [0.027362999, -0.08074499, -0.37674, 0.773955,...  "
            ],
            "text/html": [
              "\n",
              "  <div id=\"df-705943e4-d894-462c-9faa-73e37fdb3043\">\n",
              "    <div class=\"colab-df-container\">\n",
              "      <div>\n",
              "<style scoped>\n",
              "    .dataframe tbody tr th:only-of-type {\n",
              "        vertical-align: middle;\n",
              "    }\n",
              "\n",
              "    .dataframe tbody tr th {\n",
              "        vertical-align: top;\n",
              "    }\n",
              "\n",
              "    .dataframe thead th {\n",
              "        text-align: right;\n",
              "    }\n",
              "</style>\n",
              "<table border=\"1\" class=\"dataframe\">\n",
              "  <thead>\n",
              "    <tr style=\"text-align: right;\">\n",
              "      <th></th>\n",
              "      <th>text</th>\n",
              "      <th>clean_text_stem</th>\n",
              "      <th>text_length_stem</th>\n",
              "      <th>clean_text_lemma</th>\n",
              "      <th>text_length_lemma</th>\n",
              "      <th>tokenised_sentences</th>\n",
              "      <th>doc_vector_w2v</th>\n",
              "      <th>doc_vector_pretrained_glove</th>\n",
              "    </tr>\n",
              "  </thead>\n",
              "  <tbody>\n",
              "    <tr>\n",
              "      <th>0</th>\n",
              "      <td>it Was the best oF Times $</td>\n",
              "      <td>best time</td>\n",
              "      <td>2</td>\n",
              "      <td>best time</td>\n",
              "      <td>2</td>\n",
              "      <td>[best, time]</td>\n",
              "      <td>[-0.008673586, 0.0028979492, 0.0021581696, -0....</td>\n",
              "      <td>[0.432825, 0.1588, 0.39231, -0.493835, 0.00431...</td>\n",
              "    </tr>\n",
              "    <tr>\n",
              "      <th>1</th>\n",
              "      <td>It was The worst of times.</td>\n",
              "      <td>worst time</td>\n",
              "      <td>2</td>\n",
              "      <td>worst time</td>\n",
              "      <td>2</td>\n",
              "      <td>[worst, time]</td>\n",
              "      <td>[-0.007879351, 0.0024533845, -0.0009934164, 0....</td>\n",
              "      <td>[0.73222, 0.23221499, 0.29085773, -0.31792, -0...</td>\n",
              "    </tr>\n",
              "    <tr>\n",
              "      <th>2</th>\n",
              "      <td>IT 9 was tHe age Of wisdom</td>\n",
              "      <td>age wisdom</td>\n",
              "      <td>2</td>\n",
              "      <td>age wisdom</td>\n",
              "      <td>2</td>\n",
              "      <td>[age, wisdom]</td>\n",
              "      <td>[-0.004389453, 0.0047678924, 0.0024528443, 0.0...</td>\n",
              "      <td>[-0.045359, -0.66945, -0.33981, 0.167995, 0.70...</td>\n",
              "    </tr>\n",
              "    <tr>\n",
              "      <th>3</th>\n",
              "      <td>it was thE age of foolishness</td>\n",
              "      <td>age foolish</td>\n",
              "      <td>2</td>\n",
              "      <td>age foolishness</td>\n",
              "      <td>2</td>\n",
              "      <td>[age, foolish]</td>\n",
              "      <td>[-0.00022083164, 0.0016568744, -0.0008546484, ...</td>\n",
              "      <td>[0.027362999, -0.08074499, -0.37674, 0.773955,...</td>\n",
              "    </tr>\n",
              "  </tbody>\n",
              "</table>\n",
              "</div>\n",
              "      <button class=\"colab-df-convert\" onclick=\"convertToInteractive('df-705943e4-d894-462c-9faa-73e37fdb3043')\"\n",
              "              title=\"Convert this dataframe to an interactive table.\"\n",
              "              style=\"display:none;\">\n",
              "        \n",
              "  <svg xmlns=\"http://www.w3.org/2000/svg\" height=\"24px\"viewBox=\"0 0 24 24\"\n",
              "       width=\"24px\">\n",
              "    <path d=\"M0 0h24v24H0V0z\" fill=\"none\"/>\n",
              "    <path d=\"M18.56 5.44l.94 2.06.94-2.06 2.06-.94-2.06-.94-.94-2.06-.94 2.06-2.06.94zm-11 1L8.5 8.5l.94-2.06 2.06-.94-2.06-.94L8.5 2.5l-.94 2.06-2.06.94zm10 10l.94 2.06.94-2.06 2.06-.94-2.06-.94-.94-2.06-.94 2.06-2.06.94z\"/><path d=\"M17.41 7.96l-1.37-1.37c-.4-.4-.92-.59-1.43-.59-.52 0-1.04.2-1.43.59L10.3 9.45l-7.72 7.72c-.78.78-.78 2.05 0 2.83L4 21.41c.39.39.9.59 1.41.59.51 0 1.02-.2 1.41-.59l7.78-7.78 2.81-2.81c.8-.78.8-2.07 0-2.86zM5.41 20L4 18.59l7.72-7.72 1.47 1.35L5.41 20z\"/>\n",
              "  </svg>\n",
              "      </button>\n",
              "      \n",
              "  <style>\n",
              "    .colab-df-container {\n",
              "      display:flex;\n",
              "      flex-wrap:wrap;\n",
              "      gap: 12px;\n",
              "    }\n",
              "\n",
              "    .colab-df-convert {\n",
              "      background-color: #E8F0FE;\n",
              "      border: none;\n",
              "      border-radius: 50%;\n",
              "      cursor: pointer;\n",
              "      display: none;\n",
              "      fill: #1967D2;\n",
              "      height: 32px;\n",
              "      padding: 0 0 0 0;\n",
              "      width: 32px;\n",
              "    }\n",
              "\n",
              "    .colab-df-convert:hover {\n",
              "      background-color: #E2EBFA;\n",
              "      box-shadow: 0px 1px 2px rgba(60, 64, 67, 0.3), 0px 1px 3px 1px rgba(60, 64, 67, 0.15);\n",
              "      fill: #174EA6;\n",
              "    }\n",
              "\n",
              "    [theme=dark] .colab-df-convert {\n",
              "      background-color: #3B4455;\n",
              "      fill: #D2E3FC;\n",
              "    }\n",
              "\n",
              "    [theme=dark] .colab-df-convert:hover {\n",
              "      background-color: #434B5C;\n",
              "      box-shadow: 0px 1px 3px 1px rgba(0, 0, 0, 0.15);\n",
              "      filter: drop-shadow(0px 1px 2px rgba(0, 0, 0, 0.3));\n",
              "      fill: #FFFFFF;\n",
              "    }\n",
              "  </style>\n",
              "\n",
              "      <script>\n",
              "        const buttonEl =\n",
              "          document.querySelector('#df-705943e4-d894-462c-9faa-73e37fdb3043 button.colab-df-convert');\n",
              "        buttonEl.style.display =\n",
              "          google.colab.kernel.accessAllowed ? 'block' : 'none';\n",
              "\n",
              "        async function convertToInteractive(key) {\n",
              "          const element = document.querySelector('#df-705943e4-d894-462c-9faa-73e37fdb3043');\n",
              "          const dataTable =\n",
              "            await google.colab.kernel.invokeFunction('convertToInteractive',\n",
              "                                                     [key], {});\n",
              "          if (!dataTable) return;\n",
              "\n",
              "          const docLinkHtml = 'Like what you see? Visit the ' +\n",
              "            '<a target=\"_blank\" href=https://colab.research.google.com/notebooks/data_table.ipynb>data table notebook</a>'\n",
              "            + ' to learn more about interactive tables.';\n",
              "          element.innerHTML = '';\n",
              "          dataTable['output_type'] = 'display_data';\n",
              "          await google.colab.output.renderOutput(dataTable, element);\n",
              "          const docLink = document.createElement('div');\n",
              "          docLink.innerHTML = docLinkHtml;\n",
              "          element.appendChild(docLink);\n",
              "        }\n",
              "      </script>\n",
              "    </div>\n",
              "  </div>\n",
              "  "
            ]
          },
          "metadata": {},
          "execution_count": 88
        }
      ]
    },
    {
      "cell_type": "code",
      "source": [
        "df['doc_vector_pretrained_bert'] = df['clean_text_lemma'].apply(model.encode)"
      ],
      "metadata": {
        "id": "nB4JUTozTRtW"
      },
      "execution_count": null,
      "outputs": []
    },
    {
      "cell_type": "code",
      "source": [
        "df.head()"
      ],
      "metadata": {
        "id": "AUujcYXcTRqt",
        "colab": {
          "base_uri": "https://localhost:8080/",
          "height": 447
        },
        "outputId": "86eb10b0-3827-4368-fe97-bb4198e2bd3a"
      },
      "execution_count": null,
      "outputs": [
        {
          "output_type": "execute_result",
          "data": {
            "text/plain": [
              "                            text clean_text_stem  text_length_stem  \\\n",
              "0     it Was the best oF Times $       best time                 2   \n",
              "1     It was The worst of times.      worst time                 2   \n",
              "2     IT 9 was tHe age Of wisdom      age wisdom                 2   \n",
              "3  it was thE age of foolishness     age foolish                 2   \n",
              "\n",
              "  clean_text_lemma  text_length_lemma tokenised_sentences  \\\n",
              "0        best time                  2        [best, time]   \n",
              "1       worst time                  2       [worst, time]   \n",
              "2       age wisdom                  2       [age, wisdom]   \n",
              "3  age foolishness                  2      [age, foolish]   \n",
              "\n",
              "                                      doc_vector_w2v  \\\n",
              "0  [-0.008673586, 0.0028979492, 0.0021581696, -0....   \n",
              "1  [-0.007879351, 0.0024533845, -0.0009934164, 0....   \n",
              "2  [-0.004389453, 0.0047678924, 0.0024528443, 0.0...   \n",
              "3  [-0.00022083164, 0.0016568744, -0.0008546484, ...   \n",
              "\n",
              "                         doc_vector_pretrained_glove  \\\n",
              "0  [0.432825, 0.1588, 0.39231, -0.493835, 0.00431...   \n",
              "1  [0.73222, 0.23221499, 0.29085773, -0.31792, -0...   \n",
              "2  [-0.045359, -0.66945, -0.33981, 0.167995, 0.70...   \n",
              "3  [0.027362999, -0.08074499, -0.37674, 0.773955,...   \n",
              "\n",
              "                          doc_vector_pretrained_bert  \n",
              "0  [-0.092428125, 0.032537494, -0.018796382, -0.0...  \n",
              "1  [-0.07362392, 0.075362146, 0.0055896835, 0.031...  \n",
              "2  [0.02470784, 0.1416704, 0.012471477, 0.0638837...  \n",
              "3  [0.054718725, 0.13996214, 0.058517683, -0.0033...  "
            ],
            "text/html": [
              "\n",
              "  <div id=\"df-15e433d7-4302-4a37-9595-1e6186ecb2fd\">\n",
              "    <div class=\"colab-df-container\">\n",
              "      <div>\n",
              "<style scoped>\n",
              "    .dataframe tbody tr th:only-of-type {\n",
              "        vertical-align: middle;\n",
              "    }\n",
              "\n",
              "    .dataframe tbody tr th {\n",
              "        vertical-align: top;\n",
              "    }\n",
              "\n",
              "    .dataframe thead th {\n",
              "        text-align: right;\n",
              "    }\n",
              "</style>\n",
              "<table border=\"1\" class=\"dataframe\">\n",
              "  <thead>\n",
              "    <tr style=\"text-align: right;\">\n",
              "      <th></th>\n",
              "      <th>text</th>\n",
              "      <th>clean_text_stem</th>\n",
              "      <th>text_length_stem</th>\n",
              "      <th>clean_text_lemma</th>\n",
              "      <th>text_length_lemma</th>\n",
              "      <th>tokenised_sentences</th>\n",
              "      <th>doc_vector_w2v</th>\n",
              "      <th>doc_vector_pretrained_glove</th>\n",
              "      <th>doc_vector_pretrained_bert</th>\n",
              "    </tr>\n",
              "  </thead>\n",
              "  <tbody>\n",
              "    <tr>\n",
              "      <th>0</th>\n",
              "      <td>it Was the best oF Times $</td>\n",
              "      <td>best time</td>\n",
              "      <td>2</td>\n",
              "      <td>best time</td>\n",
              "      <td>2</td>\n",
              "      <td>[best, time]</td>\n",
              "      <td>[-0.008673586, 0.0028979492, 0.0021581696, -0....</td>\n",
              "      <td>[0.432825, 0.1588, 0.39231, -0.493835, 0.00431...</td>\n",
              "      <td>[-0.092428125, 0.032537494, -0.018796382, -0.0...</td>\n",
              "    </tr>\n",
              "    <tr>\n",
              "      <th>1</th>\n",
              "      <td>It was The worst of times.</td>\n",
              "      <td>worst time</td>\n",
              "      <td>2</td>\n",
              "      <td>worst time</td>\n",
              "      <td>2</td>\n",
              "      <td>[worst, time]</td>\n",
              "      <td>[-0.007879351, 0.0024533845, -0.0009934164, 0....</td>\n",
              "      <td>[0.73222, 0.23221499, 0.29085773, -0.31792, -0...</td>\n",
              "      <td>[-0.07362392, 0.075362146, 0.0055896835, 0.031...</td>\n",
              "    </tr>\n",
              "    <tr>\n",
              "      <th>2</th>\n",
              "      <td>IT 9 was tHe age Of wisdom</td>\n",
              "      <td>age wisdom</td>\n",
              "      <td>2</td>\n",
              "      <td>age wisdom</td>\n",
              "      <td>2</td>\n",
              "      <td>[age, wisdom]</td>\n",
              "      <td>[-0.004389453, 0.0047678924, 0.0024528443, 0.0...</td>\n",
              "      <td>[-0.045359, -0.66945, -0.33981, 0.167995, 0.70...</td>\n",
              "      <td>[0.02470784, 0.1416704, 0.012471477, 0.0638837...</td>\n",
              "    </tr>\n",
              "    <tr>\n",
              "      <th>3</th>\n",
              "      <td>it was thE age of foolishness</td>\n",
              "      <td>age foolish</td>\n",
              "      <td>2</td>\n",
              "      <td>age foolishness</td>\n",
              "      <td>2</td>\n",
              "      <td>[age, foolish]</td>\n",
              "      <td>[-0.00022083164, 0.0016568744, -0.0008546484, ...</td>\n",
              "      <td>[0.027362999, -0.08074499, -0.37674, 0.773955,...</td>\n",
              "      <td>[0.054718725, 0.13996214, 0.058517683, -0.0033...</td>\n",
              "    </tr>\n",
              "  </tbody>\n",
              "</table>\n",
              "</div>\n",
              "      <button class=\"colab-df-convert\" onclick=\"convertToInteractive('df-15e433d7-4302-4a37-9595-1e6186ecb2fd')\"\n",
              "              title=\"Convert this dataframe to an interactive table.\"\n",
              "              style=\"display:none;\">\n",
              "        \n",
              "  <svg xmlns=\"http://www.w3.org/2000/svg\" height=\"24px\"viewBox=\"0 0 24 24\"\n",
              "       width=\"24px\">\n",
              "    <path d=\"M0 0h24v24H0V0z\" fill=\"none\"/>\n",
              "    <path d=\"M18.56 5.44l.94 2.06.94-2.06 2.06-.94-2.06-.94-.94-2.06-.94 2.06-2.06.94zm-11 1L8.5 8.5l.94-2.06 2.06-.94-2.06-.94L8.5 2.5l-.94 2.06-2.06.94zm10 10l.94 2.06.94-2.06 2.06-.94-2.06-.94-.94-2.06-.94 2.06-2.06.94z\"/><path d=\"M17.41 7.96l-1.37-1.37c-.4-.4-.92-.59-1.43-.59-.52 0-1.04.2-1.43.59L10.3 9.45l-7.72 7.72c-.78.78-.78 2.05 0 2.83L4 21.41c.39.39.9.59 1.41.59.51 0 1.02-.2 1.41-.59l7.78-7.78 2.81-2.81c.8-.78.8-2.07 0-2.86zM5.41 20L4 18.59l7.72-7.72 1.47 1.35L5.41 20z\"/>\n",
              "  </svg>\n",
              "      </button>\n",
              "      \n",
              "  <style>\n",
              "    .colab-df-container {\n",
              "      display:flex;\n",
              "      flex-wrap:wrap;\n",
              "      gap: 12px;\n",
              "    }\n",
              "\n",
              "    .colab-df-convert {\n",
              "      background-color: #E8F0FE;\n",
              "      border: none;\n",
              "      border-radius: 50%;\n",
              "      cursor: pointer;\n",
              "      display: none;\n",
              "      fill: #1967D2;\n",
              "      height: 32px;\n",
              "      padding: 0 0 0 0;\n",
              "      width: 32px;\n",
              "    }\n",
              "\n",
              "    .colab-df-convert:hover {\n",
              "      background-color: #E2EBFA;\n",
              "      box-shadow: 0px 1px 2px rgba(60, 64, 67, 0.3), 0px 1px 3px 1px rgba(60, 64, 67, 0.15);\n",
              "      fill: #174EA6;\n",
              "    }\n",
              "\n",
              "    [theme=dark] .colab-df-convert {\n",
              "      background-color: #3B4455;\n",
              "      fill: #D2E3FC;\n",
              "    }\n",
              "\n",
              "    [theme=dark] .colab-df-convert:hover {\n",
              "      background-color: #434B5C;\n",
              "      box-shadow: 0px 1px 3px 1px rgba(0, 0, 0, 0.15);\n",
              "      filter: drop-shadow(0px 1px 2px rgba(0, 0, 0, 0.3));\n",
              "      fill: #FFFFFF;\n",
              "    }\n",
              "  </style>\n",
              "\n",
              "      <script>\n",
              "        const buttonEl =\n",
              "          document.querySelector('#df-15e433d7-4302-4a37-9595-1e6186ecb2fd button.colab-df-convert');\n",
              "        buttonEl.style.display =\n",
              "          google.colab.kernel.accessAllowed ? 'block' : 'none';\n",
              "\n",
              "        async function convertToInteractive(key) {\n",
              "          const element = document.querySelector('#df-15e433d7-4302-4a37-9595-1e6186ecb2fd');\n",
              "          const dataTable =\n",
              "            await google.colab.kernel.invokeFunction('convertToInteractive',\n",
              "                                                     [key], {});\n",
              "          if (!dataTable) return;\n",
              "\n",
              "          const docLinkHtml = 'Like what you see? Visit the ' +\n",
              "            '<a target=\"_blank\" href=https://colab.research.google.com/notebooks/data_table.ipynb>data table notebook</a>'\n",
              "            + ' to learn more about interactive tables.';\n",
              "          element.innerHTML = '';\n",
              "          dataTable['output_type'] = 'display_data';\n",
              "          await google.colab.output.renderOutput(dataTable, element);\n",
              "          const docLink = document.createElement('div');\n",
              "          docLink.innerHTML = docLinkHtml;\n",
              "          element.appendChild(docLink);\n",
              "        }\n",
              "      </script>\n",
              "    </div>\n",
              "  </div>\n",
              "  "
            ]
          },
          "metadata": {},
          "execution_count": 90
        }
      ]
    }
  ],
  "metadata": {
    "kernelspec": {
      "display_name": "Python 3",
      "language": "python",
      "name": "python3"
    },
    "language_info": {
      "codemirror_mode": {
        "name": "ipython",
        "version": 3
      },
      "file_extension": ".py",
      "mimetype": "text/x-python",
      "name": "python",
      "nbconvert_exporter": "python",
      "pygments_lexer": "ipython3",
      "version": "3.8.5"
    },
    "colab": {
      "provenance": [],
      "collapsed_sections": []
    },
    "accelerator": "GPU"
  },
  "nbformat": 4,
  "nbformat_minor": 0
}