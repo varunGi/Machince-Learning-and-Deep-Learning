{
 "cells": [
  {
   "cell_type": "markdown",
   "metadata": {},
   "source": [
    "# Application Programming Interface"
   ]
  },
  {
   "cell_type": "markdown",
   "metadata": {
    "ExecuteTime": {
     "end_time": "2018-09-04T03:32:21.665406Z",
     "start_time": "2018-09-04T03:32:21.660911Z"
    }
   },
   "source": [
    "**Definition**  \n",
    "> Application Program Interfaces, or APIs, are commonly used to retrieve data from remote websites.  \n",
    "> To use an API, you make a request to a remote web server, and retrieve the data you need.\n",
    "\n",
    "**Why use API?**\n",
    "> Quickly changing data. Eg - Stock Market Data.  \n",
    "> In case you want a small piece of a much larger dataset. Eg - Twitter."
   ]
  },
  {
   "cell_type": "markdown",
   "metadata": {},
   "source": [
    "**API Request**\n",
    "> In order to get the data, we make a request to a webserver.  \n",
    "> The server then replies with our data.  \n",
    "> In Python, we'll use the **requests** module to do this.  \n",
    "> There are many different types of requests.   \n",
    "> The most commonly used one, a **GET request**, is used to retrieve data  \n",
    "\n",
    "```python\n",
    "import requests\n",
    "response = requests.get(\"URI\")\n",
    "```"
   ]
  },
  {
   "cell_type": "markdown",
   "metadata": {
    "ExecuteTime": {
     "end_time": "2018-09-04T03:32:44.962255Z",
     "start_time": "2018-09-04T03:32:44.958176Z"
    }
   },
   "source": [
    "### International Space Station API\n",
    "**Demonstrating an example with OpenNotify API**  \n",
    "In order to demonstrate, we will be using OpenNotify's API. OpenNotify has several API endpoints.  \n",
    "**OpenNotify API Documentation -** http://open-notify.org/Open-Notify-API/\n",
    "\n",
    "**API Endpoint**\n",
    "> An API endpoint is a digital location where an API receives requests about a specific resource on its server. \n",
    "\n",
    "**iss-now.json endpoint**\n",
    "> The first endpoint we'll look at on OpenNotify is the iss-now.json endpoint.  \n",
    "> This endpoint gets the current latitude and longitude of the International Space Station.   \n",
    "> As you can see, retrieving this data isn't a great fit for a dataset, because it involves some calculation on the server, and changes quickly.\n"
   ]
  },
  {
   "cell_type": "markdown",
   "metadata": {},
   "source": [
    "### Example 1"
   ]
  },
  {
   "cell_type": "code",
   "execution_count": 1,
   "metadata": {
    "ExecuteTime": {
     "end_time": "2018-09-04T03:32:43.971470Z",
     "start_time": "2018-09-04T03:32:43.967795Z"
    }
   },
   "outputs": [],
   "source": [
    "import requests"
   ]
  },
  {
   "cell_type": "code",
   "execution_count": 2,
   "metadata": {
    "ExecuteTime": {
     "end_time": "2018-09-04T03:33:20.386628Z",
     "start_time": "2018-09-04T03:33:19.151218Z"
    }
   },
   "outputs": [],
   "source": [
    "# Make a get request to get the latest position of \n",
    "# the international space station from the opennotify api.\n",
    "response = requests.get(\"http://api.open-notify.org/iss-now.json\")"
   ]
  },
  {
   "cell_type": "code",
   "execution_count": 3,
   "metadata": {},
   "outputs": [
    {
     "data": {
      "text/plain": [
       "'http://api.open-notify.org/iss-now.json'"
      ]
     },
     "execution_count": 3,
     "metadata": {},
     "output_type": "execute_result"
    }
   ],
   "source": [
    "# Check the response URL\n",
    "response.url"
   ]
  },
  {
   "cell_type": "code",
   "execution_count": 4,
   "metadata": {},
   "outputs": [
    {
     "data": {
      "text/plain": [
       "200"
      ]
     },
     "execution_count": 4,
     "metadata": {},
     "output_type": "execute_result"
    }
   ],
   "source": [
    "# Check the status code of the response.\n",
    "response.status_code"
   ]
  },
  {
   "cell_type": "code",
   "execution_count": 5,
   "metadata": {},
   "outputs": [
    {
     "data": {
      "text/plain": [
       "{'Server': 'nginx/1.10.3', 'Date': 'Tue, 06 Dec 2022 18:34:50 GMT', 'Content-Type': 'application/json', 'Content-Length': '115', 'Connection': 'keep-alive', 'access-control-allow-origin': '*'}"
      ]
     },
     "execution_count": 5,
     "metadata": {},
     "output_type": "execute_result"
    }
   ],
   "source": [
    "response.headers"
   ]
  },
  {
   "cell_type": "code",
   "execution_count": 6,
   "metadata": {},
   "outputs": [
    {
     "data": {
      "text/plain": [
       "'application/json'"
      ]
     },
     "execution_count": 6,
     "metadata": {},
     "output_type": "execute_result"
    }
   ],
   "source": [
    "# Check the response content type\n",
    "response.headers['Content-Type']"
   ]
  },
  {
   "cell_type": "code",
   "execution_count": 7,
   "metadata": {},
   "outputs": [
    {
     "data": {
      "text/plain": [
       "'utf-8'"
      ]
     },
     "execution_count": 7,
     "metadata": {},
     "output_type": "execute_result"
    }
   ],
   "source": [
    "# Check the response encoding\n",
    "response.encoding"
   ]
  },
  {
   "cell_type": "code",
   "execution_count": 8,
   "metadata": {},
   "outputs": [
    {
     "data": {
      "text/plain": [
       "'{\"iss_position\": {\"latitude\": \"-27.8367\", \"longitude\": \"-177.3435\"}, \"message\": \"success\", \"timestamp\": 1670351690}'"
      ]
     },
     "execution_count": 8,
     "metadata": {},
     "output_type": "execute_result"
    }
   ],
   "source": [
    "# Response Content\n",
    "response.text"
   ]
  },
  {
   "cell_type": "code",
   "execution_count": 9,
   "metadata": {},
   "outputs": [
    {
     "data": {
      "text/plain": [
       "b'{\"iss_position\": {\"latitude\": \"-27.8367\", \"longitude\": \"-177.3435\"}, \"message\": \"success\", \"timestamp\": 1670351690}'"
      ]
     },
     "execution_count": 9,
     "metadata": {},
     "output_type": "execute_result"
    }
   ],
   "source": [
    "# Binary Response Content\n",
    "# This is useful if the response body contains non-text data\n",
    "response.content"
   ]
  },
  {
   "cell_type": "code",
   "execution_count": 10,
   "metadata": {},
   "outputs": [
    {
     "data": {
      "text/plain": [
       "{'iss_position': {'latitude': '-27.8367', 'longitude': '-177.3435'},\n",
       " 'message': 'success',\n",
       " 'timestamp': 1670351690}"
      ]
     },
     "execution_count": 10,
     "metadata": {},
     "output_type": "execute_result"
    }
   ],
   "source": [
    "# JSON Response Content\n",
    "response.json()"
   ]
  },
  {
   "cell_type": "markdown",
   "metadata": {},
   "source": [
    "### Example 2"
   ]
  },
  {
   "cell_type": "code",
   "execution_count": 11,
   "metadata": {
    "ExecuteTime": {
     "end_time": "2018-09-04T03:32:43.971470Z",
     "start_time": "2018-09-04T03:32:43.967795Z"
    }
   },
   "outputs": [],
   "source": [
    "import requests"
   ]
  },
  {
   "cell_type": "code",
   "execution_count": 12,
   "metadata": {
    "ExecuteTime": {
     "end_time": "2018-09-04T03:33:20.386628Z",
     "start_time": "2018-09-04T03:33:19.151218Z"
    }
   },
   "outputs": [],
   "source": [
    "# Make a get request to get the latest position of \n",
    "# the international space station from the opennotify api.\n",
    "response = requests.get(\"https://google.com/search?q=thataiguy\")"
   ]
  },
  {
   "cell_type": "code",
   "execution_count": 13,
   "metadata": {},
   "outputs": [
    {
     "data": {
      "text/plain": [
       "'https://www.google.com/search?q=thataiguy'"
      ]
     },
     "execution_count": 13,
     "metadata": {},
     "output_type": "execute_result"
    }
   ],
   "source": [
    "# Check the response URL\n",
    "response.url"
   ]
  },
  {
   "cell_type": "code",
   "execution_count": 14,
   "metadata": {},
   "outputs": [
    {
     "data": {
      "text/plain": [
       "200"
      ]
     },
     "execution_count": 14,
     "metadata": {},
     "output_type": "execute_result"
    }
   ],
   "source": [
    "# Check the status code of the response.\n",
    "response.status_code"
   ]
  },
  {
   "cell_type": "code",
   "execution_count": 15,
   "metadata": {},
   "outputs": [
    {
     "data": {
      "text/plain": [
       "{'Content-Type': 'text/html; charset=ISO-8859-1', 'Date': 'Tue, 06 Dec 2022 18:34:55 GMT', 'Expires': '-1', 'Cache-Control': 'private, max-age=0', 'Content-Security-Policy': \"object-src 'none';base-uri 'self';script-src 'nonce-4xkZtvUzx70Iy7MiF5tavw' 'strict-dynamic' 'report-sample' 'unsafe-eval' 'unsafe-inline' https: http:;report-uri https://csp.withgoogle.com/csp/gws/xsrp\", 'Cross-Origin-Opener-Policy-Report-Only': 'same-origin-allow-popups; report-to=\"gws\"', 'Report-To': '{\"group\":\"gws\",\"max_age\":2592000,\"endpoints\":[{\"url\":\"https://csp.withgoogle.com/csp/report-to/gws/xsrp\"}]}', 'P3P': 'CP=\"This is not a P3P policy! See g.co/p3phelp for more info.\"', 'Content-Encoding': 'gzip', 'Server': 'gws', 'X-XSS-Protection': '0', 'X-Frame-Options': 'SAMEORIGIN', 'Set-Cookie': '1P_JAR=2022-12-06-18; expires=Thu, 05-Jan-2023 18:34:55 GMT; path=/; domain=.google.com; Secure, AEC=AakniGNmE_aphNNiMT_NZuAp1WADIQsgq7JE8DfPQq8VU3bRIjmIaMVnvw; expires=Sun, 04-Jun-2023 18:34:55 GMT; path=/; domain=.google.com; Secure; HttpOnly; SameSite=lax, NID=511=lhIIphUdV0zuZCUyqKUCKzrl9W-REA7994KXNNXQ0yOMhM5LWr8fEIdHrq-fMFR7_DDSsKK5lZUXTyZvQlaoMSlAHW7opsO8HZHpxtJWtw0nJGpPODrhrCVVJnnBiTGcD36STHAvrt6Q5uXfMS6ApGbD3q521qjy0OPezjc1WZI; expires=Wed, 07-Jun-2023 18:34:55 GMT; path=/; domain=.google.com; HttpOnly', 'Alt-Svc': 'h3=\":443\"; ma=2592000,h3-29=\":443\"; ma=2592000,h3-Q050=\":443\"; ma=2592000,h3-Q046=\":443\"; ma=2592000,h3-Q043=\":443\"; ma=2592000,quic=\":443\"; ma=2592000; v=\"46,43\"', 'Transfer-Encoding': 'chunked'}"
      ]
     },
     "execution_count": 15,
     "metadata": {},
     "output_type": "execute_result"
    }
   ],
   "source": [
    "response.headers"
   ]
  },
  {
   "cell_type": "code",
   "execution_count": 16,
   "metadata": {},
   "outputs": [
    {
     "data": {
      "text/plain": [
       "'text/html; charset=ISO-8859-1'"
      ]
     },
     "execution_count": 16,
     "metadata": {},
     "output_type": "execute_result"
    }
   ],
   "source": [
    "# Check the response content type\n",
    "response.headers['Content-Type']"
   ]
  },
  {
   "cell_type": "code",
   "execution_count": 17,
   "metadata": {},
   "outputs": [
    {
     "data": {
      "text/plain": [
       "'ISO-8859-1'"
      ]
     },
     "execution_count": 17,
     "metadata": {},
     "output_type": "execute_result"
    }
   ],
   "source": [
    "# Check the response encoding\n",
    "response.encoding"
   ]
  },
  {
   "cell_type": "code",
   "execution_count": 18,
   "metadata": {},
   "outputs": [],
   "source": [
    "# # Response Content\n",
    "# response.text"
   ]
  },
  {
   "cell_type": "code",
   "execution_count": 19,
   "metadata": {},
   "outputs": [],
   "source": [
    "# # Binary Response Content\n",
    "# # This is useful if the response body contains non-text data\n",
    "# response.content"
   ]
  },
  {
   "cell_type": "code",
   "execution_count": 20,
   "metadata": {},
   "outputs": [],
   "source": [
    "## JSON Response Content\n",
    "# response.json()\n",
    "## Generates Error"
   ]
  },
  {
   "cell_type": "markdown",
   "metadata": {},
   "source": [
    "## Status Code"
   ]
  },
  {
   "cell_type": "markdown",
   "metadata": {
    "ExecuteTime": {
     "end_time": "2018-09-04T03:33:22.480635Z",
     "start_time": "2018-09-04T03:33:22.476175Z"
    }
   },
   "source": [
    "Here are some codes that are relevant to GET requests:\n",
    "> **200** - everything went okay, and the result has been returned (if any).  \n",
    "> **301** - the server is redirecting you to a different endpoint. This can happen when a company switches domain names, or an endpoint name is changed.  \n",
    "> **401** - the server thinks you're not authenticated. This happens when you don't send the right credentials to access an API (we'll talk about authentication in a later post).  \n",
    "> **400** - the server thinks you made a bad request. This can happen when you don't send along the right data, among other things.  \n",
    "> **403** - the resource you're trying to access is forbidden -- you don't have the right permissions to see it.  \n",
    "> **404** - the resource you tried to access wasn't found on the server.  \n",
    "\n",
    "\n",
    "**Remember**\n",
    "> **2xx** - Success  \n",
    "> **3xx** - Redirection  \n",
    "> **4xx** - Client Error  \n",
    "> **5xx** - Server Error"
   ]
  },
  {
   "cell_type": "code",
   "execution_count": 21,
   "metadata": {},
   "outputs": [
    {
     "name": "stdout",
     "output_type": "stream",
     "text": [
      "404\n"
     ]
    },
    {
     "data": {
      "text/plain": [
       "b''"
      ]
     },
     "execution_count": 21,
     "metadata": {},
     "output_type": "execute_result"
    }
   ],
   "source": [
    "# Try the endpoint that doesnot exist\n",
    "\n",
    "response = requests.get(\"http://api.open-notify.org/astro\")\n",
    "print(response.status_code)\n",
    "response.content\n",
    "\n",
    "# response.json() # Generates error"
   ]
  },
  {
   "cell_type": "code",
   "execution_count": 22,
   "metadata": {},
   "outputs": [
    {
     "name": "stdout",
     "output_type": "stream",
     "text": [
      "200\n"
     ]
    },
    {
     "data": {
      "text/plain": [
       "{'people': [{'craft': 'Tiangong', 'name': 'Cai Xuzhe'},\n",
       "  {'craft': 'Tiangong', 'name': 'Chen Dong'},\n",
       "  {'craft': 'Tiangong', 'name': 'Liu Yang'},\n",
       "  {'craft': 'ISS', 'name': 'Sergey Prokopyev'},\n",
       "  {'craft': 'ISS', 'name': 'Dmitry Petelin'},\n",
       "  {'craft': 'ISS', 'name': 'Frank Rubio'},\n",
       "  {'craft': 'ISS', 'name': 'Nicole Mann'},\n",
       "  {'craft': 'ISS', 'name': 'Josh Cassada'},\n",
       "  {'craft': 'ISS', 'name': 'Koichi Wakata'},\n",
       "  {'craft': 'ISS', 'name': 'Anna Kikina'},\n",
       "  {'craft': 'Shenzhou 15', 'name': 'Fei Junlong'},\n",
       "  {'craft': 'Shenzhou 15', 'name': 'Deng Qingming'},\n",
       "  {'craft': 'Shenzhou 15', 'name': 'Zhang Lu'}],\n",
       " 'number': 13,\n",
       " 'message': 'success'}"
      ]
     },
     "execution_count": 22,
     "metadata": {},
     "output_type": "execute_result"
    }
   ],
   "source": [
    "# Lets now add .json and try again\n",
    "\n",
    "response = requests.get(\"http://api.open-notify.org/astros.json\")\n",
    "print(response.status_code)\n",
    "response.json()"
   ]
  },
  {
   "cell_type": "markdown",
   "metadata": {},
   "source": [
    "## Query Parameters"
   ]
  },
  {
   "cell_type": "markdown",
   "metadata": {},
   "source": [
    "**Warning - iss-pass.json endpoint is removed from OpenNotify's API.**"
   ]
  },
  {
   "cell_type": "code",
   "execution_count": 7,
   "metadata": {
    "ExecuteTime": {
     "end_time": "2018-09-04T03:33:30.791852Z",
     "start_time": "2018-09-04T03:33:29.704155Z"
    },
    "scrolled": true
   },
   "outputs": [
    {
     "name": "stdout",
     "output_type": "stream",
     "text": [
      "404\n"
     ]
    }
   ],
   "source": [
    "# Set up the parameters we want to pass to the API.\n",
    "# This is the latitude and longitude of New York City.\n",
    "parameters = {\"lat\": 40.71, \"lon\": -74}\n",
    "\n",
    "# Make a get request with the parameters.\n",
    "response = requests.get(\"http://api.open-notify.org/iss-pass.json\", params=parameters)\n",
    "\n",
    "# Print the status code of the response.\n",
    "print(response.status_code)"
   ]
  },
  {
   "cell_type": "code",
   "execution_count": 19,
   "metadata": {},
   "outputs": [
    {
     "name": "stdout",
     "output_type": "stream",
     "text": [
      "b'{\\n  \"message\": \"success\", \\n  \"request\": {\\n    \"altitude\": 100, \\n    \"datetime\": 1634416081, \\n    \"latitude\": 40.71, \\n    \"longitude\": -74.0, \\n    \"passes\": 5\\n  }, \\n  \"response\": [\\n    {\\n      \"duration\": 482, \\n      \"risetime\": 1634417305\\n    }, \\n    {\\n      \"duration\": 322, \\n      \"risetime\": 1634466030\\n    }, \\n    {\\n      \"duration\": 640, \\n      \"risetime\": 1634471633\\n    }, \\n    {\\n      \"duration\": 630, \\n      \"risetime\": 1634477452\\n    }, \\n    {\\n      \"duration\": 563, \\n      \"risetime\": 1634483345\\n    }\\n  ]\\n}\\n'\n"
     ]
    }
   ],
   "source": [
    "# Print the content of the response (the data the server returned)\n",
    "print(response.content)"
   ]
  },
  {
   "cell_type": "code",
   "execution_count": 23,
   "metadata": {},
   "outputs": [
    {
     "data": {
      "text/plain": [
       "{'message': 'success',\n",
       " 'request': {'altitude': 100,\n",
       "  'datetime': 1634416081,\n",
       "  'latitude': 40.71,\n",
       "  'longitude': -74.0,\n",
       "  'passes': 5},\n",
       " 'response': [{'duration': 482, 'risetime': 1634417305},\n",
       "  {'duration': 322, 'risetime': 1634466030},\n",
       "  {'duration': 640, 'risetime': 1634471633},\n",
       "  {'duration': 630, 'risetime': 1634477452},\n",
       "  {'duration': 563, 'risetime': 1634483345}]}"
      ]
     },
     "execution_count": 23,
     "metadata": {},
     "output_type": "execute_result"
    }
   ],
   "source": [
    "# Print the content in JSON format\n",
    "response.json()"
   ]
  },
  {
   "cell_type": "code",
   "execution_count": 57,
   "metadata": {
    "ExecuteTime": {
     "end_time": "2018-09-04T03:33:32.634098Z",
     "start_time": "2018-09-04T03:33:32.014684Z"
    }
   },
   "outputs": [
    {
     "name": "stdout",
     "output_type": "stream",
     "text": [
      "b'{\\n  \"message\": \"success\", \\n  \"request\": {\\n    \"altitude\": 100, \\n    \"datetime\": 1634416081, \\n    \"latitude\": 40.71, \\n    \"longitude\": -74.0, \\n    \"passes\": 5\\n  }, \\n  \"response\": [\\n    {\\n      \"duration\": 482, \\n      \"risetime\": 1634417305\\n    }, \\n    {\\n      \"duration\": 322, \\n      \"risetime\": 1634466030\\n    }, \\n    {\\n      \"duration\": 640, \\n      \"risetime\": 1634471633\\n    }, \\n    {\\n      \"duration\": 630, \\n      \"risetime\": 1634477452\\n    }, \\n    {\\n      \"duration\": 563, \\n      \"risetime\": 1634483345\\n    }\\n  ]\\n}\\n'\n"
     ]
    }
   ],
   "source": [
    "# This gets the same data as the command above\n",
    "response = requests.get(\"http://api.open-notify.org/iss-pass.json?lat=40.71&lon=-74\")\n",
    "print(response.content)"
   ]
  },
  {
   "cell_type": "code",
   "execution_count": 58,
   "metadata": {},
   "outputs": [
    {
     "data": {
      "text/plain": [
       "{'message': 'success',\n",
       " 'request': {'altitude': 100,\n",
       "  'datetime': 1634416081,\n",
       "  'latitude': 40.71,\n",
       "  'longitude': -74.0,\n",
       "  'passes': 5},\n",
       " 'response': [{'duration': 482, 'risetime': 1634417305},\n",
       "  {'duration': 322, 'risetime': 1634466030},\n",
       "  {'duration': 640, 'risetime': 1634471633},\n",
       "  {'duration': 630, 'risetime': 1634477452},\n",
       "  {'duration': 563, 'risetime': 1634483345}]}"
      ]
     },
     "execution_count": 58,
     "metadata": {},
     "output_type": "execute_result"
    }
   ],
   "source": [
    "response.json()"
   ]
  },
  {
   "cell_type": "markdown",
   "metadata": {},
   "source": [
    "## Query Parameters (Another example)"
   ]
  },
  {
   "cell_type": "code",
   "execution_count": 23,
   "metadata": {
    "scrolled": true
   },
   "outputs": [
    {
     "name": "stdout",
     "output_type": "stream",
     "text": [
      "200\n"
     ]
    }
   ],
   "source": [
    "import requests\n",
    "\n",
    "response = requests.get(\"https://google.com/search\")\n",
    "print(response.status_code)\n",
    "# print(response.text)"
   ]
  },
  {
   "cell_type": "code",
   "execution_count": 24,
   "metadata": {},
   "outputs": [
    {
     "name": "stdout",
     "output_type": "stream",
     "text": [
      "200\n"
     ]
    }
   ],
   "source": [
    "parameters = {\"q\": \"Kanav Bansal\"}\n",
    "response = response = requests.get(\"https://google.com/search\", params=parameters)\n",
    "print(response.status_code)\n",
    "# print(response.text)"
   ]
  },
  {
   "cell_type": "markdown",
   "metadata": {},
   "source": [
    "## Getting JSON from an API request"
   ]
  },
  {
   "cell_type": "code",
   "execution_count": 25,
   "metadata": {
    "ExecuteTime": {
     "end_time": "2018-09-04T03:33:37.345919Z",
     "start_time": "2018-09-04T03:33:36.305704Z"
    },
    "scrolled": true
   },
   "outputs": [
    {
     "name": "stdout",
     "output_type": "stream",
     "text": [
      "<class 'dict'>\n",
      "{'people': [{'craft': 'Tiangong', 'name': 'Cai Xuzhe'}, {'craft': 'Tiangong', 'name': 'Chen Dong'}, {'craft': 'Tiangong', 'name': 'Liu Yang'}, {'craft': 'ISS', 'name': 'Sergey Prokopyev'}, {'craft': 'ISS', 'name': 'Dmitry Petelin'}, {'craft': 'ISS', 'name': 'Frank Rubio'}, {'craft': 'ISS', 'name': 'Nicole Mann'}, {'craft': 'ISS', 'name': 'Josh Cassada'}, {'craft': 'ISS', 'name': 'Koichi Wakata'}, {'craft': 'ISS', 'name': 'Anna Kikina'}, {'craft': 'Shenzhou 15', 'name': 'Fei Junlong'}, {'craft': 'Shenzhou 15', 'name': 'Deng Qingming'}, {'craft': 'Shenzhou 15', 'name': 'Zhang Lu'}], 'number': 13, 'message': 'success'}\n"
     ]
    }
   ],
   "source": [
    "response = requests.get(\"http://api.open-notify.org/astros.json\")\n",
    "\n",
    "# Get the response data as a python object. Verify that it's a dictionary.\n",
    "data = response.json()\n",
    "print(type(data))\n",
    "print(data)"
   ]
  },
  {
   "cell_type": "code",
   "execution_count": 26,
   "metadata": {
    "ExecuteTime": {
     "end_time": "2018-09-04T03:33:39.276426Z",
     "start_time": "2018-09-04T03:33:39.271722Z"
    }
   },
   "outputs": [
    {
     "name": "stdout",
     "output_type": "stream",
     "text": [
      "{'Server': 'nginx/1.10.3', 'Date': 'Tue, 06 Dec 2022 18:35:16 GMT', 'Content-Type': 'application/json', 'Content-Length': '623', 'Connection': 'keep-alive', 'access-control-allow-origin': '*'}\n"
     ]
    }
   ],
   "source": [
    "print(response.headers)"
   ]
  },
  {
   "cell_type": "code",
   "execution_count": 27,
   "metadata": {
    "ExecuteTime": {
     "end_time": "2018-09-03T14:13:18.358948Z",
     "start_time": "2018-09-03T14:13:18.351933Z"
    },
    "scrolled": true
   },
   "outputs": [
    {
     "name": "stdout",
     "output_type": "stream",
     "text": [
      "application/json\n"
     ]
    }
   ],
   "source": [
    "print(response.headers[\"Content-Type\"])"
   ]
  },
  {
   "cell_type": "markdown",
   "metadata": {},
   "source": [
    "## Finding the Number of People in Space"
   ]
  },
  {
   "cell_type": "code",
   "execution_count": 28,
   "metadata": {
    "ExecuteTime": {
     "end_time": "2018-09-04T03:34:53.800893Z",
     "start_time": "2018-09-04T03:34:52.580463Z"
    },
    "scrolled": true
   },
   "outputs": [],
   "source": [
    "# Get the response from the API endpoint.\n",
    "response = requests.get(\"http://api.open-notify.org/astros.json\")\n",
    "data = response.json()"
   ]
  },
  {
   "cell_type": "code",
   "execution_count": 29,
   "metadata": {},
   "outputs": [
    {
     "name": "stdout",
     "output_type": "stream",
     "text": [
      "<class 'dict'>\n"
     ]
    }
   ],
   "source": [
    "print(type(data))"
   ]
  },
  {
   "cell_type": "code",
   "execution_count": 30,
   "metadata": {},
   "outputs": [
    {
     "name": "stdout",
     "output_type": "stream",
     "text": [
      "{'people': [{'craft': 'Tiangong', 'name': 'Cai Xuzhe'}, {'craft': 'Tiangong', 'name': 'Chen Dong'}, {'craft': 'Tiangong', 'name': 'Liu Yang'}, {'craft': 'ISS', 'name': 'Sergey Prokopyev'}, {'craft': 'ISS', 'name': 'Dmitry Petelin'}, {'craft': 'ISS', 'name': 'Frank Rubio'}, {'craft': 'ISS', 'name': 'Nicole Mann'}, {'craft': 'ISS', 'name': 'Josh Cassada'}, {'craft': 'ISS', 'name': 'Koichi Wakata'}, {'craft': 'ISS', 'name': 'Anna Kikina'}, {'craft': 'Shenzhou 15', 'name': 'Fei Junlong'}, {'craft': 'Shenzhou 15', 'name': 'Deng Qingming'}, {'craft': 'Shenzhou 15', 'name': 'Zhang Lu'}], 'number': 13, 'message': 'success'}\n"
     ]
    }
   ],
   "source": [
    "print(data)"
   ]
  },
  {
   "cell_type": "code",
   "execution_count": 31,
   "metadata": {},
   "outputs": [
    {
     "data": {
      "text/plain": [
       "dict_keys(['people', 'number', 'message'])"
      ]
     },
     "execution_count": 31,
     "metadata": {},
     "output_type": "execute_result"
    }
   ],
   "source": [
    "data.keys()"
   ]
  },
  {
   "cell_type": "code",
   "execution_count": 32,
   "metadata": {},
   "outputs": [
    {
     "name": "stdout",
     "output_type": "stream",
     "text": [
      "13\n"
     ]
    }
   ],
   "source": [
    "# How many people are currently is space?\n",
    "print(data[\"number\"])"
   ]
  },
  {
   "cell_type": "code",
   "execution_count": 33,
   "metadata": {},
   "outputs": [
    {
     "name": "stdout",
     "output_type": "stream",
     "text": [
      "[{'craft': 'Tiangong', 'name': 'Cai Xuzhe'}, {'craft': 'Tiangong', 'name': 'Chen Dong'}, {'craft': 'Tiangong', 'name': 'Liu Yang'}, {'craft': 'ISS', 'name': 'Sergey Prokopyev'}, {'craft': 'ISS', 'name': 'Dmitry Petelin'}, {'craft': 'ISS', 'name': 'Frank Rubio'}, {'craft': 'ISS', 'name': 'Nicole Mann'}, {'craft': 'ISS', 'name': 'Josh Cassada'}, {'craft': 'ISS', 'name': 'Koichi Wakata'}, {'craft': 'ISS', 'name': 'Anna Kikina'}, {'craft': 'Shenzhou 15', 'name': 'Fei Junlong'}, {'craft': 'Shenzhou 15', 'name': 'Deng Qingming'}, {'craft': 'Shenzhou 15', 'name': 'Zhang Lu'}]\n"
     ]
    }
   ],
   "source": [
    "# Who are these people?\n",
    "print(data[\"people\"])"
   ]
  },
  {
   "cell_type": "code",
   "execution_count": 34,
   "metadata": {},
   "outputs": [
    {
     "name": "stdout",
     "output_type": "stream",
     "text": [
      "Cai Xuzhe\n",
      "Chen Dong\n",
      "Liu Yang\n",
      "Sergey Prokopyev\n",
      "Dmitry Petelin\n",
      "Frank Rubio\n",
      "Nicole Mann\n",
      "Josh Cassada\n",
      "Koichi Wakata\n",
      "Anna Kikina\n",
      "Fei Junlong\n",
      "Deng Qingming\n",
      "Zhang Lu\n"
     ]
    }
   ],
   "source": [
    "people_in_space = data[\"people\"]\n",
    "for astronaut in people_in_space:\n",
    "    print(astronaut['name'])"
   ]
  },
  {
   "cell_type": "markdown",
   "metadata": {},
   "source": [
    "## Working with JSON \n",
    "- Converting Python Objects to JSON and vice versa using **dumps() and loads()**\n",
    "- Saving the data to JSON files and vice versa using **dump() and load()**\n",
    "\n",
    "\n",
    "### dumps() and loads()\n",
    "We can convert lists, tuples and dictionaries to JSON strings, and convert JSON strings to lists and dictionaries.\n",
    "\n",
    "The json module has two main methods for doing this:\n",
    "> **json.dumps(PYTHON_OBJECT) -** Takes in a Python object, and converts it to a JSON string.  \n",
    "> **json.loads(JSON_STRING) -** Takes a JSON string, and converts it to a Python object."
   ]
  },
  {
   "cell_type": "code",
   "execution_count": 35,
   "metadata": {
    "ExecuteTime": {
     "end_time": "2018-09-04T03:33:33.902009Z",
     "start_time": "2018-09-04T03:33:33.894499Z"
    }
   },
   "outputs": [],
   "source": [
    "# Import the json library\n",
    "import json"
   ]
  },
  {
   "cell_type": "code",
   "execution_count": 36,
   "metadata": {
    "ExecuteTime": {
     "end_time": "2018-09-04T03:33:33.902009Z",
     "start_time": "2018-09-04T03:33:33.894499Z"
    }
   },
   "outputs": [
    {
     "name": "stdout",
     "output_type": "stream",
     "text": [
      "<class 'list'>\n"
     ]
    },
    {
     "data": {
      "text/plain": [
       "['Shaktiman', 'Krish', 'Flying Jatt', 'Bhavesh Joshi']"
      ]
     },
     "execution_count": 36,
     "metadata": {},
     "output_type": "execute_result"
    }
   ],
   "source": [
    "# Make a list of Indian Superheros chains.\n",
    "sup_hero = ['Shaktiman', 'Krish', 'Flying Jatt', 'Bhavesh Joshi']\n",
    "\n",
    "# This is a list\n",
    "print(type(sup_hero)) \n",
    "\n",
    "sup_hero"
   ]
  },
  {
   "cell_type": "code",
   "execution_count": 37,
   "metadata": {
    "ExecuteTime": {
     "end_time": "2018-09-04T03:33:33.902009Z",
     "start_time": "2018-09-04T03:33:33.894499Z"
    }
   },
   "outputs": [
    {
     "data": {
      "text/plain": [
       "'[\"Shaktiman\", \"Krish\", \"Flying Jatt\", \"Bhavesh Joshi\"]'"
      ]
     },
     "execution_count": 37,
     "metadata": {},
     "output_type": "execute_result"
    }
   ],
   "source": [
    "# Use json.dumps() to convert best_food_chains to a string.\n",
    "sup_hero_str = json.dumps(sup_hero)\n",
    "\n",
    "sup_hero_str"
   ]
  },
  {
   "cell_type": "code",
   "execution_count": 38,
   "metadata": {},
   "outputs": [
    {
     "name": "stdout",
     "output_type": "stream",
     "text": [
      "<class 'str'>\n",
      "<class 'list'>\n"
     ]
    }
   ],
   "source": [
    "# We've successfully converted our list to a string.\n",
    "print(type(sup_hero_str))\n",
    "\n",
    "# Convert best_food_chains_string back into a list\n",
    "print(type(json.loads(sup_hero_str)))"
   ]
  },
  {
   "cell_type": "code",
   "execution_count": 39,
   "metadata": {
    "ExecuteTime": {
     "end_time": "2018-09-04T03:33:33.902009Z",
     "start_time": "2018-09-04T03:33:33.894499Z"
    },
    "scrolled": false
   },
   "outputs": [
    {
     "name": "stdout",
     "output_type": "stream",
     "text": [
      "<class 'dict'>\n"
     ]
    },
    {
     "data": {
      "text/plain": [
       "{'Subway': 24722, 'McDonalds': 14098, 'Starbucks': 10821, 'Pizza Hut': 7600}"
      ]
     },
     "execution_count": 39,
     "metadata": {},
     "output_type": "execute_result"
    }
   ],
   "source": [
    "# Make a dictionary\n",
    "fast_food_franchise = {\n",
    "    \"Subway\": 24722,\n",
    "    \"McDonalds\": 14098,\n",
    "    \"Starbucks\": 10821,\n",
    "    \"Pizza Hut\": 7600\n",
    "}\n",
    "\n",
    "print(type(fast_food_franchise))\n",
    "\n",
    "fast_food_franchise"
   ]
  },
  {
   "cell_type": "code",
   "execution_count": 40,
   "metadata": {},
   "outputs": [
    {
     "data": {
      "text/plain": [
       "'{\"Subway\": 24722, \"McDonalds\": 14098, \"Starbucks\": 10821, \"Pizza Hut\": 7600}'"
      ]
     },
     "execution_count": 40,
     "metadata": {},
     "output_type": "execute_result"
    }
   ],
   "source": [
    "# We can also dump a dictionary to a string and load it.\n",
    "fast_food_franchise_str = json.dumps(fast_food_franchise)\n",
    "\n",
    "fast_food_franchise_str"
   ]
  },
  {
   "cell_type": "code",
   "execution_count": 41,
   "metadata": {},
   "outputs": [
    {
     "name": "stdout",
     "output_type": "stream",
     "text": [
      "<class 'str'>\n",
      "<class 'dict'>\n"
     ]
    }
   ],
   "source": [
    "print(type(fast_food_franchise_str))\n",
    "\n",
    "print(type(json.loads(fast_food_franchise_str)))"
   ]
  },
  {
   "cell_type": "code",
   "execution_count": 42,
   "metadata": {},
   "outputs": [
    {
     "name": "stdout",
     "output_type": "stream",
     "text": [
      "<class 'str'>\n",
      "<class 'list'>\n"
     ]
    },
    {
     "data": {
      "text/plain": [
       "[1, 2, 3]"
      ]
     },
     "execution_count": 42,
     "metadata": {},
     "output_type": "execute_result"
    }
   ],
   "source": [
    "tup = (1, 2, 3)\n",
    "\n",
    "tup_str = json.dumps(tup)\n",
    "print(type(tup_str))\n",
    "\n",
    "tup_lst = json.loads(tup_str)\n",
    "print(type(tup_lst))\n",
    "\n",
    "tup_lst"
   ]
  },
  {
   "cell_type": "markdown",
   "metadata": {},
   "source": [
    "### dump() and load()\n",
    "\n",
    "We can create and read JSON files.\n",
    "\n",
    "The json module has two main methods for doing this:\n",
    "> **json.dump(data, file_object) -** This helps in writing data into a JSON file format.  \n",
    "> **json.load(file_object) -** This helps to read a JSON file."
   ]
  },
  {
   "cell_type": "code",
   "execution_count": 43,
   "metadata": {},
   "outputs": [
    {
     "name": "stdout",
     "output_type": "stream",
     "text": [
      "{'Subway': 24722, 'McDonalds': 14098, 'Starbucks': 10821, 'Pizza Hut': 7600}\n",
      "<class 'dict'>\n"
     ]
    }
   ],
   "source": [
    "print(fast_food_franchise)\n",
    "\n",
    "print(type(fast_food_franchise))"
   ]
  },
  {
   "cell_type": "code",
   "execution_count": 44,
   "metadata": {},
   "outputs": [],
   "source": [
    "file_name = 'data/fast_food.json'\n",
    "\n",
    "with open(file_name, 'w') as f:\n",
    "    json.dump(fast_food_franchise, f)"
   ]
  },
  {
   "cell_type": "code",
   "execution_count": 45,
   "metadata": {},
   "outputs": [
    {
     "name": "stdout",
     "output_type": "stream",
     "text": [
      "['Shaktiman', 'Krish', 'Flying Jatt', 'Bhavesh Joshi']\n",
      "<class 'list'>\n"
     ]
    }
   ],
   "source": [
    "print(sup_hero)\n",
    "\n",
    "print(type(sup_hero))"
   ]
  },
  {
   "cell_type": "code",
   "execution_count": 46,
   "metadata": {},
   "outputs": [],
   "source": [
    "file_name = 'data/sup_hero.json'\n",
    "\n",
    "with open(file_name, 'w') as f:\n",
    "    json.dump(sup_hero, f)"
   ]
  },
  {
   "cell_type": "code",
   "execution_count": 47,
   "metadata": {},
   "outputs": [
    {
     "name": "stdout",
     "output_type": "stream",
     "text": [
      "['Shaktiman', 'Krish', 'Flying Jatt', 'Bhavesh Joshi']\n",
      "<class 'list'>\n"
     ]
    }
   ],
   "source": [
    "file_name = 'data/sup_hero.json'\n",
    "\n",
    "with open(file_name, 'r') as f:\n",
    "    data = json.load(f)\n",
    "    \n",
    "print(data)\n",
    "print(type(data))"
   ]
  },
  {
   "cell_type": "markdown",
   "metadata": {},
   "source": [
    "## Popular API Documentations\n",
    "\n",
    "**fakestoreapi**  \n",
    "> https://fakestoreapi.com/docs  \n",
    "> fakeStoreApi can be used with any type of shopping project that needs products, carts, and users in JSON format. You can use examples below to check how fakeStoreApi works and feel free to enjoy it in your awesome projects! \n",
    "\n",
    "**coingecko**  \n",
    "> https://www.coingecko.com/en/api/documentation  \n",
    "> CoinGecko was founded in 2014 with the mission to democratize the access of crypto data and empower users with actionable insights. "
   ]
  },
  {
   "cell_type": "markdown",
   "metadata": {},
   "source": [
    "## Extracting Crypto Data using Coingecko\n",
    "- Ping\n",
    "- Coin List\n",
    "- Coin History\n",
    "- Coin Market\n",
    "- Coin History\n",
    "- Coin Market Chart"
   ]
  },
  {
   "cell_type": "markdown",
   "metadata": {},
   "source": [
    "### Endpoint - /ping"
   ]
  },
  {
   "cell_type": "code",
   "execution_count": 48,
   "metadata": {},
   "outputs": [
    {
     "data": {
      "text/plain": [
       "200"
      ]
     },
     "execution_count": 48,
     "metadata": {},
     "output_type": "execute_result"
    }
   ],
   "source": [
    "import requests\n",
    "\n",
    "ROOT_URL = \"https://api.coingecko.com/api/v3\"\n",
    "endpoint = \"/ping\"\n",
    "res = requests.get(ROOT_URL + endpoint)\n",
    "\n",
    "res.status_code"
   ]
  },
  {
   "cell_type": "code",
   "execution_count": 49,
   "metadata": {
    "scrolled": true
   },
   "outputs": [
    {
     "data": {
      "text/plain": [
       "{'Date': 'Tue, 06 Dec 2022 18:36:37 GMT', 'Content-Type': 'application/json; charset=utf-8', 'Transfer-Encoding': 'chunked', 'Connection': 'keep-alive', 'X-Frame-Options': 'SAMEORIGIN', 'X-XSS-Protection': '0', 'X-Content-Type-Options': 'nosniff', 'X-Download-Options': 'noopen', 'X-Permitted-Cross-Domain-Policies': 'none', 'Referrer-Policy': 'strict-origin-when-cross-origin', 'Access-Control-Allow-Origin': '*', 'Access-Control-Allow-Methods': 'POST, PUT, DELETE, GET, OPTIONS', 'Access-Control-Request-Method': '*', 'Access-Control-Allow-Headers': 'Origin, X-Requested-With, Content-Type, Accept, Authorization', 'Access-Control-Expose-Headers': 'link, per-page, total', 'Vary': 'Accept-Encoding, Origin', 'ETag': 'W/\"323b18265c8240369cf07629c9295bdc\"', 'Cache-Control': 'public, max-age=120', 'X-Request-Id': '68ba063b-9648-4708-97e8-37c7d142c47f', 'X-Runtime': '0.002167', 'Alternate-Protocol': '443:npn-spdy/2', 'CF-Cache-Status': 'MISS', 'Expires': 'Tue, 06 Dec 2022 18:38:37 GMT', 'Server': 'cloudflare', 'CF-RAY': '775720cecabc79de-HYD', 'Content-Encoding': 'br'}"
      ]
     },
     "execution_count": 49,
     "metadata": {},
     "output_type": "execute_result"
    }
   ],
   "source": [
    "res.headers"
   ]
  },
  {
   "cell_type": "code",
   "execution_count": 50,
   "metadata": {},
   "outputs": [
    {
     "data": {
      "text/plain": [
       "'application/json; charset=utf-8'"
      ]
     },
     "execution_count": 50,
     "metadata": {},
     "output_type": "execute_result"
    }
   ],
   "source": [
    "res.headers['Content-Type']"
   ]
  },
  {
   "cell_type": "code",
   "execution_count": 51,
   "metadata": {},
   "outputs": [
    {
     "data": {
      "text/plain": [
       "'{\"gecko_says\":\"(V3) To the Moon!\"}'"
      ]
     },
     "execution_count": 51,
     "metadata": {},
     "output_type": "execute_result"
    }
   ],
   "source": [
    "res.text"
   ]
  },
  {
   "cell_type": "markdown",
   "metadata": {},
   "source": [
    "### Endpoint - /coin/list\n",
    "Use this to obtain all the coins' id in order to make API calls\n"
   ]
  },
  {
   "cell_type": "code",
   "execution_count": 52,
   "metadata": {},
   "outputs": [
    {
     "data": {
      "text/plain": [
       "[{'id': '01coin', 'symbol': 'zoc', 'name': '01coin'},\n",
       " {'id': '0-5x-long-algorand-token',\n",
       "  'symbol': 'algohalf',\n",
       "  'name': '0.5X Long Algorand'},\n",
       " {'id': '0-5x-long-altcoin-index-token',\n",
       "  'symbol': 'althalf',\n",
       "  'name': '0.5X Long Altcoin Index'},\n",
       " {'id': '0-5x-long-bitcoin-token',\n",
       "  'symbol': 'half',\n",
       "  'name': '0.5X Long Bitcoin'},\n",
       " {'id': '0-5x-long-cardano-token',\n",
       "  'symbol': 'adahalf',\n",
       "  'name': '0.5X Long Cardano'}]"
      ]
     },
     "execution_count": 52,
     "metadata": {},
     "output_type": "execute_result"
    }
   ],
   "source": [
    "import requests\n",
    "\n",
    "ROOT_URL = \"https://api.coingecko.com/api/v3\"\n",
    "endpoint = \"/coins/list\"\n",
    "res = requests.get(ROOT_URL + endpoint)\n",
    "\n",
    "\n",
    "res.json()[:5]"
   ]
  },
  {
   "cell_type": "code",
   "execution_count": 53,
   "metadata": {},
   "outputs": [
    {
     "name": "stdout",
     "output_type": "stream",
     "text": [
      "<class 'list'>\n"
     ]
    }
   ],
   "source": [
    "data = res.json()\n",
    "\n",
    "print(type(data))"
   ]
  },
  {
   "cell_type": "code",
   "execution_count": 54,
   "metadata": {},
   "outputs": [
    {
     "data": {
      "text/html": [
       "<div>\n",
       "<style scoped>\n",
       "    .dataframe tbody tr th:only-of-type {\n",
       "        vertical-align: middle;\n",
       "    }\n",
       "\n",
       "    .dataframe tbody tr th {\n",
       "        vertical-align: top;\n",
       "    }\n",
       "\n",
       "    .dataframe thead th {\n",
       "        text-align: right;\n",
       "    }\n",
       "</style>\n",
       "<table border=\"1\" class=\"dataframe\">\n",
       "  <thead>\n",
       "    <tr style=\"text-align: right;\">\n",
       "      <th></th>\n",
       "      <th>id</th>\n",
       "      <th>symbol</th>\n",
       "      <th>name</th>\n",
       "    </tr>\n",
       "  </thead>\n",
       "  <tbody>\n",
       "    <tr>\n",
       "      <th>0</th>\n",
       "      <td>01coin</td>\n",
       "      <td>zoc</td>\n",
       "      <td>01coin</td>\n",
       "    </tr>\n",
       "    <tr>\n",
       "      <th>1</th>\n",
       "      <td>0-5x-long-algorand-token</td>\n",
       "      <td>algohalf</td>\n",
       "      <td>0.5X Long Algorand</td>\n",
       "    </tr>\n",
       "    <tr>\n",
       "      <th>2</th>\n",
       "      <td>0-5x-long-altcoin-index-token</td>\n",
       "      <td>althalf</td>\n",
       "      <td>0.5X Long Altcoin Index</td>\n",
       "    </tr>\n",
       "    <tr>\n",
       "      <th>3</th>\n",
       "      <td>0-5x-long-bitcoin-token</td>\n",
       "      <td>half</td>\n",
       "      <td>0.5X Long Bitcoin</td>\n",
       "    </tr>\n",
       "    <tr>\n",
       "      <th>4</th>\n",
       "      <td>0-5x-long-cardano-token</td>\n",
       "      <td>adahalf</td>\n",
       "      <td>0.5X Long Cardano</td>\n",
       "    </tr>\n",
       "  </tbody>\n",
       "</table>\n",
       "</div>"
      ],
      "text/plain": [
       "                              id    symbol                     name\n",
       "0                         01coin       zoc                   01coin\n",
       "1       0-5x-long-algorand-token  algohalf       0.5X Long Algorand\n",
       "2  0-5x-long-altcoin-index-token   althalf  0.5X Long Altcoin Index\n",
       "3        0-5x-long-bitcoin-token      half        0.5X Long Bitcoin\n",
       "4        0-5x-long-cardano-token   adahalf        0.5X Long Cardano"
      ]
     },
     "execution_count": 54,
     "metadata": {},
     "output_type": "execute_result"
    }
   ],
   "source": [
    "import pandas as pd\n",
    "\n",
    "df = pd.read_json('https://api.coingecko.com/api/v3/coins/list')\n",
    "\n",
    "df.head()"
   ]
  },
  {
   "cell_type": "code",
   "execution_count": 55,
   "metadata": {},
   "outputs": [
    {
     "data": {
      "text/plain": [
       "(13086, 3)"
      ]
     },
     "execution_count": 55,
     "metadata": {},
     "output_type": "execute_result"
    }
   ],
   "source": [
    "df.shape"
   ]
  },
  {
   "cell_type": "code",
   "execution_count": 56,
   "metadata": {},
   "outputs": [
    {
     "data": {
      "text/html": [
       "<div>\n",
       "<style scoped>\n",
       "    .dataframe tbody tr th:only-of-type {\n",
       "        vertical-align: middle;\n",
       "    }\n",
       "\n",
       "    .dataframe tbody tr th {\n",
       "        vertical-align: top;\n",
       "    }\n",
       "\n",
       "    .dataframe thead th {\n",
       "        text-align: right;\n",
       "    }\n",
       "</style>\n",
       "<table border=\"1\" class=\"dataframe\">\n",
       "  <thead>\n",
       "    <tr style=\"text-align: right;\">\n",
       "      <th></th>\n",
       "      <th>id</th>\n",
       "      <th>symbol</th>\n",
       "      <th>name</th>\n",
       "    </tr>\n",
       "  </thead>\n",
       "  <tbody>\n",
       "    <tr>\n",
       "      <th>1454</th>\n",
       "      <td>binance-peg-dogecoin</td>\n",
       "      <td>doge</td>\n",
       "      <td>Binance-Peg Dogecoin</td>\n",
       "    </tr>\n",
       "    <tr>\n",
       "      <th>1517</th>\n",
       "      <td>bitcoin</td>\n",
       "      <td>btc</td>\n",
       "      <td>Bitcoin</td>\n",
       "    </tr>\n",
       "    <tr>\n",
       "      <th>3538</th>\n",
       "      <td>dogecoin</td>\n",
       "      <td>doge</td>\n",
       "      <td>Dogecoin</td>\n",
       "    </tr>\n",
       "    <tr>\n",
       "      <th>4087</th>\n",
       "      <td>ethereum</td>\n",
       "      <td>eth</td>\n",
       "      <td>Ethereum</td>\n",
       "    </tr>\n",
       "    <tr>\n",
       "      <th>4102</th>\n",
       "      <td>ethereum-wormhole</td>\n",
       "      <td>eth</td>\n",
       "      <td>Ethereum (Wormhole)</td>\n",
       "    </tr>\n",
       "  </tbody>\n",
       "</table>\n",
       "</div>"
      ],
      "text/plain": [
       "                        id symbol                  name\n",
       "1454  binance-peg-dogecoin   doge  Binance-Peg Dogecoin\n",
       "1517               bitcoin    btc               Bitcoin\n",
       "3538              dogecoin   doge              Dogecoin\n",
       "4087              ethereum    eth              Ethereum\n",
       "4102     ethereum-wormhole    eth   Ethereum (Wormhole)"
      ]
     },
     "execution_count": 56,
     "metadata": {},
     "output_type": "execute_result"
    }
   ],
   "source": [
    "df.loc[ (df.symbol == 'btc') | (df.symbol == 'eth') | (df.symbol == 'doge') ]"
   ]
  },
  {
   "cell_type": "markdown",
   "metadata": {},
   "source": [
    "### Endpoint - /coins/markets\n",
    "Use this to obtain all the coins market data (price, market cap, volume)\n"
   ]
  },
  {
   "cell_type": "code",
   "execution_count": 57,
   "metadata": {},
   "outputs": [
    {
     "data": {
      "text/plain": [
       "200"
      ]
     },
     "execution_count": 57,
     "metadata": {},
     "output_type": "execute_result"
    }
   ],
   "source": [
    "import requests\n",
    "\n",
    "ROOT_URL = \"https://api.coingecko.com/api/v3\"\n",
    "endpoint = \"/coins/markets\"\n",
    "payload = {'vs_currency': 'usd', 'ids': 'bitcoin, dogecoin, ethereum'}\n",
    "res = requests.get(ROOT_URL + endpoint, params=payload)\n",
    "\n",
    "res.status_code"
   ]
  },
  {
   "cell_type": "code",
   "execution_count": 58,
   "metadata": {
    "scrolled": false
   },
   "outputs": [
    {
     "data": {
      "text/plain": [
       "[{'id': 'bitcoin',\n",
       "  'symbol': 'btc',\n",
       "  'name': 'Bitcoin',\n",
       "  'image': 'https://assets.coingecko.com/coins/images/1/large/bitcoin.png?1547033579',\n",
       "  'current_price': 16951.51,\n",
       "  'market_cap': 325871867761,\n",
       "  'market_cap_rank': 1,\n",
       "  'fully_diluted_valuation': 355938964297,\n",
       "  'total_volume': 20531981682,\n",
       "  'high_24h': 17112.67,\n",
       "  'low_24h': 16906.82,\n",
       "  'price_change_24h': -150.0822364388332,\n",
       "  'price_change_percentage_24h': -0.87759,\n",
       "  'market_cap_change_24h': -3035232295.502136,\n",
       "  'market_cap_change_percentage_24h': -0.92282,\n",
       "  'circulating_supply': 19226075.0,\n",
       "  'total_supply': 21000000.0,\n",
       "  'max_supply': 21000000.0,\n",
       "  'ath': 69045,\n",
       "  'ath_change_percentage': -75.43414,\n",
       "  'ath_date': '2021-11-10T14:24:11.849Z',\n",
       "  'atl': 67.81,\n",
       "  'atl_change_percentage': 24913.55566,\n",
       "  'atl_date': '2013-07-06T00:00:00.000Z',\n",
       "  'roi': None,\n",
       "  'last_updated': '2022-12-06T18:36:06.359Z'},\n",
       " {'id': 'ethereum',\n",
       "  'symbol': 'eth',\n",
       "  'name': 'Ethereum',\n",
       "  'image': 'https://assets.coingecko.com/coins/images/279/large/ethereum.png?1595348880',\n",
       "  'current_price': 1249.26,\n",
       "  'market_cap': 150721558298,\n",
       "  'market_cap_rank': 2,\n",
       "  'fully_diluted_valuation': 150721558298,\n",
       "  'total_volume': 4620948858,\n",
       "  'high_24h': 1269.67,\n",
       "  'low_24h': 1248.07,\n",
       "  'price_change_24h': -19.051506608449927,\n",
       "  'price_change_percentage_24h': -1.50212,\n",
       "  'market_cap_change_24h': -2233007851.295746,\n",
       "  'market_cap_change_percentage_24h': -1.45992,\n",
       "  'circulating_supply': 120522870.38892,\n",
       "  'total_supply': 120522870.38892,\n",
       "  'max_supply': None,\n",
       "  'ath': 4878.26,\n",
       "  'ath_change_percentage': -74.34011,\n",
       "  'ath_date': '2021-11-10T14:24:19.604Z',\n",
       "  'atl': 0.432979,\n",
       "  'atl_change_percentage': 289003.3297,\n",
       "  'atl_date': '2015-10-20T00:00:00.000Z',\n",
       "  'roi': {'times': 97.52444231449397,\n",
       "   'currency': 'btc',\n",
       "   'percentage': 9752.444231449397},\n",
       "  'last_updated': '2022-12-06T18:36:10.088Z'},\n",
       " {'id': 'dogecoin',\n",
       "  'symbol': 'doge',\n",
       "  'name': 'Dogecoin',\n",
       "  'image': 'https://assets.coingecko.com/coins/images/5/large/dogecoin.png?1547792256',\n",
       "  'current_price': 0.098655,\n",
       "  'market_cap': 13575241149,\n",
       "  'market_cap_rank': 8,\n",
       "  'fully_diluted_valuation': None,\n",
       "  'total_volume': 816681529,\n",
       "  'high_24h': 0.103524,\n",
       "  'low_24h': 0.098695,\n",
       "  'price_change_24h': -0.004735496304608637,\n",
       "  'price_change_percentage_24h': -4.58023,\n",
       "  'market_cap_change_24h': -620453424.0658875,\n",
       "  'market_cap_change_percentage_24h': -4.37072,\n",
       "  'circulating_supply': 137196236383.705,\n",
       "  'total_supply': None,\n",
       "  'max_supply': None,\n",
       "  'ath': 0.731578,\n",
       "  'ath_change_percentage': -86.47268,\n",
       "  'ath_date': '2021-05-08T05:08:23.458Z',\n",
       "  'atl': 8.69e-05,\n",
       "  'atl_change_percentage': 113776.42076,\n",
       "  'atl_date': '2015-05-06T00:00:00.000Z',\n",
       "  'roi': None,\n",
       "  'last_updated': '2022-12-06T18:36:23.134Z'}]"
      ]
     },
     "execution_count": 58,
     "metadata": {},
     "output_type": "execute_result"
    }
   ],
   "source": [
    "res.json()"
   ]
  },
  {
   "cell_type": "markdown",
   "metadata": {},
   "source": [
    "### Endpoint - /coins/{id}/history\n",
    "Get historical data (name, price, market, stats) at a given date for a coin"
   ]
  },
  {
   "cell_type": "code",
   "execution_count": 59,
   "metadata": {},
   "outputs": [
    {
     "data": {
      "text/plain": [
       "200"
      ]
     },
     "execution_count": 59,
     "metadata": {},
     "output_type": "execute_result"
    }
   ],
   "source": [
    "import requests\n",
    "\n",
    "ROOT_URL = \"https://api.coingecko.com/api/v3\"\n",
    "uid = \"bitcoin\"\n",
    "endpoint = f\"/coins/{uid}/history\"\n",
    "payload = {'date': '03-12-2022'}\n",
    "res = requests.get(ROOT_URL + endpoint, params=payload)\n",
    "\n",
    "res.status_code"
   ]
  },
  {
   "cell_type": "code",
   "execution_count": 60,
   "metadata": {},
   "outputs": [
    {
     "data": {
      "text/plain": [
       "{'id': 'bitcoin',\n",
       " 'symbol': 'btc',\n",
       " 'name': 'Bitcoin',\n",
       " 'localization': {'en': 'Bitcoin',\n",
       "  'de': 'Bitcoin',\n",
       "  'es': 'Bitcoin',\n",
       "  'fr': 'Bitcoin',\n",
       "  'it': 'Bitcoin',\n",
       "  'pl': 'Bitcoin',\n",
       "  'ro': 'Bitcoin',\n",
       "  'hu': 'Bitcoin',\n",
       "  'nl': 'Bitcoin',\n",
       "  'pt': 'Bitcoin',\n",
       "  'sv': 'Bitcoin',\n",
       "  'vi': 'Bitcoin',\n",
       "  'tr': 'Bitcoin',\n",
       "  'ru': 'Биткоин',\n",
       "  'ja': 'ビットコイン',\n",
       "  'zh': '比特币',\n",
       "  'zh-tw': '比特幣',\n",
       "  'ko': '비트코인',\n",
       "  'ar': 'بيتكوين',\n",
       "  'th': 'บิตคอยน์',\n",
       "  'id': 'Bitcoin',\n",
       "  'cs': 'Bitcoin',\n",
       "  'da': 'Bitcoin',\n",
       "  'el': 'Bitcoin',\n",
       "  'hi': 'Bitcoin',\n",
       "  'no': 'Bitcoin',\n",
       "  'sk': 'Bitcoin',\n",
       "  'uk': 'Bitcoin',\n",
       "  'he': 'Bitcoin',\n",
       "  'fi': 'Bitcoin',\n",
       "  'bg': 'Bitcoin',\n",
       "  'hr': 'Bitcoin',\n",
       "  'lt': 'Bitcoin',\n",
       "  'sl': 'Bitcoin'},\n",
       " 'image': {'thumb': 'https://assets.coingecko.com/coins/images/1/thumb/bitcoin.png?1547033579',\n",
       "  'small': 'https://assets.coingecko.com/coins/images/1/small/bitcoin.png?1547033579'},\n",
       " 'market_data': {'current_price': {'aed': 62752.73977954881,\n",
       "   'ars': 2872478.387943467,\n",
       "   'aud': 25140.35695075591,\n",
       "   'bch': 152.54783391071712,\n",
       "   'bdt': 1751500.3649328984,\n",
       "   'bhd': 6441.185182964188,\n",
       "   'bmd': 17084.87334047068,\n",
       "   'bnb': 58.33547529565929,\n",
       "   'brl': 89172.78791325266,\n",
       "   'btc': 1.0,\n",
       "   'cad': 23011.479223293256,\n",
       "   'chf': 15991.441446680497,\n",
       "   'clp': 15094485.59630579,\n",
       "   'cny': 120014.40126747015,\n",
       "   'czk': 394942.4745749905,\n",
       "   'dkk': 120535.48990435479,\n",
       "   'dot': 3033.1274901900456,\n",
       "   'eos': 18103.82357602252,\n",
       "   'eth': 13.19910212750188,\n",
       "   'eur': 16214.672401747104,\n",
       "   'gbp': 13896.64804153212,\n",
       "   'hkd': 133095.43454060185,\n",
       "   'huf': 6645161.485776066,\n",
       "   'idr': 262700429.45774558,\n",
       "   'ils': 58191.93284131015,\n",
       "   'inr': 1391076.0146911354,\n",
       "   'jpy': 2294754.7124957927,\n",
       "   'krw': 22182145.30160005,\n",
       "   'kwd': 5244.031023124066,\n",
       "   'lkr': 6299996.848940683,\n",
       "   'ltc': 219.1401326048987,\n",
       "   'mmk': 35902214.753246084,\n",
       "   'mxn': 331297.9044070688,\n",
       "   'myr': 74959.8817813151,\n",
       "   'ngn': 7588588.191636857,\n",
       "   'nok': 166779.11657500695,\n",
       "   'nzd': 26636.85517639446,\n",
       "   'php': 953703.3084297038,\n",
       "   'pkr': 3821886.166263292,\n",
       "   'pln': 75805.65135116172,\n",
       "   'rub': 1067804.4129306844,\n",
       "   'sar': 64220.09121126841,\n",
       "   'sek': 176421.81908836812,\n",
       "   'sgd': 23103.874218318466,\n",
       "   'thb': 593215.9833448067,\n",
       "   'try': 318357.83842387004,\n",
       "   'twd': 521994.1351714007,\n",
       "   'uah': 628203.5316579364,\n",
       "   'usd': 17084.87334047068,\n",
       "   'vef': 1710.7083675813242,\n",
       "   'vnd': 418792957.75828683,\n",
       "   'xag': 737.8961921211285,\n",
       "   'xau': 9.502435703236383,\n",
       "   'xdr': 12943.653806600665,\n",
       "   'xlm': 193225.71150272954,\n",
       "   'xrp': 42958.100134134176,\n",
       "   'yfi': 2.505159929240537,\n",
       "   'zar': 299497.8296584508,\n",
       "   'bits': 1000330.6902296107,\n",
       "   'link': 2249.879992881639,\n",
       "   'sats': 100033069.02296107},\n",
       "  'market_cap': {'aed': 1205399137187.1968,\n",
       "   'ars': 55176602369548.65,\n",
       "   'aud': 482913808759.2389,\n",
       "   'bch': 2934402628.772508,\n",
       "   'bdt': 33644061376284.82,\n",
       "   'bhd': 123726853827.95604,\n",
       "   'bmd': 328178365692.1309,\n",
       "   'bnb': 1121156819.3527198,\n",
       "   'brl': 1712894161893.5095,\n",
       "   'btc': 19222812.0,\n",
       "   'cad': 442020815323.8067,\n",
       "   'chf': 307240585960.97314,\n",
       "   'clp': 289945586088998.0,\n",
       "   'cny': 2305321747640.936,\n",
       "   'czk': 7586335190522.144,\n",
       "   'dkk': 2315331187794.557,\n",
       "   'dot': 58247796406.822426,\n",
       "   'eos': 347693189044.9297,\n",
       "   'eth': 253909339.1857175,\n",
       "   'eur': 311462928813.96814,\n",
       "   'gbp': 266811636734.6288,\n",
       "   'hkd': 2556591513333.1323,\n",
       "   'huf': 127644975335954.33,\n",
       "   'idr': 5046136186555351,\n",
       "   'ils': 1117791922465.6833,\n",
       "   'inr': 26720774802201.902,\n",
       "   'jpy': 44079276223094.15,\n",
       "   'krw': 426090381096378.2,\n",
       "   'kwd': 100731067565.54265,\n",
       "   'lkr': 121014808160934.89,\n",
       "   'ltc': 4210254467.9113903,\n",
       "   'mmk': 689635206983842.0,\n",
       "   'mxn': 6363805142645.822,\n",
       "   'myr': 1439882579474.2249,\n",
       "   'ngn': 145766984689473.9,\n",
       "   'nok': 3203611570213.445,\n",
       "   'nzd': 511659608166.9448,\n",
       "   'php': 18319409625018.395,\n",
       "   'pkr': 73413500405329.66,\n",
       "   'pln': 1456128721289.4487,\n",
       "   'rub': 20511144573974.61,\n",
       "   'sar': 1233585064303.0322,\n",
       "   'sek': 3388835439810.075,\n",
       "   'sgd': 443795603925.46814,\n",
       "   'thb': 11394913385479.393,\n",
       "   'try': 6115243176648.961,\n",
       "   'twd': 10026833606991.678,\n",
       "   'uah': 12066979030694.238,\n",
       "   'usd': 328178365692.1309,\n",
       "   'vef': 32860499756.75317,\n",
       "   'vnd': 8044472189028364,\n",
       "   'xag': 14174033459.594116,\n",
       "   'xau': 182529525.2143063,\n",
       "   'xdr': 248630883453.649,\n",
       "   'xlm': 3709550451723.558,\n",
       "   'xrp': 826121751629.2966,\n",
       "   'yfi': 48092604.22359343,\n",
       "   'zar': 5752966750583.055,\n",
       "   'bits': 19224641632983.227,\n",
       "   'link': 43277577608.06625,\n",
       "   'sats': 1922464163298322.8},\n",
       "  'total_volume': {'aed': 76932576039.34265,\n",
       "   'ars': 3521554003509.0093,\n",
       "   'aud': 30821163021.16542,\n",
       "   'bch': 187018094.71907714,\n",
       "   'bdt': 2147275728223.2795,\n",
       "   'bhd': 7896658705.463817,\n",
       "   'bmd': 20945433171.615204,\n",
       "   'bnb': 71517170.4811702,\n",
       "   'brl': 109322593895.9284,\n",
       "   'btc': 1226369.0344187706,\n",
       "   'cad': 28211236375.383175,\n",
       "   'chf': 19604925448.631763,\n",
       "   'clp': 18505290207121.97,\n",
       "   'cny': 147133289857.32794,\n",
       "   'czk': 484185105911.64294,\n",
       "   'dkk': 147772125569.06256,\n",
       "   'dot': 3718503958.485555,\n",
       "   'eos': 22194629091.224213,\n",
       "   'eth': 16181619.027987381,\n",
       "   'eur': 19878598478.452106,\n",
       "   'gbp': 17036784942.026937,\n",
       "   'hkd': 163170160765.17554,\n",
       "   'huf': 8146726232099.729,\n",
       "   'idr': 322061169533390.1,\n",
       "   'ils': 71341192654.17996,\n",
       "   'inr': 1705408586982.67,\n",
       "   'jpy': 2813285794865.9243,\n",
       "   'krw': 27194503158366.53,\n",
       "   'kwd': 6428991257.695566,\n",
       "   'lkr': 7723566944350.441,\n",
       "   'ltc': 268657830.30548054,\n",
       "   'mmk': 44014809173082.02,\n",
       "   'mxn': 406159178260.7416,\n",
       "   'myr': 91898088040.46172,\n",
       "   'ngn': 9303333051836.32,\n",
       "   'nok': 204465129534.67368,\n",
       "   'nzd': 32655815403.533585,\n",
       "   'php': 1169205560625.6174,\n",
       "   'pkr': 4685493400490.323,\n",
       "   'pln': 92934970764.18932,\n",
       "   'rub': 1309089363771.6191,\n",
       "   'sar': 78731495512.71992,\n",
       "   'sek': 216286732016.7327,\n",
       "   'sgd': 28324509277.9752,\n",
       "   'thb': 727261214518.3362,\n",
       "   'try': 390295128121.9939,\n",
       "   'twd': 639945819692.3594,\n",
       "   'uah': 770154675911.1923,\n",
       "   'usd': 20945433171.615204,\n",
       "   'vef': 2097266223.4738245,\n",
       "   'vnd': 513424930619216.9,\n",
       "   'xag': 904633887.0450554,\n",
       "   'xau': 11649640.475720655,\n",
       "   'xdr': 15868448679.714241,\n",
       "   'xlm': 236887692794.96002,\n",
       "   'xrp': 52665067958.54732,\n",
       "   'yfi': 3071234.9361011055,\n",
       "   'zar': 367173443498.4143,\n",
       "   'bits': 1226369034418.7708,\n",
       "   'link': 2758271021.1510525,\n",
       "   'sats': 122636903441877.06}},\n",
       " 'community_data': {'facebook_likes': None,\n",
       "  'twitter_followers': 5669386,\n",
       "  'reddit_average_posts_48h': 7.5,\n",
       "  'reddit_average_comments_48h': 636.0,\n",
       "  'reddit_subscribers': 4732935,\n",
       "  'reddit_accounts_active_48h': '11755.5454545455'},\n",
       " 'developer_data': {'forks': None,\n",
       "  'stars': None,\n",
       "  'subscribers': None,\n",
       "  'total_issues': None,\n",
       "  'closed_issues': None,\n",
       "  'pull_requests_merged': None,\n",
       "  'pull_request_contributors': None,\n",
       "  'code_additions_deletions_4_weeks': {'additions': None, 'deletions': None},\n",
       "  'commit_count_4_weeks': None},\n",
       " 'public_interest_stats': {'alexa_rank': None, 'bing_matches': None}}"
      ]
     },
     "execution_count": 60,
     "metadata": {},
     "output_type": "execute_result"
    }
   ],
   "source": [
    "res.json()"
   ]
  },
  {
   "cell_type": "code",
   "execution_count": 61,
   "metadata": {},
   "outputs": [
    {
     "data": {
      "text/html": [
       "<div>\n",
       "<style scoped>\n",
       "    .dataframe tbody tr th:only-of-type {\n",
       "        vertical-align: middle;\n",
       "    }\n",
       "\n",
       "    .dataframe tbody tr th {\n",
       "        vertical-align: top;\n",
       "    }\n",
       "\n",
       "    .dataframe thead th {\n",
       "        text-align: right;\n",
       "    }\n",
       "</style>\n",
       "<table border=\"1\" class=\"dataframe\">\n",
       "  <thead>\n",
       "    <tr style=\"text-align: right;\">\n",
       "      <th></th>\n",
       "      <th>id</th>\n",
       "      <th>symbol</th>\n",
       "      <th>name</th>\n",
       "      <th>localization</th>\n",
       "      <th>image</th>\n",
       "      <th>market_data</th>\n",
       "      <th>community_data</th>\n",
       "      <th>developer_data</th>\n",
       "      <th>public_interest_stats</th>\n",
       "    </tr>\n",
       "  </thead>\n",
       "  <tbody>\n",
       "    <tr>\n",
       "      <th>en</th>\n",
       "      <td>bitcoin</td>\n",
       "      <td>btc</td>\n",
       "      <td>Bitcoin</td>\n",
       "      <td>Bitcoin</td>\n",
       "      <td>NaN</td>\n",
       "      <td>NaN</td>\n",
       "      <td>NaN</td>\n",
       "      <td>NaN</td>\n",
       "      <td>NaN</td>\n",
       "    </tr>\n",
       "    <tr>\n",
       "      <th>de</th>\n",
       "      <td>bitcoin</td>\n",
       "      <td>btc</td>\n",
       "      <td>Bitcoin</td>\n",
       "      <td>Bitcoin</td>\n",
       "      <td>NaN</td>\n",
       "      <td>NaN</td>\n",
       "      <td>NaN</td>\n",
       "      <td>NaN</td>\n",
       "      <td>NaN</td>\n",
       "    </tr>\n",
       "    <tr>\n",
       "      <th>es</th>\n",
       "      <td>bitcoin</td>\n",
       "      <td>btc</td>\n",
       "      <td>Bitcoin</td>\n",
       "      <td>Bitcoin</td>\n",
       "      <td>NaN</td>\n",
       "      <td>NaN</td>\n",
       "      <td>NaN</td>\n",
       "      <td>NaN</td>\n",
       "      <td>NaN</td>\n",
       "    </tr>\n",
       "    <tr>\n",
       "      <th>fr</th>\n",
       "      <td>bitcoin</td>\n",
       "      <td>btc</td>\n",
       "      <td>Bitcoin</td>\n",
       "      <td>Bitcoin</td>\n",
       "      <td>NaN</td>\n",
       "      <td>NaN</td>\n",
       "      <td>NaN</td>\n",
       "      <td>NaN</td>\n",
       "      <td>NaN</td>\n",
       "    </tr>\n",
       "    <tr>\n",
       "      <th>it</th>\n",
       "      <td>bitcoin</td>\n",
       "      <td>btc</td>\n",
       "      <td>Bitcoin</td>\n",
       "      <td>Bitcoin</td>\n",
       "      <td>NaN</td>\n",
       "      <td>NaN</td>\n",
       "      <td>NaN</td>\n",
       "      <td>NaN</td>\n",
       "      <td>NaN</td>\n",
       "    </tr>\n",
       "  </tbody>\n",
       "</table>\n",
       "</div>"
      ],
      "text/plain": [
       "         id symbol     name localization image market_data  community_data  \\\n",
       "en  bitcoin    btc  Bitcoin      Bitcoin   NaN         NaN             NaN   \n",
       "de  bitcoin    btc  Bitcoin      Bitcoin   NaN         NaN             NaN   \n",
       "es  bitcoin    btc  Bitcoin      Bitcoin   NaN         NaN             NaN   \n",
       "fr  bitcoin    btc  Bitcoin      Bitcoin   NaN         NaN             NaN   \n",
       "it  bitcoin    btc  Bitcoin      Bitcoin   NaN         NaN             NaN   \n",
       "\n",
       "   developer_data  public_interest_stats  \n",
       "en            NaN                    NaN  \n",
       "de            NaN                    NaN  \n",
       "es            NaN                    NaN  \n",
       "fr            NaN                    NaN  \n",
       "it            NaN                    NaN  "
      ]
     },
     "execution_count": 61,
     "metadata": {},
     "output_type": "execute_result"
    }
   ],
   "source": [
    "df = pd.read_json('https://api.coingecko.com/api/v3/coins/bitcoin/history?date=01-11-2022')\n",
    "\n",
    "df.head()"
   ]
  },
  {
   "cell_type": "code",
   "execution_count": 62,
   "metadata": {},
   "outputs": [
    {
     "data": {
      "text/plain": [
       "(56, 9)"
      ]
     },
     "execution_count": 62,
     "metadata": {},
     "output_type": "execute_result"
    }
   ],
   "source": [
    "df.shape"
   ]
  },
  {
   "cell_type": "code",
   "execution_count": 63,
   "metadata": {},
   "outputs": [],
   "source": [
    "file_name = 'data/bitcoin_history_01_11_2022.json'\n",
    "\n",
    "data = res.json()\n",
    "\n",
    "with open(file_name, 'w') as f:\n",
    "    json.dump(data, f)"
   ]
  },
  {
   "cell_type": "code",
   "execution_count": 64,
   "metadata": {},
   "outputs": [
    {
     "data": {
      "text/plain": [
       "dict_keys(['id', 'symbol', 'name', 'localization', 'image', 'market_data', 'community_data', 'developer_data', 'public_interest_stats'])"
      ]
     },
     "execution_count": 64,
     "metadata": {},
     "output_type": "execute_result"
    }
   ],
   "source": [
    "## Look at the json and try to see that you need market_data containing current_price, market_cap and total_volume\n",
    "\n",
    "data.keys()"
   ]
  },
  {
   "cell_type": "code",
   "execution_count": 65,
   "metadata": {},
   "outputs": [
    {
     "name": "stdout",
     "output_type": "stream",
     "text": [
      "{'current_price': {'aed': 62752.73977954881, 'ars': 2872478.387943467, 'aud': 25140.35695075591, 'bch': 152.54783391071712, 'bdt': 1751500.3649328984, 'bhd': 6441.185182964188, 'bmd': 17084.87334047068, 'bnb': 58.33547529565929, 'brl': 89172.78791325266, 'btc': 1.0, 'cad': 23011.479223293256, 'chf': 15991.441446680497, 'clp': 15094485.59630579, 'cny': 120014.40126747015, 'czk': 394942.4745749905, 'dkk': 120535.48990435479, 'dot': 3033.1274901900456, 'eos': 18103.82357602252, 'eth': 13.19910212750188, 'eur': 16214.672401747104, 'gbp': 13896.64804153212, 'hkd': 133095.43454060185, 'huf': 6645161.485776066, 'idr': 262700429.45774558, 'ils': 58191.93284131015, 'inr': 1391076.0146911354, 'jpy': 2294754.7124957927, 'krw': 22182145.30160005, 'kwd': 5244.031023124066, 'lkr': 6299996.848940683, 'ltc': 219.1401326048987, 'mmk': 35902214.753246084, 'mxn': 331297.9044070688, 'myr': 74959.8817813151, 'ngn': 7588588.191636857, 'nok': 166779.11657500695, 'nzd': 26636.85517639446, 'php': 953703.3084297038, 'pkr': 3821886.166263292, 'pln': 75805.65135116172, 'rub': 1067804.4129306844, 'sar': 64220.09121126841, 'sek': 176421.81908836812, 'sgd': 23103.874218318466, 'thb': 593215.9833448067, 'try': 318357.83842387004, 'twd': 521994.1351714007, 'uah': 628203.5316579364, 'usd': 17084.87334047068, 'vef': 1710.7083675813242, 'vnd': 418792957.75828683, 'xag': 737.8961921211285, 'xau': 9.502435703236383, 'xdr': 12943.653806600665, 'xlm': 193225.71150272954, 'xrp': 42958.100134134176, 'yfi': 2.505159929240537, 'zar': 299497.8296584508, 'bits': 1000330.6902296107, 'link': 2249.879992881639, 'sats': 100033069.02296107}, 'market_cap': {'aed': 1205399137187.1968, 'ars': 55176602369548.65, 'aud': 482913808759.2389, 'bch': 2934402628.772508, 'bdt': 33644061376284.82, 'bhd': 123726853827.95604, 'bmd': 328178365692.1309, 'bnb': 1121156819.3527198, 'brl': 1712894161893.5095, 'btc': 19222812.0, 'cad': 442020815323.8067, 'chf': 307240585960.97314, 'clp': 289945586088998.0, 'cny': 2305321747640.936, 'czk': 7586335190522.144, 'dkk': 2315331187794.557, 'dot': 58247796406.822426, 'eos': 347693189044.9297, 'eth': 253909339.1857175, 'eur': 311462928813.96814, 'gbp': 266811636734.6288, 'hkd': 2556591513333.1323, 'huf': 127644975335954.33, 'idr': 5046136186555351, 'ils': 1117791922465.6833, 'inr': 26720774802201.902, 'jpy': 44079276223094.15, 'krw': 426090381096378.2, 'kwd': 100731067565.54265, 'lkr': 121014808160934.89, 'ltc': 4210254467.9113903, 'mmk': 689635206983842.0, 'mxn': 6363805142645.822, 'myr': 1439882579474.2249, 'ngn': 145766984689473.9, 'nok': 3203611570213.445, 'nzd': 511659608166.9448, 'php': 18319409625018.395, 'pkr': 73413500405329.66, 'pln': 1456128721289.4487, 'rub': 20511144573974.61, 'sar': 1233585064303.0322, 'sek': 3388835439810.075, 'sgd': 443795603925.46814, 'thb': 11394913385479.393, 'try': 6115243176648.961, 'twd': 10026833606991.678, 'uah': 12066979030694.238, 'usd': 328178365692.1309, 'vef': 32860499756.75317, 'vnd': 8044472189028364, 'xag': 14174033459.594116, 'xau': 182529525.2143063, 'xdr': 248630883453.649, 'xlm': 3709550451723.558, 'xrp': 826121751629.2966, 'yfi': 48092604.22359343, 'zar': 5752966750583.055, 'bits': 19224641632983.227, 'link': 43277577608.06625, 'sats': 1922464163298322.8}, 'total_volume': {'aed': 76932576039.34265, 'ars': 3521554003509.0093, 'aud': 30821163021.16542, 'bch': 187018094.71907714, 'bdt': 2147275728223.2795, 'bhd': 7896658705.463817, 'bmd': 20945433171.615204, 'bnb': 71517170.4811702, 'brl': 109322593895.9284, 'btc': 1226369.0344187706, 'cad': 28211236375.383175, 'chf': 19604925448.631763, 'clp': 18505290207121.97, 'cny': 147133289857.32794, 'czk': 484185105911.64294, 'dkk': 147772125569.06256, 'dot': 3718503958.485555, 'eos': 22194629091.224213, 'eth': 16181619.027987381, 'eur': 19878598478.452106, 'gbp': 17036784942.026937, 'hkd': 163170160765.17554, 'huf': 8146726232099.729, 'idr': 322061169533390.1, 'ils': 71341192654.17996, 'inr': 1705408586982.67, 'jpy': 2813285794865.9243, 'krw': 27194503158366.53, 'kwd': 6428991257.695566, 'lkr': 7723566944350.441, 'ltc': 268657830.30548054, 'mmk': 44014809173082.02, 'mxn': 406159178260.7416, 'myr': 91898088040.46172, 'ngn': 9303333051836.32, 'nok': 204465129534.67368, 'nzd': 32655815403.533585, 'php': 1169205560625.6174, 'pkr': 4685493400490.323, 'pln': 92934970764.18932, 'rub': 1309089363771.6191, 'sar': 78731495512.71992, 'sek': 216286732016.7327, 'sgd': 28324509277.9752, 'thb': 727261214518.3362, 'try': 390295128121.9939, 'twd': 639945819692.3594, 'uah': 770154675911.1923, 'usd': 20945433171.615204, 'vef': 2097266223.4738245, 'vnd': 513424930619216.9, 'xag': 904633887.0450554, 'xau': 11649640.475720655, 'xdr': 15868448679.714241, 'xlm': 236887692794.96002, 'xrp': 52665067958.54732, 'yfi': 3071234.9361011055, 'zar': 367173443498.4143, 'bits': 1226369034418.7708, 'link': 2758271021.1510525, 'sats': 122636903441877.06}}\n"
     ]
    }
   ],
   "source": [
    "market_data = data['market_data']\n",
    "\n",
    "print(market_data)"
   ]
  },
  {
   "cell_type": "code",
   "execution_count": 66,
   "metadata": {
    "scrolled": true
   },
   "outputs": [
    {
     "data": {
      "text/html": [
       "<div>\n",
       "<style scoped>\n",
       "    .dataframe tbody tr th:only-of-type {\n",
       "        vertical-align: middle;\n",
       "    }\n",
       "\n",
       "    .dataframe tbody tr th {\n",
       "        vertical-align: top;\n",
       "    }\n",
       "\n",
       "    .dataframe thead th {\n",
       "        text-align: right;\n",
       "    }\n",
       "</style>\n",
       "<table border=\"1\" class=\"dataframe\">\n",
       "  <thead>\n",
       "    <tr style=\"text-align: right;\">\n",
       "      <th></th>\n",
       "      <th>current_price</th>\n",
       "      <th>market_cap</th>\n",
       "      <th>total_volume</th>\n",
       "    </tr>\n",
       "  </thead>\n",
       "  <tbody>\n",
       "    <tr>\n",
       "      <th>aed</th>\n",
       "      <td>6.275274e+04</td>\n",
       "      <td>1.205399e+12</td>\n",
       "      <td>7.693258e+10</td>\n",
       "    </tr>\n",
       "    <tr>\n",
       "      <th>ars</th>\n",
       "      <td>2.872478e+06</td>\n",
       "      <td>5.517660e+13</td>\n",
       "      <td>3.521554e+12</td>\n",
       "    </tr>\n",
       "    <tr>\n",
       "      <th>aud</th>\n",
       "      <td>2.514036e+04</td>\n",
       "      <td>4.829138e+11</td>\n",
       "      <td>3.082116e+10</td>\n",
       "    </tr>\n",
       "    <tr>\n",
       "      <th>bch</th>\n",
       "      <td>1.525478e+02</td>\n",
       "      <td>2.934403e+09</td>\n",
       "      <td>1.870181e+08</td>\n",
       "    </tr>\n",
       "    <tr>\n",
       "      <th>bdt</th>\n",
       "      <td>1.751500e+06</td>\n",
       "      <td>3.364406e+13</td>\n",
       "      <td>2.147276e+12</td>\n",
       "    </tr>\n",
       "  </tbody>\n",
       "</table>\n",
       "</div>"
      ],
      "text/plain": [
       "     current_price    market_cap  total_volume\n",
       "aed   6.275274e+04  1.205399e+12  7.693258e+10\n",
       "ars   2.872478e+06  5.517660e+13  3.521554e+12\n",
       "aud   2.514036e+04  4.829138e+11  3.082116e+10\n",
       "bch   1.525478e+02  2.934403e+09  1.870181e+08\n",
       "bdt   1.751500e+06  3.364406e+13  2.147276e+12"
      ]
     },
     "execution_count": 66,
     "metadata": {},
     "output_type": "execute_result"
    }
   ],
   "source": [
    "df = pd.DataFrame(market_data)\n",
    "\n",
    "df.head()"
   ]
  },
  {
   "cell_type": "code",
   "execution_count": 67,
   "metadata": {},
   "outputs": [
    {
     "data": {
      "text/plain": [
       "(61, 3)"
      ]
     },
     "execution_count": 67,
     "metadata": {},
     "output_type": "execute_result"
    }
   ],
   "source": [
    "df.shape"
   ]
  },
  {
   "cell_type": "markdown",
   "metadata": {},
   "source": [
    "### Endpoint - coins/{id}/market_chart\n",
    "Get historical market data include price, market cap, and 24h volume (granularity auto)\n",
    "\n",
    "- Data granularity is automatic (cannot be adjusted)\n",
    "- 1 day from current time = 5 minute interval data\n",
    "- 1 - 90 days from current time = hourly data\n",
    "- Above 90 days from current time = daily data (00:00 UTC)"
   ]
  },
  {
   "cell_type": "code",
   "execution_count": 68,
   "metadata": {},
   "outputs": [
    {
     "data": {
      "text/plain": [
       "200"
      ]
     },
     "execution_count": 68,
     "metadata": {},
     "output_type": "execute_result"
    }
   ],
   "source": [
    "import requests\n",
    "\n",
    "ROOT_URL = \"https://api.coingecko.com/api/v3\"\n",
    "uid = \"bitcoin\"\n",
    "endpoint = f\"/coins/{uid}/market_chart\"\n",
    "payload = {'vs_currency' : 'usd', 'days' : '1'}\n",
    "res = requests.get(ROOT_URL + endpoint, params=payload)\n",
    "\n",
    "res.status_code"
   ]
  },
  {
   "cell_type": "code",
   "execution_count": 69,
   "metadata": {},
   "outputs": [
    {
     "data": {
      "text/plain": [
       "dict_keys(['prices', 'market_caps', 'total_volumes'])"
      ]
     },
     "execution_count": 69,
     "metadata": {},
     "output_type": "execute_result"
    }
   ],
   "source": [
    "data = res.json()\n",
    "\n",
    "data.keys()"
   ]
  },
  {
   "cell_type": "code",
   "execution_count": 70,
   "metadata": {},
   "outputs": [
    {
     "data": {
      "text/plain": [
       "[[1670265658522, 17101.594363737408],\n",
       " [1670265888179, 17112.670093793087],\n",
       " [1670266200595, 17089.78657946838],\n",
       " [1670266507451, 17073.581261729432],\n",
       " [1670266799280, 17070.092228158217]]"
      ]
     },
     "execution_count": 70,
     "metadata": {},
     "output_type": "execute_result"
    }
   ],
   "source": [
    "res.json()['prices'][:5]"
   ]
  },
  {
   "cell_type": "code",
   "execution_count": 71,
   "metadata": {},
   "outputs": [
    {
     "data": {
      "text/plain": [
       "[[1670265658522, 328907100056.81586],\n",
       " [1670265888179, 328780819491.57245],\n",
       " [1670266200595, 328780819491.57245],\n",
       " [1670266507451, 328565640998.05505],\n",
       " [1670266799280, 328565640998.05505]]"
      ]
     },
     "execution_count": 71,
     "metadata": {},
     "output_type": "execute_result"
    }
   ],
   "source": [
    "res.json()['market_caps'][:5]"
   ]
  },
  {
   "cell_type": "code",
   "execution_count": 72,
   "metadata": {},
   "outputs": [
    {
     "data": {
      "text/html": [
       "<div>\n",
       "<style scoped>\n",
       "    .dataframe tbody tr th:only-of-type {\n",
       "        vertical-align: middle;\n",
       "    }\n",
       "\n",
       "    .dataframe tbody tr th {\n",
       "        vertical-align: top;\n",
       "    }\n",
       "\n",
       "    .dataframe thead th {\n",
       "        text-align: right;\n",
       "    }\n",
       "</style>\n",
       "<table border=\"1\" class=\"dataframe\">\n",
       "  <thead>\n",
       "    <tr style=\"text-align: right;\">\n",
       "      <th></th>\n",
       "      <th>prices</th>\n",
       "      <th>market_caps</th>\n",
       "      <th>total_volumes</th>\n",
       "    </tr>\n",
       "  </thead>\n",
       "  <tbody>\n",
       "    <tr>\n",
       "      <th>0</th>\n",
       "      <td>[1670265658522, 17101.594363737408]</td>\n",
       "      <td>[1670265658522, 328907100056.81586]</td>\n",
       "      <td>[1670265658522, 23238537525.28486]</td>\n",
       "    </tr>\n",
       "    <tr>\n",
       "      <th>1</th>\n",
       "      <td>[1670265888179, 17112.670093793087]</td>\n",
       "      <td>[1670265888179, 328780819491.57245]</td>\n",
       "      <td>[1670265888179, 23314240128.419537]</td>\n",
       "    </tr>\n",
       "    <tr>\n",
       "      <th>2</th>\n",
       "      <td>[1670266200595, 17089.78657946838]</td>\n",
       "      <td>[1670266200595, 328780819491.57245]</td>\n",
       "      <td>[1670266200595, 23168547492.559597]</td>\n",
       "    </tr>\n",
       "    <tr>\n",
       "      <th>3</th>\n",
       "      <td>[1670266507451, 17073.581261729432]</td>\n",
       "      <td>[1670266507451, 328565640998.05505]</td>\n",
       "      <td>[1670266507451, 23127995219.175526]</td>\n",
       "    </tr>\n",
       "    <tr>\n",
       "      <th>4</th>\n",
       "      <td>[1670266799280, 17070.092228158217]</td>\n",
       "      <td>[1670266799280, 328565640998.05505]</td>\n",
       "      <td>[1670266799280, 23043640341.43527]</td>\n",
       "    </tr>\n",
       "  </tbody>\n",
       "</table>\n",
       "</div>"
      ],
      "text/plain": [
       "                                prices                          market_caps  \\\n",
       "0  [1670265658522, 17101.594363737408]  [1670265658522, 328907100056.81586]   \n",
       "1  [1670265888179, 17112.670093793087]  [1670265888179, 328780819491.57245]   \n",
       "2   [1670266200595, 17089.78657946838]  [1670266200595, 328780819491.57245]   \n",
       "3  [1670266507451, 17073.581261729432]  [1670266507451, 328565640998.05505]   \n",
       "4  [1670266799280, 17070.092228158217]  [1670266799280, 328565640998.05505]   \n",
       "\n",
       "                         total_volumes  \n",
       "0   [1670265658522, 23238537525.28486]  \n",
       "1  [1670265888179, 23314240128.419537]  \n",
       "2  [1670266200595, 23168547492.559597]  \n",
       "3  [1670266507451, 23127995219.175526]  \n",
       "4   [1670266799280, 23043640341.43527]  "
      ]
     },
     "execution_count": 72,
     "metadata": {},
     "output_type": "execute_result"
    }
   ],
   "source": [
    "df = pd.DataFrame(data)\n",
    "\n",
    "df.head()"
   ]
  },
  {
   "cell_type": "code",
   "execution_count": 73,
   "metadata": {},
   "outputs": [
    {
     "data": {
      "text/plain": [
       "0      1670265658522\n",
       "1      1670265888179\n",
       "2      1670266200595\n",
       "3      1670266507451\n",
       "4      1670266799280\n",
       "           ...      \n",
       "284    1670350814308\n",
       "285    1670351091674\n",
       "286    1670351391890\n",
       "287    1670351697075\n",
       "288    1670351766000\n",
       "Name: prices, Length: 289, dtype: int64"
      ]
     },
     "execution_count": 73,
     "metadata": {},
     "output_type": "execute_result"
    }
   ],
   "source": [
    "df['prices'].apply(lambda x : x[0])"
   ]
  },
  {
   "cell_type": "code",
   "execution_count": 74,
   "metadata": {},
   "outputs": [
    {
     "data": {
      "text/html": [
       "<div>\n",
       "<style scoped>\n",
       "    .dataframe tbody tr th:only-of-type {\n",
       "        vertical-align: middle;\n",
       "    }\n",
       "\n",
       "    .dataframe tbody tr th {\n",
       "        vertical-align: top;\n",
       "    }\n",
       "\n",
       "    .dataframe thead th {\n",
       "        text-align: right;\n",
       "    }\n",
       "</style>\n",
       "<table border=\"1\" class=\"dataframe\">\n",
       "  <thead>\n",
       "    <tr style=\"text-align: right;\">\n",
       "      <th></th>\n",
       "      <th>prices</th>\n",
       "      <th>market_caps</th>\n",
       "      <th>total_volumes</th>\n",
       "      <th>timestamp</th>\n",
       "    </tr>\n",
       "  </thead>\n",
       "  <tbody>\n",
       "    <tr>\n",
       "      <th>0</th>\n",
       "      <td>[1670265658522, 17101.594363737408]</td>\n",
       "      <td>[1670265658522, 328907100056.81586]</td>\n",
       "      <td>[1670265658522, 23238537525.28486]</td>\n",
       "      <td>1670265658522</td>\n",
       "    </tr>\n",
       "    <tr>\n",
       "      <th>1</th>\n",
       "      <td>[1670265888179, 17112.670093793087]</td>\n",
       "      <td>[1670265888179, 328780819491.57245]</td>\n",
       "      <td>[1670265888179, 23314240128.419537]</td>\n",
       "      <td>1670265888179</td>\n",
       "    </tr>\n",
       "    <tr>\n",
       "      <th>2</th>\n",
       "      <td>[1670266200595, 17089.78657946838]</td>\n",
       "      <td>[1670266200595, 328780819491.57245]</td>\n",
       "      <td>[1670266200595, 23168547492.559597]</td>\n",
       "      <td>1670266200595</td>\n",
       "    </tr>\n",
       "    <tr>\n",
       "      <th>3</th>\n",
       "      <td>[1670266507451, 17073.581261729432]</td>\n",
       "      <td>[1670266507451, 328565640998.05505]</td>\n",
       "      <td>[1670266507451, 23127995219.175526]</td>\n",
       "      <td>1670266507451</td>\n",
       "    </tr>\n",
       "    <tr>\n",
       "      <th>4</th>\n",
       "      <td>[1670266799280, 17070.092228158217]</td>\n",
       "      <td>[1670266799280, 328565640998.05505]</td>\n",
       "      <td>[1670266799280, 23043640341.43527]</td>\n",
       "      <td>1670266799280</td>\n",
       "    </tr>\n",
       "  </tbody>\n",
       "</table>\n",
       "</div>"
      ],
      "text/plain": [
       "                                prices                          market_caps  \\\n",
       "0  [1670265658522, 17101.594363737408]  [1670265658522, 328907100056.81586]   \n",
       "1  [1670265888179, 17112.670093793087]  [1670265888179, 328780819491.57245]   \n",
       "2   [1670266200595, 17089.78657946838]  [1670266200595, 328780819491.57245]   \n",
       "3  [1670266507451, 17073.581261729432]  [1670266507451, 328565640998.05505]   \n",
       "4  [1670266799280, 17070.092228158217]  [1670266799280, 328565640998.05505]   \n",
       "\n",
       "                         total_volumes      timestamp  \n",
       "0   [1670265658522, 23238537525.28486]  1670265658522  \n",
       "1  [1670265888179, 23314240128.419537]  1670265888179  \n",
       "2  [1670266200595, 23168547492.559597]  1670266200595  \n",
       "3  [1670266507451, 23127995219.175526]  1670266507451  \n",
       "4   [1670266799280, 23043640341.43527]  1670266799280  "
      ]
     },
     "execution_count": 74,
     "metadata": {},
     "output_type": "execute_result"
    }
   ],
   "source": [
    "df['timestamp'] = df['prices'].apply(lambda x : x[0])\n",
    "\n",
    "df.head()"
   ]
  },
  {
   "cell_type": "code",
   "execution_count": 75,
   "metadata": {},
   "outputs": [],
   "source": [
    "df['prices'] = df['prices'].apply(lambda x : x[1])\n",
    "df['market_caps'] = df['market_caps'].apply(lambda x : x[1])\n",
    "df['total_volumes'] = df['total_volumes'].apply(lambda x : x[1])"
   ]
  },
  {
   "cell_type": "code",
   "execution_count": 76,
   "metadata": {},
   "outputs": [
    {
     "data": {
      "text/html": [
       "<div>\n",
       "<style scoped>\n",
       "    .dataframe tbody tr th:only-of-type {\n",
       "        vertical-align: middle;\n",
       "    }\n",
       "\n",
       "    .dataframe tbody tr th {\n",
       "        vertical-align: top;\n",
       "    }\n",
       "\n",
       "    .dataframe thead th {\n",
       "        text-align: right;\n",
       "    }\n",
       "</style>\n",
       "<table border=\"1\" class=\"dataframe\">\n",
       "  <thead>\n",
       "    <tr style=\"text-align: right;\">\n",
       "      <th></th>\n",
       "      <th>prices</th>\n",
       "      <th>market_caps</th>\n",
       "      <th>total_volumes</th>\n",
       "      <th>timestamp</th>\n",
       "    </tr>\n",
       "  </thead>\n",
       "  <tbody>\n",
       "    <tr>\n",
       "      <th>0</th>\n",
       "      <td>17101.594364</td>\n",
       "      <td>3.289071e+11</td>\n",
       "      <td>2.323854e+10</td>\n",
       "      <td>1670265658522</td>\n",
       "    </tr>\n",
       "    <tr>\n",
       "      <th>1</th>\n",
       "      <td>17112.670094</td>\n",
       "      <td>3.287808e+11</td>\n",
       "      <td>2.331424e+10</td>\n",
       "      <td>1670265888179</td>\n",
       "    </tr>\n",
       "    <tr>\n",
       "      <th>2</th>\n",
       "      <td>17089.786579</td>\n",
       "      <td>3.287808e+11</td>\n",
       "      <td>2.316855e+10</td>\n",
       "      <td>1670266200595</td>\n",
       "    </tr>\n",
       "    <tr>\n",
       "      <th>3</th>\n",
       "      <td>17073.581262</td>\n",
       "      <td>3.285656e+11</td>\n",
       "      <td>2.312800e+10</td>\n",
       "      <td>1670266507451</td>\n",
       "    </tr>\n",
       "    <tr>\n",
       "      <th>4</th>\n",
       "      <td>17070.092228</td>\n",
       "      <td>3.285656e+11</td>\n",
       "      <td>2.304364e+10</td>\n",
       "      <td>1670266799280</td>\n",
       "    </tr>\n",
       "  </tbody>\n",
       "</table>\n",
       "</div>"
      ],
      "text/plain": [
       "         prices   market_caps  total_volumes      timestamp\n",
       "0  17101.594364  3.289071e+11   2.323854e+10  1670265658522\n",
       "1  17112.670094  3.287808e+11   2.331424e+10  1670265888179\n",
       "2  17089.786579  3.287808e+11   2.316855e+10  1670266200595\n",
       "3  17073.581262  3.285656e+11   2.312800e+10  1670266507451\n",
       "4  17070.092228  3.285656e+11   2.304364e+10  1670266799280"
      ]
     },
     "execution_count": 76,
     "metadata": {},
     "output_type": "execute_result"
    }
   ],
   "source": [
    "df.head()"
   ]
  },
  {
   "cell_type": "code",
   "execution_count": 77,
   "metadata": {},
   "outputs": [
    {
     "data": {
      "text/html": [
       "<div>\n",
       "<style scoped>\n",
       "    .dataframe tbody tr th:only-of-type {\n",
       "        vertical-align: middle;\n",
       "    }\n",
       "\n",
       "    .dataframe tbody tr th {\n",
       "        vertical-align: top;\n",
       "    }\n",
       "\n",
       "    .dataframe thead th {\n",
       "        text-align: right;\n",
       "    }\n",
       "</style>\n",
       "<table border=\"1\" class=\"dataframe\">\n",
       "  <thead>\n",
       "    <tr style=\"text-align: right;\">\n",
       "      <th></th>\n",
       "      <th>timestamp</th>\n",
       "      <th>prices</th>\n",
       "      <th>market_caps</th>\n",
       "      <th>total_volumes</th>\n",
       "    </tr>\n",
       "  </thead>\n",
       "  <tbody>\n",
       "    <tr>\n",
       "      <th>0</th>\n",
       "      <td>1670265658522</td>\n",
       "      <td>17101.594364</td>\n",
       "      <td>3.289071e+11</td>\n",
       "      <td>2.323854e+10</td>\n",
       "    </tr>\n",
       "    <tr>\n",
       "      <th>1</th>\n",
       "      <td>1670265888179</td>\n",
       "      <td>17112.670094</td>\n",
       "      <td>3.287808e+11</td>\n",
       "      <td>2.331424e+10</td>\n",
       "    </tr>\n",
       "    <tr>\n",
       "      <th>2</th>\n",
       "      <td>1670266200595</td>\n",
       "      <td>17089.786579</td>\n",
       "      <td>3.287808e+11</td>\n",
       "      <td>2.316855e+10</td>\n",
       "    </tr>\n",
       "    <tr>\n",
       "      <th>3</th>\n",
       "      <td>1670266507451</td>\n",
       "      <td>17073.581262</td>\n",
       "      <td>3.285656e+11</td>\n",
       "      <td>2.312800e+10</td>\n",
       "    </tr>\n",
       "    <tr>\n",
       "      <th>4</th>\n",
       "      <td>1670266799280</td>\n",
       "      <td>17070.092228</td>\n",
       "      <td>3.285656e+11</td>\n",
       "      <td>2.304364e+10</td>\n",
       "    </tr>\n",
       "  </tbody>\n",
       "</table>\n",
       "</div>"
      ],
      "text/plain": [
       "       timestamp        prices   market_caps  total_volumes\n",
       "0  1670265658522  17101.594364  3.289071e+11   2.323854e+10\n",
       "1  1670265888179  17112.670094  3.287808e+11   2.331424e+10\n",
       "2  1670266200595  17089.786579  3.287808e+11   2.316855e+10\n",
       "3  1670266507451  17073.581262  3.285656e+11   2.312800e+10\n",
       "4  1670266799280  17070.092228  3.285656e+11   2.304364e+10"
      ]
     },
     "execution_count": 77,
     "metadata": {},
     "output_type": "execute_result"
    }
   ],
   "source": [
    "df = df[['timestamp', 'prices', 'market_caps', 'total_volumes']]\n",
    "\n",
    "df.head()"
   ]
  },
  {
   "cell_type": "code",
   "execution_count": 78,
   "metadata": {},
   "outputs": [
    {
     "data": {
      "text/html": [
       "<div>\n",
       "<style scoped>\n",
       "    .dataframe tbody tr th:only-of-type {\n",
       "        vertical-align: middle;\n",
       "    }\n",
       "\n",
       "    .dataframe tbody tr th {\n",
       "        vertical-align: top;\n",
       "    }\n",
       "\n",
       "    .dataframe thead th {\n",
       "        text-align: right;\n",
       "    }\n",
       "</style>\n",
       "<table border=\"1\" class=\"dataframe\">\n",
       "  <thead>\n",
       "    <tr style=\"text-align: right;\">\n",
       "      <th></th>\n",
       "      <th>timestamp</th>\n",
       "      <th>prices</th>\n",
       "      <th>market_caps</th>\n",
       "      <th>total_volumes</th>\n",
       "    </tr>\n",
       "  </thead>\n",
       "  <tbody>\n",
       "    <tr>\n",
       "      <th>count</th>\n",
       "      <td>2.890000e+02</td>\n",
       "      <td>289.000000</td>\n",
       "      <td>2.890000e+02</td>\n",
       "      <td>2.890000e+02</td>\n",
       "    </tr>\n",
       "    <tr>\n",
       "      <th>mean</th>\n",
       "      <td>1.670309e+12</td>\n",
       "      <td>16999.942868</td>\n",
       "      <td>3.268535e+11</td>\n",
       "      <td>2.132269e+10</td>\n",
       "    </tr>\n",
       "    <tr>\n",
       "      <th>std</th>\n",
       "      <td>2.506699e+07</td>\n",
       "      <td>37.784896</td>\n",
       "      <td>7.408229e+08</td>\n",
       "      <td>1.496800e+09</td>\n",
       "    </tr>\n",
       "    <tr>\n",
       "      <th>min</th>\n",
       "      <td>1.670266e+12</td>\n",
       "      <td>16906.824455</td>\n",
       "      <td>3.252692e+11</td>\n",
       "      <td>1.217099e+10</td>\n",
       "    </tr>\n",
       "    <tr>\n",
       "      <th>25%</th>\n",
       "      <td>1.670287e+12</td>\n",
       "      <td>16972.829422</td>\n",
       "      <td>3.263087e+11</td>\n",
       "      <td>2.035230e+10</td>\n",
       "    </tr>\n",
       "    <tr>\n",
       "      <th>50%</th>\n",
       "      <td>1.670309e+12</td>\n",
       "      <td>17003.090287</td>\n",
       "      <td>3.268934e+11</td>\n",
       "      <td>2.057074e+10</td>\n",
       "    </tr>\n",
       "    <tr>\n",
       "      <th>75%</th>\n",
       "      <td>1.670330e+12</td>\n",
       "      <td>17019.940648</td>\n",
       "      <td>3.272432e+11</td>\n",
       "      <td>2.276252e+10</td>\n",
       "    </tr>\n",
       "    <tr>\n",
       "      <th>max</th>\n",
       "      <td>1.670352e+12</td>\n",
       "      <td>17112.670094</td>\n",
       "      <td>3.289071e+11</td>\n",
       "      <td>2.356809e+10</td>\n",
       "    </tr>\n",
       "  </tbody>\n",
       "</table>\n",
       "</div>"
      ],
      "text/plain": [
       "          timestamp        prices   market_caps  total_volumes\n",
       "count  2.890000e+02    289.000000  2.890000e+02   2.890000e+02\n",
       "mean   1.670309e+12  16999.942868  3.268535e+11   2.132269e+10\n",
       "std    2.506699e+07     37.784896  7.408229e+08   1.496800e+09\n",
       "min    1.670266e+12  16906.824455  3.252692e+11   1.217099e+10\n",
       "25%    1.670287e+12  16972.829422  3.263087e+11   2.035230e+10\n",
       "50%    1.670309e+12  17003.090287  3.268934e+11   2.057074e+10\n",
       "75%    1.670330e+12  17019.940648  3.272432e+11   2.276252e+10\n",
       "max    1.670352e+12  17112.670094  3.289071e+11   2.356809e+10"
      ]
     },
     "execution_count": 78,
     "metadata": {},
     "output_type": "execute_result"
    }
   ],
   "source": [
    "df.describe()"
   ]
  },
  {
   "cell_type": "code",
   "execution_count": 79,
   "metadata": {},
   "outputs": [
    {
     "name": "stdout",
     "output_type": "stream",
     "text": [
      "<class 'pandas.core.frame.DataFrame'>\n",
      "RangeIndex: 289 entries, 0 to 288\n",
      "Data columns (total 4 columns):\n",
      " #   Column         Non-Null Count  Dtype  \n",
      "---  ------         --------------  -----  \n",
      " 0   timestamp      289 non-null    int64  \n",
      " 1   prices         289 non-null    float64\n",
      " 2   market_caps    289 non-null    float64\n",
      " 3   total_volumes  289 non-null    float64\n",
      "dtypes: float64(3), int64(1)\n",
      "memory usage: 9.2 KB\n"
     ]
    }
   ],
   "source": [
    "df.info()"
   ]
  },
  {
   "cell_type": "code",
   "execution_count": 80,
   "metadata": {},
   "outputs": [
    {
     "data": {
      "text/plain": [
       "0     1970-01-01 00:27:50.265658522\n",
       "1     1970-01-01 00:27:50.265888179\n",
       "2     1970-01-01 00:27:50.266200595\n",
       "3     1970-01-01 00:27:50.266507451\n",
       "4     1970-01-01 00:27:50.266799280\n",
       "                   ...             \n",
       "284   1970-01-01 00:27:50.350814308\n",
       "285   1970-01-01 00:27:50.351091674\n",
       "286   1970-01-01 00:27:50.351391890\n",
       "287   1970-01-01 00:27:50.351697075\n",
       "288   1970-01-01 00:27:50.351766000\n",
       "Name: timestamp, Length: 289, dtype: datetime64[ns]"
      ]
     },
     "execution_count": 80,
     "metadata": {},
     "output_type": "execute_result"
    }
   ],
   "source": [
    "pd.to_datetime(df['timestamp'])"
   ]
  },
  {
   "cell_type": "code",
   "execution_count": 81,
   "metadata": {},
   "outputs": [
    {
     "data": {
      "text/plain": [
       "0     1970-01-01 00:27:50.265658522\n",
       "1     1970-01-01 00:27:50.265888179\n",
       "2     1970-01-01 00:27:50.266200595\n",
       "3     1970-01-01 00:27:50.266507451\n",
       "4     1970-01-01 00:27:50.266799280\n",
       "                   ...             \n",
       "284   1970-01-01 00:27:50.350814308\n",
       "285   1970-01-01 00:27:50.351091674\n",
       "286   1970-01-01 00:27:50.351391890\n",
       "287   1970-01-01 00:27:50.351697075\n",
       "288   1970-01-01 00:27:50.351766000\n",
       "Name: timestamp, Length: 289, dtype: datetime64[ns]"
      ]
     },
     "execution_count": 81,
     "metadata": {},
     "output_type": "execute_result"
    }
   ],
   "source": [
    "pd.to_datetime(df['timestamp'], unit='ns')"
   ]
  },
  {
   "cell_type": "code",
   "execution_count": 82,
   "metadata": {},
   "outputs": [
    {
     "data": {
      "text/plain": [
       "0     2022-12-05 18:40:58.522\n",
       "1     2022-12-05 18:44:48.179\n",
       "2     2022-12-05 18:50:00.595\n",
       "3     2022-12-05 18:55:07.451\n",
       "4     2022-12-05 18:59:59.280\n",
       "                ...          \n",
       "284   2022-12-06 18:20:14.308\n",
       "285   2022-12-06 18:24:51.674\n",
       "286   2022-12-06 18:29:51.890\n",
       "287   2022-12-06 18:34:57.075\n",
       "288   2022-12-06 18:36:06.000\n",
       "Name: timestamp, Length: 289, dtype: datetime64[ns]"
      ]
     },
     "execution_count": 82,
     "metadata": {},
     "output_type": "execute_result"
    }
   ],
   "source": [
    "# unit = (D, s, ms, us, ns)\n",
    "\n",
    "pd.to_datetime(df['timestamp'], unit='ms')"
   ]
  },
  {
   "cell_type": "code",
   "execution_count": 83,
   "metadata": {},
   "outputs": [],
   "source": [
    "df['timestamp'] = pd.to_datetime(df['timestamp'], unit='ms')"
   ]
  },
  {
   "cell_type": "code",
   "execution_count": 84,
   "metadata": {},
   "outputs": [
    {
     "name": "stdout",
     "output_type": "stream",
     "text": [
      "<class 'pandas.core.frame.DataFrame'>\n",
      "RangeIndex: 289 entries, 0 to 288\n",
      "Data columns (total 4 columns):\n",
      " #   Column         Non-Null Count  Dtype         \n",
      "---  ------         --------------  -----         \n",
      " 0   timestamp      289 non-null    datetime64[ns]\n",
      " 1   prices         289 non-null    float64       \n",
      " 2   market_caps    289 non-null    float64       \n",
      " 3   total_volumes  289 non-null    float64       \n",
      "dtypes: datetime64[ns](1), float64(3)\n",
      "memory usage: 9.2 KB\n"
     ]
    }
   ],
   "source": [
    "df.info()"
   ]
  },
  {
   "cell_type": "code",
   "execution_count": 85,
   "metadata": {},
   "outputs": [
    {
     "data": {
      "text/html": [
       "<div>\n",
       "<style scoped>\n",
       "    .dataframe tbody tr th:only-of-type {\n",
       "        vertical-align: middle;\n",
       "    }\n",
       "\n",
       "    .dataframe tbody tr th {\n",
       "        vertical-align: top;\n",
       "    }\n",
       "\n",
       "    .dataframe thead th {\n",
       "        text-align: right;\n",
       "    }\n",
       "</style>\n",
       "<table border=\"1\" class=\"dataframe\">\n",
       "  <thead>\n",
       "    <tr style=\"text-align: right;\">\n",
       "      <th></th>\n",
       "      <th>timestamp</th>\n",
       "      <th>prices</th>\n",
       "      <th>market_caps</th>\n",
       "      <th>total_volumes</th>\n",
       "    </tr>\n",
       "  </thead>\n",
       "  <tbody>\n",
       "    <tr>\n",
       "      <th>0</th>\n",
       "      <td>2022-12-05 18:40:58.522</td>\n",
       "      <td>17101.594364</td>\n",
       "      <td>3.289071e+11</td>\n",
       "      <td>2.323854e+10</td>\n",
       "    </tr>\n",
       "    <tr>\n",
       "      <th>1</th>\n",
       "      <td>2022-12-05 18:44:48.179</td>\n",
       "      <td>17112.670094</td>\n",
       "      <td>3.287808e+11</td>\n",
       "      <td>2.331424e+10</td>\n",
       "    </tr>\n",
       "    <tr>\n",
       "      <th>2</th>\n",
       "      <td>2022-12-05 18:50:00.595</td>\n",
       "      <td>17089.786579</td>\n",
       "      <td>3.287808e+11</td>\n",
       "      <td>2.316855e+10</td>\n",
       "    </tr>\n",
       "    <tr>\n",
       "      <th>3</th>\n",
       "      <td>2022-12-05 18:55:07.451</td>\n",
       "      <td>17073.581262</td>\n",
       "      <td>3.285656e+11</td>\n",
       "      <td>2.312800e+10</td>\n",
       "    </tr>\n",
       "    <tr>\n",
       "      <th>4</th>\n",
       "      <td>2022-12-05 18:59:59.280</td>\n",
       "      <td>17070.092228</td>\n",
       "      <td>3.285656e+11</td>\n",
       "      <td>2.304364e+10</td>\n",
       "    </tr>\n",
       "  </tbody>\n",
       "</table>\n",
       "</div>"
      ],
      "text/plain": [
       "                timestamp        prices   market_caps  total_volumes\n",
       "0 2022-12-05 18:40:58.522  17101.594364  3.289071e+11   2.323854e+10\n",
       "1 2022-12-05 18:44:48.179  17112.670094  3.287808e+11   2.331424e+10\n",
       "2 2022-12-05 18:50:00.595  17089.786579  3.287808e+11   2.316855e+10\n",
       "3 2022-12-05 18:55:07.451  17073.581262  3.285656e+11   2.312800e+10\n",
       "4 2022-12-05 18:59:59.280  17070.092228  3.285656e+11   2.304364e+10"
      ]
     },
     "execution_count": 85,
     "metadata": {},
     "output_type": "execute_result"
    }
   ],
   "source": [
    "df.head()"
   ]
  },
  {
   "cell_type": "code",
   "execution_count": 86,
   "metadata": {},
   "outputs": [
    {
     "data": {
      "text/plain": [
       "Timestamp('2022-12-06 18:36:06')"
      ]
     },
     "execution_count": 86,
     "metadata": {},
     "output_type": "execute_result"
    }
   ],
   "source": [
    "df['timestamp'].max()"
   ]
  },
  {
   "cell_type": "code",
   "execution_count": 87,
   "metadata": {},
   "outputs": [
    {
     "data": {
      "text/html": [
       "<div>\n",
       "<style scoped>\n",
       "    .dataframe tbody tr th:only-of-type {\n",
       "        vertical-align: middle;\n",
       "    }\n",
       "\n",
       "    .dataframe tbody tr th {\n",
       "        vertical-align: top;\n",
       "    }\n",
       "\n",
       "    .dataframe thead th {\n",
       "        text-align: right;\n",
       "    }\n",
       "</style>\n",
       "<table border=\"1\" class=\"dataframe\">\n",
       "  <thead>\n",
       "    <tr style=\"text-align: right;\">\n",
       "      <th></th>\n",
       "      <th>prices</th>\n",
       "      <th>market_caps</th>\n",
       "      <th>total_volumes</th>\n",
       "    </tr>\n",
       "  </thead>\n",
       "  <tbody>\n",
       "    <tr>\n",
       "      <th>count</th>\n",
       "      <td>289.000000</td>\n",
       "      <td>2.890000e+02</td>\n",
       "      <td>2.890000e+02</td>\n",
       "    </tr>\n",
       "    <tr>\n",
       "      <th>mean</th>\n",
       "      <td>16999.942868</td>\n",
       "      <td>3.268535e+11</td>\n",
       "      <td>2.132269e+10</td>\n",
       "    </tr>\n",
       "    <tr>\n",
       "      <th>std</th>\n",
       "      <td>37.784896</td>\n",
       "      <td>7.408229e+08</td>\n",
       "      <td>1.496800e+09</td>\n",
       "    </tr>\n",
       "    <tr>\n",
       "      <th>min</th>\n",
       "      <td>16906.824455</td>\n",
       "      <td>3.252692e+11</td>\n",
       "      <td>1.217099e+10</td>\n",
       "    </tr>\n",
       "    <tr>\n",
       "      <th>25%</th>\n",
       "      <td>16972.829422</td>\n",
       "      <td>3.263087e+11</td>\n",
       "      <td>2.035230e+10</td>\n",
       "    </tr>\n",
       "    <tr>\n",
       "      <th>50%</th>\n",
       "      <td>17003.090287</td>\n",
       "      <td>3.268934e+11</td>\n",
       "      <td>2.057074e+10</td>\n",
       "    </tr>\n",
       "    <tr>\n",
       "      <th>75%</th>\n",
       "      <td>17019.940648</td>\n",
       "      <td>3.272432e+11</td>\n",
       "      <td>2.276252e+10</td>\n",
       "    </tr>\n",
       "    <tr>\n",
       "      <th>max</th>\n",
       "      <td>17112.670094</td>\n",
       "      <td>3.289071e+11</td>\n",
       "      <td>2.356809e+10</td>\n",
       "    </tr>\n",
       "  </tbody>\n",
       "</table>\n",
       "</div>"
      ],
      "text/plain": [
       "             prices   market_caps  total_volumes\n",
       "count    289.000000  2.890000e+02   2.890000e+02\n",
       "mean   16999.942868  3.268535e+11   2.132269e+10\n",
       "std       37.784896  7.408229e+08   1.496800e+09\n",
       "min    16906.824455  3.252692e+11   1.217099e+10\n",
       "25%    16972.829422  3.263087e+11   2.035230e+10\n",
       "50%    17003.090287  3.268934e+11   2.057074e+10\n",
       "75%    17019.940648  3.272432e+11   2.276252e+10\n",
       "max    17112.670094  3.289071e+11   2.356809e+10"
      ]
     },
     "execution_count": 87,
     "metadata": {},
     "output_type": "execute_result"
    }
   ],
   "source": [
    "df.describe()"
   ]
  },
  {
   "cell_type": "code",
   "execution_count": 88,
   "metadata": {},
   "outputs": [],
   "source": [
    "import matplotlib.pyplot as plt\n",
    "import seaborn as sns"
   ]
  },
  {
   "cell_type": "code",
   "execution_count": 89,
   "metadata": {},
   "outputs": [
    {
     "data": {
      "image/png": "[encoded data removed]",
      "text/plain": [
       "<Figure size 1152x576 with 1 Axes>"
      ]
     },
     "metadata": {
      "needs_background": "light"
     },
     "output_type": "display_data"
    }
   ],
   "source": [
    "plt.figure(figsize=(16, 8))\n",
    "\n",
    "sns.lineplot(x = 'timestamp', y = 'prices', data = df)\n",
    "\n",
    "plt.xticks(rotation = 45)\n",
    "\n",
    "plt.show()"
   ]
  }
 ],
 "metadata": {
  "kernelspec": {
   "display_name": "Python 3 (ipykernel)",
   "language": "python",
   "name": "python3"
  },
  "language_info": {
   "codemirror_mode": {
    "name": "ipython",
    "version": 3
   },
   "file_extension": ".py",
   "mimetype": "text/x-python",
   "name": "python",
   "nbconvert_exporter": "python",
   "pygments_lexer": "ipython3",
   "version": "3.9.12"
  },
  "toc": {
   "nav_menu": {},
   "number_sections": true,
   "sideBar": true,
   "skip_h1_title": false,
   "title_cell": "Table of Contents",
   "title_sidebar": "Contents",
   "toc_cell": false,
   "toc_position": {},
   "toc_section_display": true,
   "toc_window_display": false
  },
  "varInspector": {
   "cols": {
    "lenName": 16,
    "lenType": 16,
    "lenVar": 40
   },
   "kernels_config": {
    "python": {
     "delete_cmd_postfix": "",
     "delete_cmd_prefix": "del ",
     "library": "var_list.py",
     "varRefreshCmd": "print(var_dic_list())"
    },
    "r": {
     "delete_cmd_postfix": ") ",
     "delete_cmd_prefix": "rm(",
     "library": "var_list.r",
     "varRefreshCmd": "cat(var_dic_list()) "
    }
   },
   "types_to_exclude": [
    "module",
    "function",
    "builtin_function_or_method",
    "instance",
    "_Feature"
   ],
   "window_display": false
  }
 },
 "nbformat": 4,
 "nbformat_minor": 2
}
